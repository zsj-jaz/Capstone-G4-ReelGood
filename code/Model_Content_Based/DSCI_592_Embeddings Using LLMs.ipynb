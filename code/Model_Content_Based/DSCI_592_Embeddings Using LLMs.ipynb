{
 "cells": [
  {
   "cell_type": "markdown",
   "id": "ae880d2f-c78b-47a6-b939-ecdb4ffd113c",
   "metadata": {},
   "source": [
    "# DSCI 592: Capstone Project\n",
    "# Reel Good Movie Recommender System (Group 4)\n",
    "- By Alireza Hatami"
   ]
  },
  {
   "cell_type": "markdown",
   "id": "c3f79cfd-d0f9-4e38-a8bd-00285b3ef3cc",
   "metadata": {},
   "source": [
    "## 1. Embedding Generation Using LLMs"
   ]
  },
  {
   "cell_type": "markdown",
   "id": "f4c23268-09c3-40a4-a38c-9ff21721a1a0",
   "metadata": {},
   "source": [
    "### 1.1. Loading updated `model_df`"
   ]
  },
  {
   "cell_type": "code",
   "execution_count": null,
   "id": "c2d5815b-64c7-42ca-bfd7-28ac049c1e32",
   "metadata": {},
   "outputs": [],
   "source": [
    "import os\n",
    "import time\n",
    "import random\n",
    "import numpy as np\n",
    "import pandas as pd\n",
    "import matplotlib.pyplot as plt\n",
    "from tqdm import tqdm\n",
    "from joblib import Parallel, delayed\n",
    "from sentence_transformers import SentenceTransformer\n",
    "from sklearn.metrics.pairwise import cosine_similarity, euclidean_distances\n",
    "from sklearn.model_selection import train_test_split"
   ]
  },
  {
   "cell_type": "code",
   "execution_count": 25,
   "id": "23345060-3cc6-46f8-8090-bead03200481",
   "metadata": {},
   "outputs": [],
   "source": [
    "# Load datasets\n",
    "model_df = pd.read_csv('model_df.csv')\n",
    "genre_df = pd.read_csv('genre_df.csv') # From DSCI_592_Additional_Preprocessing.ipynb\n",
    "language_encoded = pd.read_csv('language_encoded.csv') # From DSCI_592_Additional_Preprocessing.ipynb\n",
    "df = pd.read_csv('cleaned_data.csv')"
   ]
  },
  {
   "cell_type": "markdown",
   "id": "982649af-d6fe-401c-a6f7-49696b5e0dd0",
   "metadata": {},
   "source": [
    "**Why Use LLM Embeddings?**\n",
    "- TF-IDF is purely based on word frequency.\n",
    "- LLM embeddings capture meaning, context, and relationships.\n",
    "- This is ideal for columns like overview, title, or even a full combined_text."
   ]
  },
  {
   "cell_type": "markdown",
   "id": "60a5056f-e190-4c06-95dc-9244324eba92",
   "metadata": {},
   "source": [
    "### 1.2. Embedding Textual Features like Title, Directors, Actors and Overviews of Movies"
   ]
  },
  {
   "cell_type": "code",
   "execution_count": 6,
   "id": "1e69b463-15fd-4192-8d2c-64d4fe3875c9",
   "metadata": {},
   "outputs": [],
   "source": [
    "def embed_and_save(df, column_name, output_prefix, save_dir='./embeddings', model_name='all-mpnet-base-v2'):\n",
    "    \"\"\"\n",
    "    Embeds a column of text using a SentenceTransformer and saves the result.\n",
    "\n",
    "    Args:\n",
    "        df (pd.DataFrame): Input dataframe.\n",
    "        column_name (str): Column to embed.\n",
    "        output_prefix (str): Filename prefix (e.g., 'title').\n",
    "        save_dir (str): Directory to save the .npy and model reference.\n",
    "        model_name (str): Pretrained model name for SentenceTransformer.\n",
    "    \"\"\"\n",
    "    os.makedirs(save_dir, exist_ok=True)\n",
    "    \n",
    "    print(f\"Embedding column: '{column_name}' using {model_name}...\")\n",
    "\n",
    "    model = SentenceTransformer(model_name)\n",
    "    texts = df[column_name].fillna('').astype(str).tolist()\n",
    "    embeddings = model.encode(texts, show_progress_bar=True, convert_to_numpy=True)\n",
    "\n",
    "    # Save the embeddings\n",
    "    save_path = os.path.join(save_dir, f'{output_prefix}_embeddings2.npy')\n",
    "    np.save(save_path, embeddings)\n",
    "\n",
    "    print(f\"Saved embeddings to {save_path} | Shape: {embeddings.shape}\")\n",
    "\n",
    "# Embedding the textual features\n",
    "embed_and_save(model_df, 'title', 'title')\n",
    "embed_and_save(model_df, 'director_clean', 'director')\n",
    "embed_and_save(model_df, 'actors_clean', 'actors')\n",
    "embed_and_save(model_df, 'overview', 'overview')"
   ]
  },
  {
   "cell_type": "markdown",
   "id": "9d3ae4eb-bda7-47d6-b347-b9d8e9652652",
   "metadata": {},
   "source": [
    "### 1.3. Stacking for LLM Embeddings"
   ]
  },
  {
   "cell_type": "code",
   "execution_count": 12,
   "id": "cb984559-8f8d-49b8-acdd-cfe3ffae7672",
   "metadata": {},
   "outputs": [
    {
     "name": "stdout",
     "output_type": "stream",
     "text": [
      "Final LLM matrix shape: (44880, 3114)\n"
     ]
    }
   ],
   "source": [
    "# Load embedding matrices (each shape: [44880, 768] or similar)\n",
    "title_emb = np.load('./embeddings/title_embeddings.npy')\n",
    "director_emb = np.load('./embeddings/director_embeddings.npy')\n",
    "actors_emb = np.load('./embeddings/actors_embeddings.npy')\n",
    "overview_emb = np.load('./embeddings/overview_embeddings.npy')\n",
    "\n",
    "# Load one-hot encodings\n",
    "language_encoded = pd.read_csv('language_encoded.csv').values  # shape: [44880, 11]\n",
    "genre_df = pd.read_csv('genre_df.csv').values                  # shape: [44880, 30]\n",
    "\n",
    "# Scaled year (convert to 2D array if needed)\n",
    "year_scaled = model_df[['year_scaled']].values                 # shape: [44880, 1]\n",
    "\n",
    "# Stack everything horizontally\n",
    "final_dense_matrix = np.hstack([\n",
    "    title_emb,\n",
    "    director_emb,\n",
    "    actors_emb,\n",
    "    overview_emb,\n",
    "    genre_df,\n",
    "    language_encoded,\n",
    "    year_scaled\n",
    "])\n",
    "\n",
    "print(\"Final LLM matrix shape:\", final_dense_matrix.shape)"
   ]
  },
  {
   "cell_type": "markdown",
   "id": "781689b9-acea-41b0-b176-6ec12c5cb61c",
   "metadata": {},
   "source": [
    "### 1.4. Save `final_dense_matrix` to a File:"
   ]
  },
  {
   "cell_type": "code",
   "execution_count": 31,
   "id": "3d090d4f-f679-40b9-8d6b-fd9ffcaaa00a",
   "metadata": {},
   "outputs": [
    {
     "name": "stdout",
     "output_type": "stream",
     "text": [
      "final_dense_matrix saved!\n"
     ]
    }
   ],
   "source": [
    "# # Save as .npy\n",
    "np.save('final_dense_matrix.npy', final_dense_matrix)\n",
    "\n",
    "print(\"final_dense_matrix saved!\")"
   ]
  },
  {
   "cell_type": "markdown",
   "id": "8f77d86b-dd04-43bd-94a9-f8fcbd361958",
   "metadata": {},
   "source": [
    "### 1.5. Load `final_dense_matrix`:"
   ]
  },
  {
   "cell_type": "code",
   "execution_count": 26,
   "id": "993c7a41-d70c-4364-b755-4f03eabc2780",
   "metadata": {},
   "outputs": [
    {
     "name": "stdout",
     "output_type": "stream",
     "text": [
      "final_dense_matrix loaded! (44880, 3114)\n"
     ]
    }
   ],
   "source": [
    "# Load from file\n",
    "final_dense_matrix = np.load('./embeddings/final_dense_matrix.npy')\n",
    "\n",
    "print(\"final_dense_matrix loaded!\", final_dense_matrix.shape)"
   ]
  },
  {
   "cell_type": "markdown",
   "id": "1f9e592a-3259-4a58-bf95-c7b437804575",
   "metadata": {},
   "source": [
    "### 1.6. Calculating the Similarity Between Movies"
   ]
  },
  {
   "cell_type": "code",
   "execution_count": 27,
   "id": "2d01ff45-422f-4c13-9d64-8c926a9a74fb",
   "metadata": {},
   "outputs": [],
   "source": [
    "def get_similar_movies(title, matrix, model_df, top_n=10):\n",
    "    \"\"\"\n",
    "    Retrieves the top-N most similar movies to the given title based on embedding similarity.\n",
    "\n",
    "    Args:\n",
    "        title (str): The title of the query movie.\n",
    "        matrix (np.ndarray): The embedding matrix where each row corresponds to a movie's vector representation.\n",
    "        model_df (pd.DataFrame): The DataFrame containing movie metadata \n",
    "        top_n (int): The number of most similar movies to return.\n",
    "\n",
    "    Returns:\n",
    "        pd.DataFrame: A DataFrame containing the top-N similar movies with metadata and similarity scores.\n",
    "    \"\"\"\n",
    "    # Find the index of the movie in the dataframe\n",
    "    idx = model_df[model_df['title'] == title].index[0]\n",
    "    \n",
    "    # Compute cosine similarity between the query movie and all others\n",
    "    sim_scores = cosine_similarity(matrix[idx].reshape(1, -1), matrix).flatten()\n",
    "    # Exclude the movie itself from the results by setting its score very low\n",
    "    sim_scores[idx] = -1\n",
    "    \n",
    "    # Replace lines 23 and 24 with lines 18 and 20 for calculating Euclidean distance\n",
    "    # sim_scores = -euclidean_distances(matrix[idx].reshape(1, -1), matrix).flatten()\n",
    "    # sim_scores[idx] = np.min(sim_scores) - 1\n",
    "    \n",
    "    # Get indices of top-N highest similarity scores\n",
    "    top_indices = np.argsort(sim_scores)[-top_n:][::-1]\n",
    "\n",
    "    # Retrieve metadata for the top-N similar movies\n",
    "    result_df = model_df.loc[top_indices, [\n",
    "        'title', 'director_clean', 'actors_clean', 'genres_clean', 'overview', 'original_language'\n",
    "    ]].copy()\n",
    "\n",
    "    # Add similarity scores to the result\n",
    "    result_df['score'] = sim_scores[top_indices]\n",
    "\n",
    "    # Add the release year from a secondary DataFrame `df`\n",
    "    result_df['year'] = result_df['title'].apply(\n",
    "        lambda t: df[df['title'] == t]['year'].values[0] if len(df[df['title'] == t]) > 0 else 'N/A'\n",
    "    )\n",
    "    \n",
    "    return result_df"
   ]
  },
  {
   "cell_type": "code",
   "execution_count": 28,
   "id": "dc3dc5fa-218e-4c2c-af46-e5ecd9b98822",
   "metadata": {},
   "outputs": [],
   "source": [
    "def print_movie_recommendations(similar_df, max_overview_len=300):\n",
    "    \"\"\"\n",
    "    Pretty prints movie recommendations with director, actors, and a short overview.\n",
    "\n",
    "    Args:\n",
    "        similar_df (pd.DataFrame): DataFrame from get_similar_movies().\n",
    "        max_overview_len (int): Max number of characters to show for overview.\n",
    "    \"\"\"   \n",
    "    for i, row in similar_df.iterrows():\n",
    "        print(f\" {row['title']} ({row['year']}) — Score: {row['score']:.4f}\")\n",
    "        print(f\"   Director: {row['director_clean']}\")\n",
    "        print(f\"   Actors: {row['actors_clean']}\")\n",
    "        print(f\"   Genres: {row['genres_clean']}\")\n",
    "        print(f\"   Overview: {row['overview'][:max_overview_len]}...\\n\")\n",
    "        print(\"-\"*60)"
   ]
  },
  {
   "cell_type": "code",
   "execution_count": 29,
   "id": "f40d2464-4642-43e7-a8a5-ff6c2d75d3b6",
   "metadata": {},
   "outputs": [
    {
     "name": "stdout",
     "output_type": "stream",
     "text": [
      " Toy Story 2 (1999) — Score: 0.9526\n",
      "   Director: John_Lasseter\n",
      "   Actors: Tom_Hanks Tim_Allen Joan_Cusack\n",
      "   Genres: ['Animation', 'Comedy', 'Family']\n",
      "   Overview: Andy heads off to Cowboy Camp, leaving his toys to their own devices. Things shift into high gear when an obsessive toy collector named Al McWhiggen, owner of Al's Toy Barn kidnaps Woody. Andy's toys mount a daring rescue mission, Buzz Lightyear meets his match and Woody has to decide where he and h...\n",
      "\n",
      "------------------------------------------------------------\n",
      " Toy Story 3 (2010) — Score: 0.8856\n",
      "   Director: Lee_Unkrich\n",
      "   Actors: Tom_Hanks Tim_Allen Ned_Beatty\n",
      "   Genres: ['Animation', 'Family', 'Comedy']\n",
      "   Overview: Woody, Buzz, and the rest of Andy's toys haven't been played with in years. With Andy about to go to college, the gang find themselves accidentally left at a nefarious day care center. The toys must band together to escape and return home to Andy....\n",
      "\n",
      "------------------------------------------------------------\n",
      " Toy Story of Terror! (2013) — Score: 0.8178\n",
      "   Director: Angus_MacLane\n",
      "   Actors: Tom_Hanks Tim_Allen Kristen_Schaal\n",
      "   Genres: ['Animation', 'Comedy', 'Family']\n",
      "   Overview: What starts out as a fun road trip for the Toy Story gang takes an unexpected turn for the worse when the trip detours to a roadside motel. After one of the toys goes missing, the others find themselves caught up in a mysterious sequence of events that must be solved before they all suffer the same ...\n",
      "\n",
      "------------------------------------------------------------\n",
      " Cars 2 (2011) — Score: 0.7952\n",
      "   Director: John_Lasseter\n",
      "   Actors: Owen_Wilson Larry_the_Cable_Guy Michael_Caine\n",
      "   Genres: ['Animation', 'Family', 'Adventure', 'Comedy']\n",
      "   Overview: Star race car Lightning McQueen and his pal Mater head overseas to compete in the World Grand Prix race. But the road to the championship becomes rocky as Mater gets caught up in an intriguing adventure of his own: international espionage....\n",
      "\n",
      "------------------------------------------------------------\n",
      " Cars (2006) — Score: 0.7783\n",
      "   Director: John_Lasseter\n",
      "   Actors: Owen_Wilson Paul_Newman Bonnie_Hunt\n",
      "   Genres: ['Animation', 'Adventure', 'Comedy', 'Family']\n",
      "   Overview: Lightning McQueen, a hotshot rookie race car driven to succeed, discovers that life is about the journey, not the finish line, when he finds himself unexpectedly detoured in the sleepy Route 66 town of Radiator Springs. On route across the country to the big Piston Cup Championship in California to ...\n",
      "\n",
      "------------------------------------------------------------\n",
      " Mickey's Once Upon a Christmas (1999) — Score: 0.7741\n",
      "   Director: Bradley_Raymond\n",
      "   Actors: Kelsey_Grammer Wayne_Allwine Russi_Taylor\n",
      "   Genres: ['Animation', 'Family', 'Comedy']\n",
      "   Overview: Mickey, Minnie, and their famous friends Goofy, Donald, Daisy and Pluto gather together to reminisce about the love, magic and surprises in three wonder-filled stories of Christmas past....\n",
      "\n",
      "------------------------------------------------------------\n",
      " Charlie Brown's Christmas Tales (2002) — Score: 0.7726\n",
      "   Director: Larry_Leichliter\n",
      "   Actors: Wesley_Singerman Serena_Berman Corey_Padnos\n",
      "   Genres: ['Comedy', 'Family', 'Animation']\n",
      "   Overview: Tis the season for the cheer and charm of the Peanuts kids - and this delight special offers five segments full of unforgettable moments. Snoopy works as a bell-ringer to raise money and tries making peace with the ferocious cat next door. Linus strives to strike the right tone in his letter to Sant...\n",
      "\n",
      "------------------------------------------------------------\n",
      " The Happy Elf (2005) — Score: 0.7716\n",
      "   Director: John_Rice\n",
      "   Actors: Harry_Connick_Jr. Mickey_Rooney Rob_Paulsen\n",
      "   Genres: ['Animation', 'Comedy', 'Family']\n",
      "   Overview: The Happy Elf is a 3D-animated family holiday special &amp; centres on the lovable character Eubie the Elf, whose quest is to bring Christmas joy to an entire town of naughty children in a gloomy little town called Bluesville....\n",
      "\n",
      "------------------------------------------------------------\n",
      " Hotel Transylvania 2 (2015) — Score: 0.7665\n",
      "   Director: Genndy_Tartakovsky\n",
      "   Actors: Adam_Sandler Andy_Samberg Selena_Gomez\n",
      "   Genres: ['Animation', 'Comedy', 'Family']\n",
      "   Overview: When the old-old-old-fashioned vampire Vlad arrives at the hotel for an impromptu family get-together, Hotel Transylvania is in for a collision of supernatural old-school and modern day cool....\n",
      "\n",
      "------------------------------------------------------------\n",
      " Tom and Jerry: The Fast and the Furry (2005) — Score: 0.7652\n",
      "   Director: Bill_Kopp\n",
      "   Actors: Charlie_Adler Jeff_Bennett John_DiMaggio\n",
      "   Genres: ['Family', 'Animation', 'Comedy']\n",
      "   Overview: After being evicted from their old house by Tom's owner for causing major damage, cat and mouse Tom and Jerry enter a race entitled the \"Fabulous Super Race\" to win a mansion....\n",
      "\n",
      "------------------------------------------------------------\n"
     ]
    }
   ],
   "source": [
    "print_movie_recommendations(get_similar_movies('Toy Story', final_dense_matrix, model_df, top_n=10))"
   ]
  },
  {
   "cell_type": "code",
   "execution_count": 30,
   "id": "0c6a6f32-6d6a-463d-bd58-3d55ff0cc334",
   "metadata": {},
   "outputs": [
    {
     "name": "stdout",
     "output_type": "stream",
     "text": [
      " The Matrix Revolutions (2003) — Score: 0.8200\n",
      "   Director: Lilly_Wachowski\n",
      "   Actors: Keanu_Reeves Laurence_Fishburne Carrie-Anne_Moss\n",
      "   Genres: ['Adventure', 'Action', 'Thriller', 'Science', 'Fiction']\n",
      "   Overview: The human city of Zion defends itself against the massive invasion of the machines as Neo fights to end the war at another front while also opposing the rogue Agent Smith....\n",
      "\n",
      "------------------------------------------------------------\n",
      " The Matrix Reloaded (2003) — Score: 0.8137\n",
      "   Director: Lilly_Wachowski\n",
      "   Actors: Keanu_Reeves Carrie-Anne_Moss Laurence_Fishburne\n",
      "   Genres: ['Adventure', 'Action', 'Thriller', 'Science', 'Fiction']\n",
      "   Overview: Six months after the events depicted in The Matrix, Neo has proved to be a good omen for the free humans, as more and more humans are being freed from the matrix and brought to Zion, the one and only stronghold of the Resistance.  Neo himself has discovered his superpowers including super speed, abi...\n",
      "\n",
      "------------------------------------------------------------\n",
      " I, Robot (2004) — Score: 0.7809\n",
      "   Director: Alex_Proyas\n",
      "   Actors: Will_Smith Bridget_Moynahan Alan_Tudyk\n",
      "   Genres: ['Action', 'Science', 'Fiction']\n",
      "   Overview: In 2035, where robots are common-place and abide by the three laws of robotics, a techno-phobic cop investigates an apparent suicide. Suspecting that a robot may be responsible for the death, his investigation leads him to believe that humanity may be in danger....\n",
      "\n",
      "------------------------------------------------------------\n",
      " Speed Racer (2008) — Score: 0.7742\n",
      "   Director: Lilly_Wachowski\n",
      "   Actors: Emile_Hirsch Christina_Ricci Matthew_Fox\n",
      "   Genres: ['Action', 'Family', 'Science', 'Fiction']\n",
      "   Overview: Speed Racer is the tale of a young and brilliant racing driver. When corruption in the racing leagues costs his brother his life, he must team up with the police and the mysterious Racer X to bring an end to the corruption and criminal activities. Inspired by the cartoon series....\n",
      "\n",
      "------------------------------------------------------------\n",
      " RoboCop (1987) — Score: 0.7681\n",
      "   Director: José_Padilha\n",
      "   Actors: Joel_Kinnaman Gary_Oldman Michael_Keaton\n",
      "   Genres: ['Action', 'Science', 'Fiction']\n",
      "   Overview: In RoboCop, the year is 2028 and multinational conglomerate OmniCorp is at the center of robot technology.  Overseas, their drones have been used by the military for years, but have been forbidden for law enforcement in America.  Now OmniCorp wants to bring their controversial technology to the home...\n",
      "\n",
      "------------------------------------------------------------\n",
      " Edge of Tomorrow (2014) — Score: 0.7681\n",
      "   Director: Doug_Liman\n",
      "   Actors: Tom_Cruise Emily_Blunt Brendan_Gleeson\n",
      "   Genres: ['Action', 'Science', 'Fiction']\n",
      "   Overview: Major Bill Cage is an officer who has never seen a day of combat when he is unceremoniously demoted and dropped into combat. Cage is killed within minutes, managing to take an alpha alien down with him. He awakens back at the beginning of the same day and is forced to fight and die again... and agai...\n",
      "\n",
      "------------------------------------------------------------\n",
      " The Chronicles of Riddick (2004) — Score: 0.7638\n",
      "   Director: David_Twohy\n",
      "   Actors: Vin_Diesel Thandie_Newton Karl_Urban\n",
      "   Genres: ['Action', 'Science', 'Fiction']\n",
      "   Overview: After years of outrunning ruthless bounty hunters, escaped convict Riddick suddenly finds himself caught between opposing forces in a fight for the future of the human race. Now, waging incredible battles on fantastic and deadly worlds, this lone, reluctant hero will emerge as humanity's champion - ...\n",
      "\n",
      "------------------------------------------------------------\n",
      " Escape from New York (1981) — Score: 0.7606\n",
      "   Director: John_Carpenter\n",
      "   Actors: Kurt_Russell Lee_Van_Cleef Ernest_Borgnine\n",
      "   Genres: ['Science', 'Fiction', 'Action']\n",
      "   Overview: In 1997, the island of Manhattan has been walled off and turned into a giant maximum security prison within which the country's worst criminals are left to form their own anarchic society. However, when the President of the United States crash lands on the island, the authorities turn to a former so...\n",
      "\n",
      "------------------------------------------------------------\n",
      " Transformers (2007) — Score: 0.7476\n",
      "   Director: Michael_Bay\n",
      "   Actors: Shia_LaBeouf Josh_Duhamel Megan_Fox\n",
      "   Genres: ['Adventure', 'Science', 'Fiction', 'Action']\n",
      "   Overview: Young teenager, Sam Witwicky becomes involved in the ancient struggle between two extraterrestrial factions of transforming robots – the heroic Autobots and the evil Decepticons. Sam holds the clue to unimaginable power and the Decepticons will stop at nothing to retrieve it....\n",
      "\n",
      "------------------------------------------------------------\n",
      " Rakka (2017) — Score: 0.7466\n",
      "   Director: Neill_Blomkamp\n",
      "   Actors: Sigourney_Weaver Eugene_Khumbanyiwa Robert_Hobbs\n",
      "   Genres: ['Action', 'Science', 'Fiction']\n",
      "   Overview: \"Rakka\" is the story of broken humanity following the invasion of a technologically superior alien species. Bleak harrowing and unrelenting, the humans we meet must find enough courage to go on fighting....\n",
      "\n",
      "------------------------------------------------------------\n"
     ]
    }
   ],
   "source": [
    "print_movie_recommendations(get_similar_movies('The Matrix', final_dense_matrix, model_df, top_n=10))"
   ]
  },
  {
   "cell_type": "markdown",
   "id": "cecf591c-4214-4e01-bb16-b755df33d6dc",
   "metadata": {},
   "source": [
    "   "
   ]
  },
  {
   "cell_type": "markdown",
   "id": "c03e0d6e-9762-402c-95b9-6871026f65d7",
   "metadata": {},
   "source": [
    "### 1.7. Performance Evaluation"
   ]
  },
  {
   "cell_type": "markdown",
   "id": "c869165d-72d8-4697-8d47-47f0647dff0d",
   "metadata": {},
   "source": [
    "The most relevant and feasible metrics for our current setup are:"
   ]
  },
  {
   "cell_type": "markdown",
   "id": "d78e17f3-5bf7-44bf-8321-3e9f8c08995e",
   "metadata": {},
   "source": [
    "**1. Precision@K**\n",
    "- Measures how many of the top-K recommended movies are actually relevant."
   ]
  },
  {
   "cell_type": "markdown",
   "id": "0ee3fa6a-8f61-4f59-99b5-0adf082c989f",
   "metadata": {},
   "source": [
    "**2. Recall@K**\n",
    "- Measures how many of the truly relevant movies were found among the top K results.\n",
    "\n",
    "- Recall is useful if we think missing good recommendations is worse than showing a few less perfect ones.\n",
    "\n",
    "**Note:**\n",
    "- To determine the relevance of recommendations in a dataset of 45,000 movies, relying solely on \"same genre\" can result in an artificially low recall. This is due to the large number of genre matches present across the dataset."
   ]
  },
  {
   "attachments": {
    "4b44b082-f00a-4653-90bb-4077c7049525.jpg": {
     "image/jpeg": "[encoded data removed]"
    }
   },
   "cell_type": "markdown",
   "id": "3be706ae-5b84-4490-bb00-9c5f1ebee07e",
   "metadata": {},
   "source": [
    "**3. Mean Reciprocal Rank (MRR)**\n",
    "- Looks at the rank position of the first relevant recommendation.\n",
    "​\n",
    " ![Mean Reciprocal Rank.jpg](attachment:4b44b082-f00a-4653-90bb-4077c7049525.jpg)\n",
    "- Higher is better. If a relevant movie appears in the first position, MRR = 1"
   ]
  },
  {
   "cell_type": "markdown",
   "id": "26225d3d-d1b2-447f-ac36-68ef379704d3",
   "metadata": {},
   "source": [
    "#### 1.7.1. `is_relevant()` Function"
   ]
  },
  {
   "cell_type": "code",
   "execution_count": 12,
   "id": "821cc9ce-7fb2-43ae-a5f5-3e301bd6353b",
   "metadata": {},
   "outputs": [],
   "source": [
    "def is_relevant(query_row, candidate_row):\n",
    "    \"\"\"\n",
    "    Determines whether a candidate movie is relevant to a query movie\n",
    "    based on metadata attributes such as language, director, genres, and actors.\n",
    "\n",
    "    Relevance Criteria (evaluated in order):\n",
    "        1. The original language must match.\n",
    "        2. The director is the same.\n",
    "        3. At least two genres overlap.\n",
    "        4. At least one actor is the same.\n",
    "\n",
    "    Args:\n",
    "        query_row (pd.Series): The row representing the query movie.\n",
    "        candidate_row (pd.Series): The row representing a potential similar movie.\n",
    "\n",
    "    Returns:\n",
    "        bool: True if the candidate movie is relevant to the query movie, False otherwise.\n",
    "    \"\"\"\n",
    "    \n",
    "    # 1. Language must match\n",
    "    if query_row['original_language'] != candidate_row['original_language']:\n",
    "        return False\n",
    "\n",
    "    # 2. Director match\n",
    "    if query_row['director_clean'] == candidate_row['director_clean']:\n",
    "        return True\n",
    "\n",
    "    # 3. At least 2 genres match\n",
    "    query_genres = set(eval(query_row['genres_clean']))\n",
    "    candidate_genres = set(eval(candidate_row['genres_clean']))\n",
    "    if len(query_genres.intersection(candidate_genres)) >= 2:\n",
    "        return True\n",
    "\n",
    "    # 4. At least 1 actor match\n",
    "    query_actors = set(query_row['actors_clean'].split())\n",
    "    candidate_actors = set(candidate_row['actors_clean'].split())\n",
    "    if len(query_actors.intersection(candidate_actors)) >= 1:\n",
    "        return True\n",
    "\n",
    "    # None matched\n",
    "    return False"
   ]
  },
  {
   "cell_type": "markdown",
   "id": "363f0208-4213-4dcf-b49f-798bd6e8e48f",
   "metadata": {},
   "source": [
    "#### 1.7.2. `Precision@K` Function\n",
    "\n",
    "How many of the top-K recommended movies are actually relevant?"
   ]
  },
  {
   "cell_type": "code",
   "execution_count": 13,
   "id": "236babd7-1588-4462-8623-66bf162433fb",
   "metadata": {},
   "outputs": [],
   "source": [
    "def precision_at_k(query_title, model_df, matrix, k=10):\n",
    "    \"\"\"\n",
    "    Calculates Precision@K for a given movie based on metadata similarity.\n",
    "\n",
    "    Precision@K is defined as the proportion of recommended items in the top K\n",
    "    that are relevant to the query item.\n",
    "\n",
    "    Args:\n",
    "        query_title (str): The title of the query movie.\n",
    "        model_df (pd.DataFrame): The DataFrame containing movie metadata.\n",
    "        matrix (np.ndarray or sparse matrix): The embedding or similarity matrix used for recommendations.\n",
    "        k (int): The number of top recommendations to consider (default is 10).\n",
    "\n",
    "    Returns:\n",
    "        float: Precision@K score (between 0 and 1).\n",
    "    \"\"\"\n",
    "    \n",
    "    idx = model_df[model_df['title'] == query_title].index[0]\n",
    "    query_row = model_df.iloc[idx]\n",
    "\n",
    "    # Get top-K recommended movies\n",
    "    recommended = get_similar_movies(query_title, matrix, model_df, top_n=k)\n",
    "\n",
    "    # Count how many of the top-K are relevant\n",
    "    relevant_count = 0\n",
    "    for _, candidate_row in recommended.iterrows():\n",
    "        if is_relevant(query_row, candidate_row):\n",
    "            relevant_count += 1\n",
    "\n",
    "    # Precision = relevant retrieved items / total retrieved items (k)\n",
    "    precision = relevant_count / k\n",
    "    \n",
    "    return precision"
   ]
  },
  {
   "cell_type": "markdown",
   "id": "1701f1ac-a33f-492d-b761-e451cbc88fbe",
   "metadata": {},
   "source": [
    "#### 1.7.3. `Recall@K` Function\n",
    "\n",
    "Out of all relevant movies in the full catalog, how many were retrieved in top K?"
   ]
  },
  {
   "cell_type": "markdown",
   "id": "14f828f5-0532-4c1b-a783-eb3dae8ed31d",
   "metadata": {},
   "source": [
    "Recall needs to know:\n",
    "\n",
    "- Total number of relevant movies across all 45,000.\n",
    "\n",
    "- Among those, how many did we retrieve."
   ]
  },
  {
   "cell_type": "code",
   "execution_count": 14,
   "id": "ab5d124c-d5f4-46c5-8f8c-96b05ffaf25a",
   "metadata": {},
   "outputs": [],
   "source": [
    "def recall_at_k(query_title, model_df, matrix, k=10):\n",
    "    \"\"\"\n",
    "    Calculates Recall@K for a given movie based on metadata similarity.\n",
    "\n",
    "    Recall@K is defined as the proportion of all relevant items that are \n",
    "    retrieved in the top K recommendations.\n",
    "\n",
    "    Args:\n",
    "        query_title (str): The title of the query movie.\n",
    "        model_df (pd.DataFrame): The DataFrame containing movie metadata.\n",
    "        matrix (np.ndarray or sparse matrix): The embedding or similarity matrix used for recommendations.\n",
    "        k (int): The number of top recommendations to consider (default is 10).\n",
    "\n",
    "    Returns:\n",
    "        float: Recall@K score (between 0 and 1). Returns 0.0 if there are no relevant items.\n",
    "    \"\"\"\n",
    "    \n",
    "    idx = model_df[model_df['title'] == query_title].index[0]\n",
    "    query_row = model_df.iloc[idx]\n",
    "\n",
    "    # Find all relevant movies in dataset\n",
    "    relevant_total = 0\n",
    "    for _, candidate_row in model_df.iterrows():\n",
    "        if is_relevant(query_row, candidate_row):\n",
    "            relevant_total += 1\n",
    "\n",
    "    # Prevent division by zero\n",
    "    if relevant_total == 0:\n",
    "        return 0.0\n",
    "\n",
    "    # Get top-k recommended\n",
    "    recommended = get_similar_movies(query_title, matrix, model_df, top_n=k)\n",
    "\n",
    "    relevant_in_topk = 0\n",
    "    for _, candidate_row in recommended.iterrows():\n",
    "        if is_relevant(query_row, candidate_row):\n",
    "            relevant_in_topk += 1\n",
    "\n",
    "    recall = relevant_in_topk / relevant_total\n",
    "    return recall"
   ]
  },
  {
   "cell_type": "markdown",
   "id": "2debe2c7-54a4-44d1-a669-50da292454b3",
   "metadata": {},
   "source": [
    "#### 1.7.4. `MRR@K (Mean Reciprocal Rank)`"
   ]
  },
  {
   "cell_type": "markdown",
   "id": "936ed73f-f0b0-4089-8eb5-8716fabfb520",
   "metadata": {},
   "source": [
    "At what rank does the first relevant movie appear? Earlier is better\n",
    "\n",
    "- \"How early did I show the user something they liked?\"\n",
    "- If our system shows a good result early ➔ MRR is high\n",
    "- If a user has to scroll a lot to find good stuff ➔ MRR is low"
   ]
  },
  {
   "cell_type": "code",
   "execution_count": 15,
   "id": "d21d25f4-a230-4fbe-8f4b-f18bf4e29fc3",
   "metadata": {},
   "outputs": [],
   "source": [
    "def mrr_at_k(query_title, model_df, matrix, k=10):\n",
    "    \"\"\"\n",
    "    Computes the Mean Reciprocal Rank (MRR@K) for a given query movie.\n",
    "\n",
    "    MRR@K measures how early the first relevant recommendation appears in \n",
    "    the top-K results. If no relevant movie is found in the top-K, the score is 0.\n",
    "\n",
    "    Args:\n",
    "        query_title (str): The title of the query movie.\n",
    "        model_df (pd.DataFrame): The DataFrame containing movie metadata.\n",
    "        matrix (np.ndarray or sparse matrix): The embedding or similarity matrix used for recommendations.\n",
    "        k (int): Number of top recommendations to consider (default is 10).\n",
    "\n",
    "    Returns:\n",
    "        float: MRR@K score (1/rank of the first relevant item, or 0.0 if none found).\n",
    "    \"\"\"\n",
    "    \n",
    "    idx = model_df[model_df['title'] == query_title].index[0]\n",
    "    query_row = model_df.iloc[idx]\n",
    "\n",
    "    recommended = get_similar_movies(query_title, matrix, model_df, top_n=k)\n",
    "\n",
    "    for rank, (_, candidate_row) in enumerate(recommended.iterrows(), start=1):\n",
    "        if is_relevant(query_row, candidate_row):\n",
    "            return 1 / rank  # Reciprocal Rank\n",
    "\n",
    "    return 0.0  # No relevant item found"
   ]
  },
  {
   "cell_type": "markdown",
   "id": "1387b173-f570-4ef3-8d43-65d3a33b3ddf",
   "metadata": {},
   "source": [
    "#### 1.7.5. `evaluate_multiple_queries()`"
   ]
  },
  {
   "cell_type": "code",
   "execution_count": 16,
   "id": "e886bcdb-dba5-47b7-a950-717b58f0b077",
   "metadata": {},
   "outputs": [],
   "source": [
    "def evaluate_multiple_queries(model_df, matrix, num_samples=100, k=10, seed=42):\n",
    "    \"\"\"\n",
    "    Evaluates recommendation quality across multiple random query movies using Precision@K, Recall@K, and MRR@K.\n",
    "\n",
    "    Args:\n",
    "        model_df (pd.DataFrame): The DataFrame containing metadata for all movies.\n",
    "        matrix (np.ndarray or sparse matrix): The embedding or similarity matrix for recommendations.\n",
    "        num_samples (int): Number of random movies to evaluate.\n",
    "        k (int): Number of top recommendations to consider for each metric (default is 10).\n",
    "        seed (int): Random seed for reproducibility (default is 42).\n",
    "\n",
    "    Returns:\n",
    "        tuple: Mean Precision@K, Recall@K, and MRR@K scores across the sampled queries.\n",
    "    \"\"\"\n",
    "    \n",
    "    random.seed(seed)  # for reproducibility\n",
    "\n",
    "    # Randomly pick num_samples titles\n",
    "    sample_titles = random.sample(list(model_df['title']), num_samples)\n",
    "\n",
    "    precisions = []\n",
    "    recalls = []\n",
    "    mrrs = []\n",
    "\n",
    "    for title in sample_titles:\n",
    "        try:\n",
    "            # Compute evaluation metrics for each sampled movie\n",
    "            precision = precision_at_k(title, model_df, matrix, k)\n",
    "            recall = recall_at_k(title, model_df, matrix, k)\n",
    "            mrr = mrr_at_k(title, model_df, matrix, k)\n",
    "\n",
    "            precisions.append(precision)\n",
    "            recalls.append(recall)\n",
    "            mrrs.append(mrr)\n",
    "        \n",
    "        except Exception as e:\n",
    "            print(f\"Skipping '{title}' due to error: {e}\")\n",
    "            continue\n",
    "\n",
    "    # Calculate mean metrics across all successful queries\n",
    "    mean_precision = sum(precisions) / len(precisions) if precisions else 0\n",
    "    mean_recall = sum(recalls) / len(recalls) if recalls else 0\n",
    "    mean_mrr = sum(mrrs) / len(mrrs) if mrrs else 0\n",
    "\n",
    "    print(f\"\\nEvaluation Results over {len(precisions)} movies:\")\n",
    "    print(f\"➡Mean Precision@{k}: {mean_precision:.4f}\")\n",
    "    print(f\"➡Mean Recall@{k}: {mean_recall:.4f}\")\n",
    "    print(f\"➡Mean MRR@{k}: {mean_mrr:.4f}\")\n",
    "\n",
    "    return mean_precision, mean_recall, mean_mrr"
   ]
  },
  {
   "cell_type": "markdown",
   "id": "dcb0b3c1-415d-48ea-9597-d573db00be0e",
   "metadata": {},
   "source": [
    "#### 1.7.6. Evaluatation `@5`, `@10` and `@20` Using Cosine Similarity"
   ]
  },
  {
   "cell_type": "code",
   "execution_count": 17,
   "id": "52773187-075e-44c7-bb9d-04900a2bf20f",
   "metadata": {},
   "outputs": [
    {
     "name": "stdout",
     "output_type": "stream",
     "text": [
      "\n",
      "Evaluation Results over 100 movies:\n",
      "➡Mean Precision@5: 0.7000\n",
      "➡Mean Recall@5: 0.0311\n",
      "➡Mean MRR@5: 0.7470\n"
     ]
    }
   ],
   "source": [
    "# Evaluate on 100 random movies, top-5 recommendations\n",
    "mean_precision, mean_recall, mean_mrr = evaluate_multiple_queries(model_df, final_dense_matrix, num_samples=100, k=5)"
   ]
  },
  {
   "cell_type": "code",
   "execution_count": 21,
   "id": "cab96146-9596-4696-ab20-130eb36a2e9b",
   "metadata": {},
   "outputs": [
    {
     "name": "stdout",
     "output_type": "stream",
     "text": [
      "\n",
      "Evaluation Results over 100 movies:\n",
      "➡Mean Precision@10: 0.6820\n",
      "➡Mean Recall@10: 0.0459\n",
      "➡Mean MRR@10: 0.7505\n"
     ]
    }
   ],
   "source": [
    "# Evaluate on 100 random movies, top-10 recommendations\n",
    "mean_precision, mean_recall, mean_mrr = evaluate_multiple_queries(model_df, final_dense_matrix, num_samples=100, k=10)"
   ]
  },
  {
   "cell_type": "code",
   "execution_count": 18,
   "id": "a230e5bd-6590-44b4-bbbb-8449b5b59079",
   "metadata": {},
   "outputs": [
    {
     "name": "stdout",
     "output_type": "stream",
     "text": [
      "\n",
      "Evaluation Results over 100 movies:\n",
      "➡Mean Precision@20: 0.6745\n",
      "➡Mean Recall@20: 0.0708\n",
      "➡Mean MRR@20: 0.7538\n"
     ]
    }
   ],
   "source": [
    "# Evaluate on 100 random movies, top-20 recommendations\n",
    "mean_precision, mean_recall, mean_mrr = evaluate_multiple_queries(model_df, final_dense_matrix, num_samples=100, k=20)"
   ]
  },
  {
   "cell_type": "markdown",
   "id": "d02188c2-9984-4d15-bd90-3ffdb06b9848",
   "metadata": {},
   "source": [
    " So, MRR tends to increase (or stay the same) as K increases,\n",
    "because we're expanding the window and may capture relevant items earlier in that larger range."
   ]
  },
  {
   "cell_type": "code",
   "execution_count": 31,
   "id": "7de67f51-6f43-4ac7-802f-2890c4df50d4",
   "metadata": {},
   "outputs": [
    {
     "data": {
      "image/png": "[encoded data removed]",
      "text/plain": [
       "<Figure size 800x500 with 1 Axes>"
      ]
     },
     "metadata": {},
     "output_type": "display_data"
    }
   ],
   "source": [
    "# Example values — replace these with your real results\n",
    "k_values = [5, 10, 20]\n",
    "precision_values = [0.7000, 0.6820, 0.6745]  # from your evaluation\n",
    "mrr_values = [0.7470, 0.7505, 0.7538]\n",
    "\n",
    "# Create the plot\n",
    "plt.figure(figsize=(8, 5))\n",
    "\n",
    "# Plot Precision\n",
    "plt.plot(k_values, precision_values, marker='o', label='Precision@K')\n",
    "\n",
    "# Plot MRR\n",
    "plt.plot(k_values, mrr_values, marker='s', label='MRR@K')\n",
    "\n",
    "# Customize the plot\n",
    "plt.title('Precision and MRR with Different K')\n",
    "plt.xlabel('K (Number of Recommendations)')\n",
    "plt.ylabel('Score')\n",
    "plt.xticks(k_values)\n",
    "plt.ylim(0, 1.05)\n",
    "plt.grid(True)\n",
    "plt.legend()\n",
    "plt.tight_layout()\n",
    "\n",
    "plt.show()"
   ]
  },
  {
   "cell_type": "markdown",
   "id": "6b4c1ba5-dd66-47be-967b-cc718c172365",
   "metadata": {},
   "source": [
    "    "
   ]
  },
  {
   "cell_type": "markdown",
   "id": "3e90ed4c-656d-497e-bf66-c8796f43ab33",
   "metadata": {},
   "source": [
    "#### 1.7.7. Exploring Euclidean Distance as a Similarity Metric"
   ]
  },
  {
   "cell_type": "code",
   "execution_count": 39,
   "id": "cdbf71e5-db8f-41c0-a726-a5b27c07ac09",
   "metadata": {},
   "outputs": [
    {
     "name": "stdout",
     "output_type": "stream",
     "text": [
      "\n",
      "Evaluation Results over 100 movies:\n",
      "➡Mean Precision@5: 0.7060\n",
      "➡Mean Recall@5: 0.0366\n",
      "➡Mean MRR@5: 0.7853\n"
     ]
    }
   ],
   "source": [
    "# Evaluate on 100 random movies, top-5 recommendations\n",
    "mean_precision, mean_recall, mean_mrr = evaluate_multiple_queries(model_df, final_dense_matrix, num_samples=100, k=5, seed=1)"
   ]
  },
  {
   "cell_type": "code",
   "execution_count": 17,
   "id": "93e3275f-8de9-4417-afac-1a699974c626",
   "metadata": {},
   "outputs": [
    {
     "name": "stdout",
     "output_type": "stream",
     "text": [
      "\n",
      "Evaluation Results over 100 movies:\n",
      "➡Mean Precision@5: 0.7040\n",
      "➡Mean Recall@5: 0.0299\n",
      "➡Mean MRR@5: 0.7545\n"
     ]
    }
   ],
   "source": [
    "# Evaluate on 100 random movies, top-5 recommendations\n",
    "mean_precision, mean_recall, mean_mrr = evaluate_multiple_queries(model_df, final_dense_matrix, num_samples=100, k=5)"
   ]
  },
  {
   "cell_type": "code",
   "execution_count": 18,
   "id": "a7b0502c-4206-4108-a109-04b6164456ce",
   "metadata": {},
   "outputs": [
    {
     "name": "stdout",
     "output_type": "stream",
     "text": [
      "\n",
      "Evaluation Results over 100 movies:\n",
      "➡Mean Precision@10: 0.6910\n",
      "➡Mean Recall@10: 0.0496\n",
      "➡Mean MRR@10: 0.7593\n"
     ]
    }
   ],
   "source": [
    "# Evaluate on 100 random movies, top-10 recommendations\n",
    "mean_precision, mean_recall, mean_mrr = evaluate_multiple_queries(model_df, final_dense_matrix, num_samples=100, k=10)"
   ]
  },
  {
   "cell_type": "code",
   "execution_count": 19,
   "id": "a984e146-d387-4506-9db2-2e227c4f731d",
   "metadata": {},
   "outputs": [
    {
     "name": "stdout",
     "output_type": "stream",
     "text": [
      "\n",
      "Evaluation Results over 100 movies:\n",
      "➡Mean Precision@20: 0.6720\n",
      "➡Mean Recall@20: 0.0695\n",
      "➡Mean MRR@20: 0.7606\n"
     ]
    }
   ],
   "source": [
    "# Evaluate on 100 random movies, top-20 recommendations\n",
    "mean_precision, mean_recall, mean_mrr = evaluate_multiple_queries(model_df, final_dense_matrix, num_samples=100, k=20)"
   ]
  },
  {
   "cell_type": "code",
   "execution_count": 20,
   "id": "902828c8-e4bb-4a03-8db4-823393cda2b1",
   "metadata": {},
   "outputs": [],
   "source": [
    "# Summary of the Results\n",
    "k_values = [5, 10, 20]\n",
    "\n",
    "cosine_metrics = {\n",
    "    'P': [0.7000, 0.6820, 0.6745],\n",
    "    'R': [0.0311, 0.0459, 0.0708],\n",
    "    'MRR': [0.7470, 0.7505, 0.7538]\n",
    "}\n",
    "\n",
    "\n",
    "euclidean_metrics = {\n",
    "    'P': [0.7040, 0.6910, 0.6720],\n",
    "    'R': [0.0299, 0.0496, 0.0695],\n",
    "    'MRR': [0.7545, 0.7593, 0.7606]}"
   ]
  },
  {
   "cell_type": "code",
   "execution_count": 21,
   "id": "27d1c866-1521-4986-a850-b8f0b15eb2cb",
   "metadata": {},
   "outputs": [],
   "source": [
    "def plot_comparison(cosine_metrics, euclidean_metrics, k_values):\n",
    "    \"\"\"\n",
    "    Plots a side-by-side comparison of evaluation metrics (Precision@K, Recall@K, MRR@K)\n",
    "    between Cosine and Euclidean similarity measures over different values of K.\n",
    "\n",
    "    Args:\n",
    "        cosine_metrics (dict): Dictionary containing 'P', 'R', and 'MRR' lists for Cosine similarity.\n",
    "        euclidean_metrics (dict): Dictionary containing 'P', 'R', and 'MRR' lists for Euclidean distance.\n",
    "        k_values (list): List of K values corresponding to each metric score.\n",
    "    \"\"\"\n",
    "    \n",
    "    metrics = ['P', 'R', 'MRR']\n",
    "    labels = ['Precision@K', 'Recall@K', 'MRR@K']\n",
    "    \n",
    "    plt.figure(figsize=(12, 5))\n",
    "    \n",
    "    for i, metric in enumerate(metrics):\n",
    "        plt.subplot(1, 3, i + 1)\n",
    "        plt.plot(k_values, cosine_metrics[metric], marker='o', label='Cosine')\n",
    "        plt.plot(k_values, euclidean_metrics[metric], marker='s', label='Euclidean')\n",
    "        plt.title(labels[i])\n",
    "        plt.xlabel('K')\n",
    "        plt.ylabel('Score')\n",
    "        plt.xticks(k_values)\n",
    "        plt.ylim(0, 1.05)\n",
    "        plt.grid(True)\n",
    "        plt.legend()\n",
    "\n",
    "    plt.tight_layout()\n",
    "    plt.show()"
   ]
  },
  {
   "cell_type": "code",
   "execution_count": 22,
   "id": "709fc5ff-219b-4178-a63f-2544cdfb228a",
   "metadata": {},
   "outputs": [
    {
     "data": {
      "image/png": "[encoded data removed]",
      "text/plain": [
       "<Figure size 1200x500 with 3 Axes>"
      ]
     },
     "metadata": {},
     "output_type": "display_data"
    }
   ],
   "source": [
    "plot_comparison(cosine_metrics, euclidean_metrics, k_values)"
   ]
  },
  {
   "cell_type": "markdown",
   "id": "9e563420-2acf-41b3-8fc3-77abfb14ec10",
   "metadata": {},
   "source": [
    "------------------------------"
   ]
  },
  {
   "cell_type": "markdown",
   "id": "276dd469-69e6-4eb5-a7f0-ae0820b66cba",
   "metadata": {},
   "source": [
    "## 2. Embedding Generation Using `all-MiniLM-L6-v2` "
   ]
  },
  {
   "cell_type": "markdown",
   "id": "508b66f8-dfe6-4033-a914-30538acb6d4e",
   "metadata": {},
   "source": [
    "### 2.1. Embedding Textual Features like Title, Directors, Actors and Overviews of Movies"
   ]
  },
  {
   "cell_type": "code",
   "execution_count": 40,
   "id": "1ae1c6dc-c96b-453f-9922-d174050ba0a0",
   "metadata": {},
   "outputs": [],
   "source": [
    "def embed_and_save_small(df, column_name, output_prefix, save_dir='./embeddings', model_name='all-MiniLM-L6-v2'):\n",
    "    \"\"\"\n",
    "    Embeds a column of text using a SentenceTransformer and saves the result.\n",
    "\n",
    "    Args:\n",
    "        df (pd.DataFrame): Input dataframe.\n",
    "        column_name (str): Column to embed.\n",
    "        output_prefix (str): Filename prefix (e.g., 'title').\n",
    "        save_dir (str): Directory to save the .npy and model reference.\n",
    "        model_name (str): Pretrained model name for SentenceTransformer.\n",
    "    \"\"\"\n",
    "    os.makedirs(save_dir, exist_ok=True)\n",
    "    \n",
    "    print(f\"Embedding column: '{column_name}' using {model_name}...\")\n",
    "\n",
    "    model = SentenceTransformer(model_name)\n",
    "    texts = df[column_name].fillna('').astype(str).tolist()\n",
    "    embeddings = model.encode(texts, show_progress_bar=True, convert_to_numpy=True)\n",
    "\n",
    "    # Save the embeddings\n",
    "    save_path = os.path.join(save_dir, f'{output_prefix}_embeddings_small.npy')\n",
    "    np.save(save_path, embeddings)\n",
    "\n",
    "    print(f\"Saved embeddings to {save_path} | Shape: {embeddings.shape}\")\n",
    "\n",
    "# Embedding the textual features\n",
    "embed_and_save(model_df, 'title', 'title')\n",
    "embed_and_save(model_df, 'director_clean', 'director')\n",
    "embed_and_save(model_df, 'actors_clean', 'actors')\n",
    "embed_and_save(model_df, 'overview', 'overview')"
   ]
  },
  {
   "cell_type": "markdown",
   "id": "a8b62924-f7df-4713-931e-e62f99986a81",
   "metadata": {},
   "source": [
    "We can load the results (if created before), and stack everything horizontally:"
   ]
  },
  {
   "cell_type": "code",
   "execution_count": 45,
   "id": "7ad32cd2-9288-441f-8887-57c20e1b6675",
   "metadata": {},
   "outputs": [
    {
     "name": "stdout",
     "output_type": "stream",
     "text": [
      "Final LLM matrix shape: (44880, 1578)\n"
     ]
    }
   ],
   "source": [
    "# Load embedding matrices (each shape: [44880, 768] or similar)\n",
    "title_emb_small = np.load('./embeddings/title_embeddings_small.npy')\n",
    "director_emb_small = np.load('./embeddings/director_embeddings_small.npy')\n",
    "actors_emb_small = np.load('./embeddings/actors_embeddings_small.npy')\n",
    "overview_emb_small = np.load('./embeddings/overview_embeddings_small.npy')\n",
    "\n",
    "# Load one-hot encodings\n",
    "language_encoded = pd.read_csv('language_encoded.csv').values  # shape: [44880, 11]\n",
    "genre_df = pd.read_csv('genre_df.csv').values                  # shape: [44880, 30]\n",
    "\n",
    "# Scaled year (convert to 2D array if needed)\n",
    "year_scaled = model_df[['year_scaled']].values                 # shape: [44880, 1]\n",
    "\n",
    "# Stack everything horizontally\n",
    "final_dense_matrix_small = np.hstack([\n",
    "    title_emb_small,\n",
    "    director_emb_small,\n",
    "    actors_emb_small,\n",
    "    overview_emb_small,\n",
    "    genre_df,\n",
    "    language_encoded,\n",
    "    year_scaled\n",
    "])\n",
    "\n",
    "print(\"Final LLM matrix shape:\", final_dense_matrix_small.shape)"
   ]
  },
  {
   "cell_type": "code",
   "execution_count": 46,
   "id": "846012a4-ee1a-4b90-8855-2e63602e9054",
   "metadata": {},
   "outputs": [
    {
     "name": "stdout",
     "output_type": "stream",
     "text": [
      "final_dense_matrix_small saved!\n"
     ]
    }
   ],
   "source": [
    "# # import numpy as np\n",
    "\n",
    "# # Save as .npy\n",
    "# np.save('./embeddings/final_dense_matrix_small.npy', final_dense_matrix_small)\n",
    "\n",
    "# print(\"final_dense_matrix_small saved!\")"
   ]
  },
  {
   "cell_type": "markdown",
   "id": "e1c00bc9-c081-4213-93b3-5826bcd9affe",
   "metadata": {},
   "source": [
    "### 2.2. Load `final_dense_matrix_small`:"
   ]
  },
  {
   "cell_type": "code",
   "execution_count": 31,
   "id": "b8353489-5346-47e9-a519-9ecff4650fba",
   "metadata": {},
   "outputs": [
    {
     "name": "stdout",
     "output_type": "stream",
     "text": [
      "final_dense_matrix_small loaded! (44880, 1578)\n"
     ]
    }
   ],
   "source": [
    "# import numpy as np\n",
    "\n",
    "# Load from file\n",
    "final_dense_matrix_small = np.load('./embeddings/final_dense_matrix_small.npy')\n",
    "\n",
    "print(\"final_dense_matrix_small loaded!\", final_dense_matrix_small.shape)"
   ]
  },
  {
   "cell_type": "markdown",
   "id": "93084f09-52b4-4213-ae82-70316941678c",
   "metadata": {},
   "source": [
    "### 2.3. Calculating the Similarities"
   ]
  },
  {
   "cell_type": "code",
   "execution_count": 35,
   "id": "ef8a63e9-6074-4c79-8d44-6c6989969ced",
   "metadata": {},
   "outputs": [],
   "source": [
    "def get_similar_movies(title, matrix, model_df, top_n=10):\n",
    "    \"\"\"\n",
    "    Retrieves the top-N most similar movies to a given title based on a similarity matrix.\n",
    "\n",
    "    Args:\n",
    "        title (str): The title of the query movie.\n",
    "        matrix (np.ndarray): Dense matrix containing embeddings for all movies.\n",
    "        model_df (pd.DataFrame): DataFrame containing metadata for the movies, including 'title'.\n",
    "        top_n (int): Number of similar movies to return.\n",
    "\n",
    "    Returns:\n",
    "        pd.DataFrame: A DataFrame of the top-N similar movies with metadata and similarity scores.\n",
    "    \"\"\"\n",
    "    \n",
    "    idx = model_df[model_df['title'] == title].index[0]\n",
    "    sim_scores = cosine_similarity(matrix[idx].reshape(1, -1), matrix).flatten()\n",
    "    sim_scores[idx] = -1 \n",
    "    # sim_scores = -euclidean_distances(matrix[idx].reshape(1, -1), matrix).flatten() # why -? Euclidean Distance = lower means more similar\n",
    "    # sim_scores[idx] = np.min(sim_scores) - 1\n",
    "    top_indices = np.argsort(sim_scores)[-top_n:][::-1]\n",
    "\n",
    "    result_df = model_df.loc[top_indices, [\n",
    "        'title', 'director_clean', 'actors_clean', 'genres_clean', 'overview', 'original_language'\n",
    "    ]].copy()\n",
    "    result_df['score'] = sim_scores[top_indices]\n",
    "\n",
    "    result_df['year'] = result_df['title'].apply(\n",
    "        lambda t: df[df['title'] == t]['year'].values[0] if len(df[df['title'] == t]) > 0 else 'N/A'\n",
    "    )\n",
    "    \n",
    "    return result_df"
   ]
  },
  {
   "cell_type": "code",
   "execution_count": 36,
   "id": "e92dda9f-a4af-4964-a5d9-7d7992b09a60",
   "metadata": {},
   "outputs": [],
   "source": [
    "def print_movie_recommendations(similar_df, max_overview_len=300):\n",
    "    \"\"\"\n",
    "    Pretty prints movie recommendations with director, actors, and a short overview.\n",
    "\n",
    "    Args:\n",
    "        similar_df (pd.DataFrame): DataFrame from get_similar_movies().\n",
    "        max_overview_len (int): Max number of characters to show for overview.\n",
    "    \"\"\"   \n",
    "    for i, row in similar_df.iterrows():\n",
    "        print(f\" {row['title']} ({row['year']}) — Score: {row['score']:.4f}\")\n",
    "        print(f\"   Director: {row['director_clean']}\")\n",
    "        print(f\"   Actors: {row['actors_clean']}\")\n",
    "        print(f\"   Genres: {row['genres_clean']}\")\n",
    "        print(f\"   Overview: {row['overview'][:max_overview_len]}...\\n\")\n",
    "        print(\"-\"*60)"
   ]
  },
  {
   "cell_type": "code",
   "execution_count": 37,
   "id": "b892f9df-b2e0-47f5-aaca-4c877d001b6c",
   "metadata": {},
   "outputs": [
    {
     "name": "stdout",
     "output_type": "stream",
     "text": [
      " Toy Story 2 (1999) — Score: 0.9329\n",
      "   Director: John_Lasseter\n",
      "   Actors: Tom_Hanks Tim_Allen Joan_Cusack\n",
      "   Genres: ['Animation', 'Comedy', 'Family']\n",
      "   Overview: Andy heads off to Cowboy Camp, leaving his toys to their own devices. Things shift into high gear when an obsessive toy collector named Al McWhiggen, owner of Al's Toy Barn kidnaps Woody. Andy's toys mount a daring rescue mission, Buzz Lightyear meets his match and Woody has to decide where he and h...\n",
      "\n",
      "------------------------------------------------------------\n",
      " Toy Story 3 (2010) — Score: 0.8506\n",
      "   Director: Lee_Unkrich\n",
      "   Actors: Tom_Hanks Tim_Allen Ned_Beatty\n",
      "   Genres: ['Animation', 'Family', 'Comedy']\n",
      "   Overview: Woody, Buzz, and the rest of Andy's toys haven't been played with in years. With Andy about to go to college, the gang find themselves accidentally left at a nefarious day care center. The toys must band together to escape and return home to Andy....\n",
      "\n",
      "------------------------------------------------------------\n",
      " Toy Story of Terror! (2013) — Score: 0.8051\n",
      "   Director: Angus_MacLane\n",
      "   Actors: Tom_Hanks Tim_Allen Kristen_Schaal\n",
      "   Genres: ['Animation', 'Comedy', 'Family']\n",
      "   Overview: What starts out as a fun road trip for the Toy Story gang takes an unexpected turn for the worse when the trip detours to a roadside motel. After one of the toys goes missing, the others find themselves caught up in a mysterious sequence of events that must be solved before they all suffer the same ...\n",
      "\n",
      "------------------------------------------------------------\n",
      " Cars (2006) — Score: 0.7391\n",
      "   Director: John_Lasseter\n",
      "   Actors: Owen_Wilson Paul_Newman Bonnie_Hunt\n",
      "   Genres: ['Animation', 'Adventure', 'Comedy', 'Family']\n",
      "   Overview: Lightning McQueen, a hotshot rookie race car driven to succeed, discovers that life is about the journey, not the finish line, when he finds himself unexpectedly detoured in the sleepy Route 66 town of Radiator Springs. On route across the country to the big Piston Cup Championship in California to ...\n",
      "\n",
      "------------------------------------------------------------\n",
      " Cars 2 (2011) — Score: 0.7369\n",
      "   Director: John_Lasseter\n",
      "   Actors: Owen_Wilson Larry_the_Cable_Guy Michael_Caine\n",
      "   Genres: ['Animation', 'Family', 'Adventure', 'Comedy']\n",
      "   Overview: Star race car Lightning McQueen and his pal Mater head overseas to compete in the World Grand Prix race. But the road to the championship becomes rocky as Mater gets caught up in an intriguing adventure of his own: international espionage....\n",
      "\n",
      "------------------------------------------------------------\n",
      " An Extremely Goofy Movie (2000) — Score: 0.7349\n",
      "   Director: Douglas_McCarthy\n",
      "   Actors: Bill_Farmer Jason_Marsden Pauly_Shore\n",
      "   Genres: ['Animation', 'Family', 'Comedy']\n",
      "   Overview: It's all extreme sports and a life of freedom as Max sets off for college -- but Goofy misses Max so much he loses his job and goes to finish college alongside Max and his friends. But as Goofy tries to get closer to Max, both must go to the extreme to learn how to live their own lives together....\n",
      "\n",
      "------------------------------------------------------------\n",
      " Toy Story That Time Forgot (2014) — Score: 0.7254\n",
      "   Director: Steve_Purcell\n",
      "   Actors: Tom_Hanks Tim_Allen Joan_Cusack\n",
      "   Genres: ['Animation', 'Family']\n",
      "   Overview: During a post-Christmas play date, the gang find themselves in uncharted territory when the coolest set of action figures ever turn out to be dangerously delusional. It's all up to Trixie, the triceratops, if the gang hopes to return to Bonnie's room in this Toy Story That Time Forgot....\n",
      "\n",
      "------------------------------------------------------------\n",
      " The Happy Elf (2005) — Score: 0.7210\n",
      "   Director: John_Rice\n",
      "   Actors: Harry_Connick_Jr. Mickey_Rooney Rob_Paulsen\n",
      "   Genres: ['Animation', 'Comedy', 'Family']\n",
      "   Overview: The Happy Elf is a 3D-animated family holiday special &amp; centres on the lovable character Eubie the Elf, whose quest is to bring Christmas joy to an entire town of naughty children in a gloomy little town called Bluesville....\n",
      "\n",
      "------------------------------------------------------------\n",
      " A Bug's Life (1998) — Score: 0.7169\n",
      "   Director: John_Lasseter\n",
      "   Actors: Kevin_Spacey Julia_Louis-Dreyfus Hayden_Panettiere\n",
      "   Genres: ['Adventure', 'Animation', 'Comedy', 'Family']\n",
      "   Overview: On behalf of \"oppressed bugs everywhere,\" an inventive ant named Flik hires a troupe of warrior bugs to defend his bustling colony from a horde of freeloading grasshoppers led by the evil-minded Hopper....\n",
      "\n",
      "------------------------------------------------------------\n",
      " Charlie Brown's Christmas Tales (2002) — Score: 0.7129\n",
      "   Director: Larry_Leichliter\n",
      "   Actors: Wesley_Singerman Serena_Berman Corey_Padnos\n",
      "   Genres: ['Comedy', 'Family', 'Animation']\n",
      "   Overview: Tis the season for the cheer and charm of the Peanuts kids - and this delight special offers five segments full of unforgettable moments. Snoopy works as a bell-ringer to raise money and tries making peace with the ferocious cat next door. Linus strives to strike the right tone in his letter to Sant...\n",
      "\n",
      "------------------------------------------------------------\n"
     ]
    }
   ],
   "source": [
    "print_movie_recommendations(get_similar_movies('Toy Story', final_dense_matrix_small, model_df, top_n=10))"
   ]
  },
  {
   "cell_type": "code",
   "execution_count": 38,
   "id": "9a10f0c7-d5a3-45c7-8b62-0ceef41a6e97",
   "metadata": {},
   "outputs": [
    {
     "name": "stdout",
     "output_type": "stream",
     "text": [
      " The Matrix Reloaded (2003) — Score: 0.7963\n",
      "   Director: Lilly_Wachowski\n",
      "   Actors: Keanu_Reeves Carrie-Anne_Moss Laurence_Fishburne\n",
      "   Genres: ['Adventure', 'Action', 'Thriller', 'Science', 'Fiction']\n",
      "   Overview: Six months after the events depicted in The Matrix, Neo has proved to be a good omen for the free humans, as more and more humans are being freed from the matrix and brought to Zion, the one and only stronghold of the Resistance.  Neo himself has discovered his superpowers including super speed, abi...\n",
      "\n",
      "------------------------------------------------------------\n",
      " The Matrix Revolutions (2003) — Score: 0.7904\n",
      "   Director: Lilly_Wachowski\n",
      "   Actors: Keanu_Reeves Laurence_Fishburne Carrie-Anne_Moss\n",
      "   Genres: ['Adventure', 'Action', 'Thriller', 'Science', 'Fiction']\n",
      "   Overview: The human city of Zion defends itself against the massive invasion of the machines as Neo fights to end the war at another front while also opposing the rogue Agent Smith....\n",
      "\n",
      "------------------------------------------------------------\n",
      " The Shepherd (1999) — Score: 0.7319\n",
      "   Director: Peter_Hayman\n",
      "   Actors: C._Thomas_Howell Roddy_Piper David_Carradine\n",
      "   Genres: ['Action', 'Science', 'Fiction']\n",
      "   Overview: aka Cybercity It's the year 2017, the Earth's surface is destroyed and its citizens flee to an underground wasteland ruled by warring religious cults. In this sinful cybercity, Mercenary Dakota's (C. Thomas Howell) family is murdered by a perverse virtual prophet (Roddy Piper) bent on world dominati...\n",
      "\n",
      "------------------------------------------------------------\n",
      " Lawnmower Man 2: Beyond Cyberspace (1996) — Score: 0.7249\n",
      "   Director: Farhad_Mann\n",
      "   Actors: Patrick_Bergin Matt_Frewer Austin_O'Brien\n",
      "   Genres: ['Action', 'Science', 'Fiction']\n",
      "   Overview: Jobe is resuscitated by Jonathan Walker. He wants Jobe to create a special computer chip that would connect all the computers in the world into one network, which Walker would control and use. But what Walker doesn't realize is a group of teenage hackers are on to him and out to stop his plan....\n",
      "\n",
      "------------------------------------------------------------\n",
      " I, Robot (2004) — Score: 0.7153\n",
      "   Director: Alex_Proyas\n",
      "   Actors: Will_Smith Bridget_Moynahan Alan_Tudyk\n",
      "   Genres: ['Action', 'Science', 'Fiction']\n",
      "   Overview: In 2035, where robots are common-place and abide by the three laws of robotics, a techno-phobic cop investigates an apparent suicide. Suspecting that a robot may be responsible for the death, his investigation leads him to believe that humanity may be in danger....\n",
      "\n",
      "------------------------------------------------------------\n",
      " Cyborg Cop II (1994) — Score: 0.7136\n",
      "   Director: Sam_Firstenberg\n",
      "   Actors: David_Bradley Morgan_Hunter Jill_Pierce\n",
      "   Genres: ['Action', 'Science', 'Fiction']\n",
      "   Overview: A fancy, loner cop loses his partner to a crazed terrorist during a hostage rescue. He settles for the terrorist going to Death Row in jail. What Jack doesn't know is that the terrorist will be taken and turned into a cyborg for the \"Anti-Terrorist Group\". When the Cyborg \"Spartacus\" wakes up accide...\n",
      "\n",
      "------------------------------------------------------------\n",
      " Andron (2015) — Score: 0.7123\n",
      "   Director: Francesco_Cinquemani\n",
      "   Actors: Alec_Baldwin Michelle_Ryan Danny_Glover\n",
      "   Genres: ['Action', 'Science', 'Fiction']\n",
      "   Overview: A group of people are plunged into a dark, claustrophobic maze, where they must fight to survive, as the outside world watches....\n",
      "\n",
      "------------------------------------------------------------\n",
      " Future War (1997) — Score: 0.7118\n",
      "   Director: Anthony_Doublin\n",
      "   Actors: Daniel_Bernhardt Robert_Z'Dar Travis_Brooks_Stewart\n",
      "   Genres: ['Action', 'Science', 'Fiction']\n",
      "   Overview: A runaway human slave from Earth's future escapes to the present day....\n",
      "\n",
      "------------------------------------------------------------\n",
      " Edge of Tomorrow (2014) — Score: 0.7102\n",
      "   Director: Doug_Liman\n",
      "   Actors: Tom_Cruise Emily_Blunt Brendan_Gleeson\n",
      "   Genres: ['Action', 'Science', 'Fiction']\n",
      "   Overview: Major Bill Cage is an officer who has never seen a day of combat when he is unceremoniously demoted and dropped into combat. Cage is killed within minutes, managing to take an alpha alien down with him. He awakens back at the beginning of the same day and is forced to fight and die again... and agai...\n",
      "\n",
      "------------------------------------------------------------\n",
      " Ice Soldiers (2013) — Score: 0.7091\n",
      "   Director: Sturla_Gunnarsson\n",
      "   Actors: Dominic_Purcell Adam_Beach Michael_Ironside\n",
      "   Genres: ['Action', 'Science', 'Fiction']\n",
      "   Overview: A scientist discovers the bodies of three frozen genetically modified Russians buried in the Canadian North. Upon thawing them out he realizes he has unleashed a deadly threat to Western society and must stop them at all costs....\n",
      "\n",
      "------------------------------------------------------------\n"
     ]
    }
   ],
   "source": [
    "print_movie_recommendations(get_similar_movies('The Matrix', final_dense_matrix_small, model_df, top_n=10))"
   ]
  },
  {
   "cell_type": "markdown",
   "id": "4c49857d-7f08-46b1-b7c4-a567d98f213b",
   "metadata": {},
   "source": [
    "#### 2.3.1 Evaluating the MiniML Model for `@5`, `@10` and `@20` Using Cosine Similarity"
   ]
  },
  {
   "cell_type": "code",
   "execution_count": 32,
   "id": "2786bdb0-d0bc-4683-9bca-1353ae7b4afa",
   "metadata": {},
   "outputs": [
    {
     "name": "stdout",
     "output_type": "stream",
     "text": [
      "\n",
      "Evaluation Results over 100 movies:\n",
      "➡Mean Precision@5: 0.7140\n",
      "➡Mean Recall@5: 0.0416\n",
      "➡Mean MRR@5: 0.7760\n"
     ]
    }
   ],
   "source": [
    "# Evaluate on 100 random movies, top-5 recommendations\n",
    "mean_precision, mean_recall, mean_mrr = evaluate_multiple_queries(model_df, final_dense_matrix_small, num_samples=100, k=5)"
   ]
  },
  {
   "cell_type": "code",
   "execution_count": 27,
   "id": "0d58b873-1390-4278-8a04-78e928ff199f",
   "metadata": {},
   "outputs": [
    {
     "name": "stdout",
     "output_type": "stream",
     "text": [
      "\n",
      "Evaluation Results over 100 movies:\n",
      "➡Mean Precision@10: 0.6930\n",
      "➡Mean Recall@10: 0.0528\n",
      "➡Mean MRR@10: 0.7793\n"
     ]
    }
   ],
   "source": [
    "# Evaluate on 100 random movies, top-10 recommendations\n",
    "mean_precision, mean_recall, mean_mrr = evaluate_multiple_queries(model_df, final_dense_matrix_small, num_samples=100, k=10)"
   ]
  },
  {
   "cell_type": "code",
   "execution_count": 33,
   "id": "0ad5a3a5-aad8-410e-8f36-17a6e7e07baf",
   "metadata": {},
   "outputs": [
    {
     "name": "stdout",
     "output_type": "stream",
     "text": [
      "\n",
      "Evaluation Results over 100 movies:\n",
      "➡Mean Precision@20: 0.6775\n",
      "➡Mean Recall@20: 0.0733\n",
      "➡Mean MRR@20: 0.7798\n"
     ]
    }
   ],
   "source": [
    "# Evaluate on 100 random movies, top-20 recommendations\n",
    "mean_precision, mean_recall, mean_mrr = evaluate_multiple_queries(model_df, final_dense_matrix_small, num_samples=100, k=20)"
   ]
  },
  {
   "cell_type": "markdown",
   "id": "ae167ccc-bba7-4722-ac8f-8394e0c6e56f",
   "metadata": {},
   "source": [
    "#### 2.3.2 Exploring Euclidean Distance as a Similarity Metric"
   ]
  },
  {
   "cell_type": "code",
   "execution_count": 27,
   "id": "e51bd4bb-0b8c-4480-adb9-5aae14cc3b35",
   "metadata": {},
   "outputs": [
    {
     "name": "stdout",
     "output_type": "stream",
     "text": [
      "\n",
      "Evaluation Results over 100 movies:\n",
      "➡Mean Precision@5: 0.7180\n",
      "➡Mean Recall@5: 0.0421\n",
      "➡Mean MRR@5: 0.7715\n"
     ]
    }
   ],
   "source": [
    "# Evaluate on 100 random movies, top-5 recommendations\n",
    "mean_precision, mean_recall, mean_mrr = evaluate_multiple_queries(model_df, final_dense_matrix_small, num_samples=100, k=5)"
   ]
  },
  {
   "cell_type": "code",
   "execution_count": 28,
   "id": "f0490cbe-033a-4ca3-98e5-e0e73924a4e2",
   "metadata": {},
   "outputs": [
    {
     "name": "stdout",
     "output_type": "stream",
     "text": [
      "\n",
      "Evaluation Results over 100 movies:\n",
      "➡Mean Precision@10: 0.6930\n",
      "➡Mean Recall@10: 0.0531\n",
      "➡Mean MRR@10: 0.7715\n"
     ]
    }
   ],
   "source": [
    "# Evaluate on 100 random movies, top-10 recommendations\n",
    "mean_precision, mean_recall, mean_mrr = evaluate_multiple_queries(model_df, final_dense_matrix_small, num_samples=100, k=10)"
   ]
  },
  {
   "cell_type": "code",
   "execution_count": 29,
   "id": "2c81ad94-803d-46cf-9e2e-17c07cb606e9",
   "metadata": {},
   "outputs": [
    {
     "name": "stdout",
     "output_type": "stream",
     "text": [
      "\n",
      "Evaluation Results over 100 movies:\n",
      "➡Mean Precision@20: 0.6710\n",
      "➡Mean Recall@20: 0.0736\n",
      "➡Mean MRR@20: 0.7736\n"
     ]
    }
   ],
   "source": [
    "# Evaluate on 100 random movies, top-20 recommendations\n",
    "mean_precision, mean_recall, mean_mrr = evaluate_multiple_queries(model_df, final_dense_matrix_small, num_samples=100, k=20)"
   ]
  },
  {
   "cell_type": "code",
   "execution_count": 42,
   "id": "d4cab2e0-963a-4922-932f-67fd2a281912",
   "metadata": {},
   "outputs": [
    {
     "data": {
      "image/png": "[encoded data removed]",
      "text/plain": [
       "<Figure size 1200x500 with 3 Axes>"
      ]
     },
     "metadata": {},
     "output_type": "display_data"
    }
   ],
   "source": [
    "# Summary of the results\n",
    "cosine_metrics_minilm = {\n",
    "    'P': [0.7140, 0.6930, 0.6775],\n",
    "    'R': [0.0416, 0.0528, 0.0733],\n",
    "    'MRR': [0.7760, 0.7793, 0.7798]\n",
    "}\n",
    "\n",
    "euclidean_metrics_minilm = {\n",
    "    'P': [0.7180, 0.6930, 0.6710],\n",
    "    'R': [0.0421, 0.0531, 0.0736],\n",
    "    'MRR': [0.7715, 0.7715, 0.7736]\n",
    "}\n",
    "\n",
    "# Then reuse your existing function\n",
    "plot_comparison(cosine_metrics_minilm, euclidean_metrics_minilm, k_values=[5, 10, 20]) # The function is defined in previous sections (1.7.7.)"
   ]
  },
  {
   "cell_type": "markdown",
   "id": "ca384910-fcf2-4939-b936-7ddaa8b52060",
   "metadata": {},
   "source": [
    "Since we have 45000 movies, it will take a lot of computational power to calculate precision on every single item (we have about 45000 movies). So, the strategy to evaluate all movies includes:\n",
    "\n",
    "1. Batch Processing: Split the movie dataset into manageable chunks (e.g., 100–500 movies per batch) and process each batch independently.\n",
    "2. Caching Expensive Computations: Reuse similarity vectors instead of re-computing. If you’re always calculating similarity between a single movie and all others, keep the sparse matrix in memory, and slice once per iteration.\n",
    "3. Avoid DataFrame Iteration\n",
    "4. Instead of iterating rows with `.iterrows()`, vectorize operations wherever possible or minimize expensive loops.\n",
    "5. Use `joblib.Parallel` to Leverage All CPU Cores: This significantly reduces compute time."
   ]
  },
  {
   "cell_type": "code",
   "execution_count": 3,
   "id": "e0f5dfcf-3573-4f42-9831-c06eae9085b4",
   "metadata": {
    "scrolled": true
   },
   "outputs": [
    {
     "name": "stdout",
     "output_type": "stream",
     "text": [
      "Skipping batch 0–100, already done.\n",
      "Skipping batch 100–200, already done.\n",
      "Skipping batch 200–300, already done.\n",
      "Skipping batch 300–400, already done.\n",
      "Skipping batch 400–500, already done.\n",
      "Skipping batch 500–600, already done.\n",
      "Skipping batch 600–700, already done.\n",
      "Skipping batch 700–800, already done.\n",
      "Skipping batch 800–900, already done.\n",
      "Skipping batch 900–1000, already done.\n",
      "Skipping batch 1000–1100, already done.\n",
      "Skipping batch 1100–1200, already done.\n",
      "Skipping batch 1200–1300, already done.\n",
      "Skipping batch 1300–1400, already done.\n",
      "Processing movies 1400 to 1500...\n",
      "Saved batch 1400–1500 in 106.7 sec. Total done: 1500\n",
      "Processing movies 1500 to 1600...\n",
      "Saved batch 1500–1600 in 66.4 sec. Total done: 1600\n",
      "Processing movies 1600 to 1700...\n",
      "Saved batch 1600–1700 in 64.6 sec. Total done: 1700\n",
      "Processing movies 1700 to 1800...\n",
      "Saved batch 1700–1800 in 64.9 sec. Total done: 1800\n",
      "Processing movies 1800 to 1900...\n",
      "Saved batch 1800–1900 in 64.7 sec. Total done: 1900\n",
      "Processing movies 1900 to 2000...\n",
      "Saved batch 1900–2000 in 63.7 sec. Total done: 2000\n",
      "Processing movies 2000 to 2100...\n",
      "Saved batch 2000–2100 in 63.6 sec. Total done: 2100\n",
      "Processing movies 2100 to 2200...\n",
      "Saved batch 2100–2200 in 63.9 sec. Total done: 2200\n",
      "Processing movies 2200 to 2300...\n",
      "Saved batch 2200–2300 in 63.7 sec. Total done: 2300\n",
      "Processing movies 2300 to 2400...\n",
      "Saved batch 2300–2400 in 63.6 sec. Total done: 2400\n",
      "Processing movies 2400 to 2500...\n"
     ]
    },
    {
     "ename": "KeyboardInterrupt",
     "evalue": "",
     "output_type": "error",
     "traceback": [
      "\u001b[1;31m---------------------------------------------------------------------------\u001b[0m",
      "\u001b[1;31mKeyboardInterrupt\u001b[0m                         Traceback (most recent call last)",
      "Cell \u001b[1;32mIn[3], line 83\u001b[0m\n\u001b[0;32m     80\u001b[0m \u001b[38;5;28mprint\u001b[39m(\u001b[38;5;124mf\u001b[39m\u001b[38;5;124m\"\u001b[39m\u001b[38;5;124mProcessing movies \u001b[39m\u001b[38;5;132;01m{\u001b[39;00mstart\u001b[38;5;132;01m}\u001b[39;00m\u001b[38;5;124m to \u001b[39m\u001b[38;5;132;01m{\u001b[39;00mend\u001b[38;5;132;01m}\u001b[39;00m\u001b[38;5;124m...\u001b[39m\u001b[38;5;124m\"\u001b[39m)\n\u001b[0;32m     81\u001b[0m start_time \u001b[38;5;241m=\u001b[39m time\u001b[38;5;241m.\u001b[39mtime()\n\u001b[1;32m---> 83\u001b[0m batch_results \u001b[38;5;241m=\u001b[39m Parallel(n_jobs\u001b[38;5;241m=\u001b[39m\u001b[38;5;241m-\u001b[39m\u001b[38;5;241m1\u001b[39m)(\n\u001b[0;32m     84\u001b[0m     delayed(evaluate_one_movie)(i) \u001b[38;5;28;01mfor\u001b[39;00m i \u001b[38;5;129;01min\u001b[39;00m batch_indices\n\u001b[0;32m     85\u001b[0m )\n\u001b[0;32m     87\u001b[0m batch_results \u001b[38;5;241m=\u001b[39m [res \u001b[38;5;28;01mfor\u001b[39;00m res \u001b[38;5;129;01min\u001b[39;00m batch_results \u001b[38;5;28;01mif\u001b[39;00m res[\u001b[38;5;241m2\u001b[39m] \u001b[38;5;129;01mis\u001b[39;00m \u001b[38;5;129;01mnot\u001b[39;00m \u001b[38;5;28;01mNone\u001b[39;00m]  \u001b[38;5;66;03m# Filter out failures\u001b[39;00m\n\u001b[0;32m     88\u001b[0m save_batch_results(batch_results, SAVE_PATH)\n",
      "File \u001b[1;32m~\\anaconda3\\Lib\\site-packages\\joblib\\parallel.py:1098\u001b[0m, in \u001b[0;36mParallel.__call__\u001b[1;34m(self, iterable)\u001b[0m\n\u001b[0;32m   1095\u001b[0m     \u001b[38;5;28mself\u001b[39m\u001b[38;5;241m.\u001b[39m_iterating \u001b[38;5;241m=\u001b[39m \u001b[38;5;28;01mFalse\u001b[39;00m\n\u001b[0;32m   1097\u001b[0m \u001b[38;5;28;01mwith\u001b[39;00m \u001b[38;5;28mself\u001b[39m\u001b[38;5;241m.\u001b[39m_backend\u001b[38;5;241m.\u001b[39mretrieval_context():\n\u001b[1;32m-> 1098\u001b[0m     \u001b[38;5;28mself\u001b[39m\u001b[38;5;241m.\u001b[39mretrieve()\n\u001b[0;32m   1099\u001b[0m \u001b[38;5;66;03m# Make sure that we get a last message telling us we are done\u001b[39;00m\n\u001b[0;32m   1100\u001b[0m elapsed_time \u001b[38;5;241m=\u001b[39m time\u001b[38;5;241m.\u001b[39mtime() \u001b[38;5;241m-\u001b[39m \u001b[38;5;28mself\u001b[39m\u001b[38;5;241m.\u001b[39m_start_time\n",
      "File \u001b[1;32m~\\anaconda3\\Lib\\site-packages\\joblib\\parallel.py:975\u001b[0m, in \u001b[0;36mParallel.retrieve\u001b[1;34m(self)\u001b[0m\n\u001b[0;32m    973\u001b[0m \u001b[38;5;28;01mtry\u001b[39;00m:\n\u001b[0;32m    974\u001b[0m     \u001b[38;5;28;01mif\u001b[39;00m \u001b[38;5;28mgetattr\u001b[39m(\u001b[38;5;28mself\u001b[39m\u001b[38;5;241m.\u001b[39m_backend, \u001b[38;5;124m'\u001b[39m\u001b[38;5;124msupports_timeout\u001b[39m\u001b[38;5;124m'\u001b[39m, \u001b[38;5;28;01mFalse\u001b[39;00m):\n\u001b[1;32m--> 975\u001b[0m         \u001b[38;5;28mself\u001b[39m\u001b[38;5;241m.\u001b[39m_output\u001b[38;5;241m.\u001b[39mextend(job\u001b[38;5;241m.\u001b[39mget(timeout\u001b[38;5;241m=\u001b[39m\u001b[38;5;28mself\u001b[39m\u001b[38;5;241m.\u001b[39mtimeout))\n\u001b[0;32m    976\u001b[0m     \u001b[38;5;28;01melse\u001b[39;00m:\n\u001b[0;32m    977\u001b[0m         \u001b[38;5;28mself\u001b[39m\u001b[38;5;241m.\u001b[39m_output\u001b[38;5;241m.\u001b[39mextend(job\u001b[38;5;241m.\u001b[39mget())\n",
      "File \u001b[1;32m~\\anaconda3\\Lib\\site-packages\\joblib\\_parallel_backends.py:567\u001b[0m, in \u001b[0;36mLokyBackend.wrap_future_result\u001b[1;34m(future, timeout)\u001b[0m\n\u001b[0;32m    564\u001b[0m \u001b[38;5;250m\u001b[39m\u001b[38;5;124;03m\"\"\"Wrapper for Future.result to implement the same behaviour as\u001b[39;00m\n\u001b[0;32m    565\u001b[0m \u001b[38;5;124;03mAsyncResults.get from multiprocessing.\"\"\"\u001b[39;00m\n\u001b[0;32m    566\u001b[0m \u001b[38;5;28;01mtry\u001b[39;00m:\n\u001b[1;32m--> 567\u001b[0m     \u001b[38;5;28;01mreturn\u001b[39;00m future\u001b[38;5;241m.\u001b[39mresult(timeout\u001b[38;5;241m=\u001b[39mtimeout)\n\u001b[0;32m    568\u001b[0m \u001b[38;5;28;01mexcept\u001b[39;00m CfTimeoutError \u001b[38;5;28;01mas\u001b[39;00m e:\n\u001b[0;32m    569\u001b[0m     \u001b[38;5;28;01mraise\u001b[39;00m \u001b[38;5;167;01mTimeoutError\u001b[39;00m \u001b[38;5;28;01mfrom\u001b[39;00m \u001b[38;5;21;01me\u001b[39;00m\n",
      "File \u001b[1;32m~\\anaconda3\\Lib\\concurrent\\futures\\_base.py:451\u001b[0m, in \u001b[0;36mFuture.result\u001b[1;34m(self, timeout)\u001b[0m\n\u001b[0;32m    448\u001b[0m \u001b[38;5;28;01melif\u001b[39;00m \u001b[38;5;28mself\u001b[39m\u001b[38;5;241m.\u001b[39m_state \u001b[38;5;241m==\u001b[39m FINISHED:\n\u001b[0;32m    449\u001b[0m     \u001b[38;5;28;01mreturn\u001b[39;00m \u001b[38;5;28mself\u001b[39m\u001b[38;5;241m.\u001b[39m__get_result()\n\u001b[1;32m--> 451\u001b[0m \u001b[38;5;28mself\u001b[39m\u001b[38;5;241m.\u001b[39m_condition\u001b[38;5;241m.\u001b[39mwait(timeout)\n\u001b[0;32m    453\u001b[0m \u001b[38;5;28;01mif\u001b[39;00m \u001b[38;5;28mself\u001b[39m\u001b[38;5;241m.\u001b[39m_state \u001b[38;5;129;01min\u001b[39;00m [CANCELLED, CANCELLED_AND_NOTIFIED]:\n\u001b[0;32m    454\u001b[0m     \u001b[38;5;28;01mraise\u001b[39;00m CancelledError()\n",
      "File \u001b[1;32m~\\anaconda3\\Lib\\threading.py:327\u001b[0m, in \u001b[0;36mCondition.wait\u001b[1;34m(self, timeout)\u001b[0m\n\u001b[0;32m    325\u001b[0m \u001b[38;5;28;01mtry\u001b[39;00m:    \u001b[38;5;66;03m# restore state no matter what (e.g., KeyboardInterrupt)\u001b[39;00m\n\u001b[0;32m    326\u001b[0m     \u001b[38;5;28;01mif\u001b[39;00m timeout \u001b[38;5;129;01mis\u001b[39;00m \u001b[38;5;28;01mNone\u001b[39;00m:\n\u001b[1;32m--> 327\u001b[0m         waiter\u001b[38;5;241m.\u001b[39macquire()\n\u001b[0;32m    328\u001b[0m         gotit \u001b[38;5;241m=\u001b[39m \u001b[38;5;28;01mTrue\u001b[39;00m\n\u001b[0;32m    329\u001b[0m     \u001b[38;5;28;01melse\u001b[39;00m:\n",
      "\u001b[1;31mKeyboardInterrupt\u001b[0m: "
     ]
    }
   ],
   "source": [
    "# CONFIG\n",
    "BATCH_SIZE = 100\n",
    "TOP_K = 10\n",
    "SAVE_PATH = \"evaluation_precision_mrr_llm.csv\"\n",
    "\n",
    "# Load data\n",
    "model_df = pd.read_csv(\"model_df.csv\")  # Must contain all relevant columns\n",
    "final_matrix = np.load('./embeddings/final_dense_matrix.npy')  # You can replace this matrix with the output of another LLM's Matrix\n",
    "\n",
    "# is_relevant() stays the same\n",
    "def is_relevant(query_row, candidate_row):\n",
    "    \"\"\"\n",
    "    Determines if a candidate movie is relevant to the query movie based on:\n",
    "    1. Language match (must match)\n",
    "    2. Same director (optional relevance)\n",
    "    3. At least 2 overlapping genres\n",
    "    4. At least 1 shared actor\n",
    "    \"\"\"\n",
    "    \n",
    "    if query_row['original_language'] != candidate_row['original_language']:\n",
    "        return False\n",
    "    if query_row['director_clean'] == candidate_row['director_clean']:\n",
    "        return True\n",
    "    query_genres = set(eval(query_row['genres_clean'])) if isinstance(query_row['genres_clean'], str) else set()\n",
    "    candidate_genres = set(eval(candidate_row['genres_clean'])) if isinstance(candidate_row['genres_clean'], str) else set()\n",
    "    if len(query_genres.intersection(candidate_genres)) >= 2:\n",
    "        return True\n",
    "    query_actors = set(query_row['actors_clean'].split())\n",
    "    candidate_actors = set(candidate_row['actors_clean'].split())\n",
    "    if len(query_actors.intersection(candidate_actors)) >= 1:\n",
    "        return True\n",
    "    return False\n",
    "\n",
    "def evaluate_one_movie(i):\n",
    "    \"\"\"\n",
    "    Evaluates a single movie by computing Precision@K and MRR@K.\n",
    "\n",
    "    Args:\n",
    "        i (int): Index of the query movie in model_df and final_matrix.\n",
    "\n",
    "    Returns:\n",
    "        tuple: (index, title, precision@K, mrr@K)\n",
    "    \"\"\"\n",
    "    \n",
    "    try:\n",
    "        query_vec = final_matrix[i].reshape(1, -1)  # Ensure 2D\n",
    "        sims = cosine_similarity(query_vec, final_matrix).flatten()\n",
    "        sims[i] = -1  # exclude itself\n",
    "        top_indices = np.argsort(sims)[-TOP_K:][::-1]\n",
    "        query_row = model_df.iloc[i]\n",
    "        relevant_found = 0\n",
    "        reciprocal_rank = 0.0\n",
    "\n",
    "        for rank, idx in enumerate(top_indices, start=1):\n",
    "            candidate_row = model_df.iloc[idx]\n",
    "            if is_relevant(query_row, candidate_row):\n",
    "                relevant_found += 1\n",
    "                if reciprocal_rank == 0.0:\n",
    "                    reciprocal_rank = 1 / rank\n",
    "\n",
    "        precision = relevant_found / TOP_K\n",
    "        return i, model_df.iloc[i]['title'], precision, reciprocal_rank\n",
    "\n",
    "    except Exception as e:\n",
    "        return i, model_df.iloc[i]['title'], None, None\n",
    "\n",
    "def save_batch_results(batch_results, filepath):\n",
    "    \"\"\"\n",
    "    Saves evaluation results to a CSV file, appending if the file already exists.\n",
    "\n",
    "    Args:\n",
    "        batch_results (list): List of tuples (index, title, precision, mrr).\n",
    "        filepath (str): Path to save the CSV file.\n",
    "    \"\"\"\n",
    "    \n",
    "    df = pd.DataFrame(batch_results, columns=[\"index\", \"title\", f\"precision@{TOP_K}\", f\"mrr@{TOP_K}\"])\n",
    "    if os.path.exists(filepath):\n",
    "        df.to_csv(filepath, mode='a', header=False, index=False)\n",
    "    else:\n",
    "        df.to_csv(filepath, index=False)\n",
    "\n",
    "# Check already processed indices\n",
    "if os.path.exists(SAVE_PATH):\n",
    "    existing = pd.read_csv(SAVE_PATH)\n",
    "    processed_indices = set(existing['index'])\n",
    "else:\n",
    "    processed_indices = set()\n",
    "\n",
    "# Batch loop\n",
    "total_movies = len(model_df)\n",
    "for start in range(0, total_movies, BATCH_SIZE):\n",
    "    end = min(start + BATCH_SIZE, total_movies)\n",
    "    batch_indices = [i for i in range(start, end) if i not in processed_indices]\n",
    "\n",
    "    if not batch_indices:\n",
    "        print(f\"Skipping batch {start}–{end}, already done.\")\n",
    "        continue\n",
    "\n",
    "    print(f\"Processing movies {start} to {end}...\")\n",
    "    start_time = time.time()\n",
    "\n",
    "    batch_results = Parallel(n_jobs=-1)(\n",
    "        delayed(evaluate_one_movie)(i) for i in batch_indices\n",
    "    )\n",
    "\n",
    "    batch_results = [res for res in batch_results if res[2] is not None]  # Filter out failures\n",
    "    save_batch_results(batch_results, SAVE_PATH)\n",
    "\n",
    "    print(f\"Saved batch {start}–{end} in {time.time() - start_time:.1f} sec. Total done: {start + len(batch_results)}\")\n",
    "\n",
    "print(\"\\nAll batches completed. Results saved to:\", SAVE_PATH)"
   ]
  },
  {
   "cell_type": "code",
   "execution_count": 4,
   "id": "ce28de46-c215-4360-8d95-3e5aaebf31e6",
   "metadata": {},
   "outputs": [
    {
     "name": "stdout",
     "output_type": "stream",
     "text": [
      "Mean Precision@10: 0.8214\n",
      "Mean MRR@10: 0.8833\n"
     ]
    }
   ],
   "source": [
    "results = pd.read_csv(\"evaluation_precision_mrr_llm.csv\")\n",
    "results = results.dropna(subset=[f\"precision@{TOP_K}\", f\"mrr@{TOP_K}\"])\n",
    "print(f\"Mean Precision@{TOP_K}: {results[f'precision@{TOP_K}'].mean():.4f}\")\n",
    "print(f\"Mean MRR@{TOP_K}: {results[f'mrr@{TOP_K}'].mean():.4f}\")"
   ]
  },
  {
   "cell_type": "markdown",
   "id": "b732f45f-fe39-4855-acd8-c4822126525b",
   "metadata": {},
   "source": [
    "-----------------------"
   ]
  },
  {
   "cell_type": "markdown",
   "id": "7f1ad35b-b315-4e23-b55a-285a2da0b979",
   "metadata": {},
   "source": [
    "### 3. Performance Evaluation (User-Profile-Based Recommendation Evaluation)"
   ]
  },
  {
   "cell_type": "markdown",
   "id": "8ac5ef69-0767-4ead-8fbf-4cc5cac40050",
   "metadata": {},
   "source": [
    "This evaluation method is not our primary objective, and it is merely experimental because evaluation using this approach usually requires a massive database of users' ratings to capture each user's preference and make a user profile. However, it is impossible for each user to see and record enough movie ratings to fulfill the requirement of such an evaluation successfully. To address this issue, scientists offered matrix factorization as a very effective method to replace this approach.\n"
   ]
  },
  {
   "cell_type": "markdown",
   "id": "575849a2-06a2-4476-8336-cd84ad2a36d2",
   "metadata": {},
   "source": [
    "#### 3.1. Load Embedding Matrix"
   ]
  },
  {
   "cell_type": "code",
   "execution_count": 18,
   "id": "2980b59a-a95d-4360-af57-3280d3c77ce0",
   "metadata": {},
   "outputs": [],
   "source": [
    "# MPNet\n",
    "final_matrix = np.load('final_dense_matrix.npy')\n",
    "\n",
    "# OR for MiniLM\n",
    "# final_matrix = np.load('final_dense_matrix_small.npy')\n",
    "\n",
    "# Load metadata and rating\n",
    "model_df = pd.read_csv('model_df.csv')\n",
    "ratings = pd.read_csv('filtered_ratings.csv')\n",
    "\n",
    "# Ensure movie IDs match\n",
    "model_df['id'] = df['id']\n",
    "ratings['movieId'] = ratings['movieId'].astype(int)"
   ]
  },
  {
   "cell_type": "markdown",
   "id": "9f8b4df6-50fd-4633-b876-3f1ce2cf3879",
   "metadata": {},
   "source": [
    "#### 3.2. Build a Movie ID → Index Mapping"
   ]
  },
  {
   "cell_type": "code",
   "execution_count": 19,
   "id": "fb03fd28-07d4-4676-93d5-fd250c6544e0",
   "metadata": {},
   "outputs": [],
   "source": [
    "# Map movieId to row index in embedding matrix\n",
    "movie_id_to_index = {mid: idx for idx, mid in enumerate(model_df['id'])}"
   ]
  },
  {
   "cell_type": "markdown",
   "id": "73bf4ae0-a838-438a-9b06-f9330d964b94",
   "metadata": {},
   "source": [
    "#### 3.3. Build and Save LLM-Based User Profiles"
   ]
  },
  {
   "cell_type": "code",
   "execution_count": 20,
   "id": "76e89c09-67b0-46ad-8e47-1405d6976fc8",
   "metadata": {},
   "outputs": [
    {
     "name": "stderr",
     "output_type": "stream",
     "text": [
      "Building LLM user profiles: 100%|██████████| 10277/10277 [02:27<00:00, 69.90it/s]\n"
     ]
    }
   ],
   "source": [
    "# Create directory to store MiniLM-based user profiles\n",
    "os.makedirs('./user_profiles_llm', exist_ok=True)\n",
    "\n",
    "def build_user_profile(user_ratings):\n",
    "    \"\"\"\n",
    "    Create a normalized user profile vector as a weighted average\n",
    "    of the movie embeddings, weighted by user ratings.\n",
    "\n",
    "    Args:\n",
    "        user_ratings (DataFrame): Rows with ['movieId', 'rating']\n",
    "\n",
    "    Returns:\n",
    "        np.ndarray: Normalized dense user vector (1D) or None if invalid\n",
    "    \"\"\"\n",
    "    \n",
    "    indices = [movie_id_to_index.get(mid) for mid in user_ratings['movieId'] if mid in movie_id_to_index]\n",
    "    if not indices:\n",
    "        return None\n",
    "\n",
    "    vectors = final_matrix[indices] # Retrieve movie vectors\n",
    "    ratings = user_ratings['rating'].values[:len(indices)] # Corresponding ratings\n",
    "\n",
    "    weighted_vectors = vectors * ratings[:, np.newaxis] # Weight each movie vector by its rating\n",
    "    profile_vector = weighted_vectors.sum(axis=0) # Aggregate into a single user profile\n",
    "\n",
    "    norm = np.linalg.norm(profile_vector)\n",
    "    if norm == 0:\n",
    "        return None # Avoid division by zero\n",
    "    profile_vector = profile_vector / norm # Normalize\n",
    "\n",
    "    return profile_vector\n",
    "\n",
    "# Filter users with at least 200 ratings\n",
    "user_counts = ratings['userId'].value_counts()\n",
    "eligible_users = user_counts[user_counts >= 200].index\n",
    "ratings = ratings[ratings['userId'].isin(eligible_users)]\n",
    "\n",
    "unique_users = ratings['userId'].unique()\n",
    "\n",
    "# Generate and save user vectors\n",
    "for user_id in tqdm(unique_users, desc=\"Building LLM user profiles\"):\n",
    "    user_ratings = ratings[ratings['userId'] == user_id]\n",
    "    user_vector = build_user_profile(user_ratings)\n",
    "\n",
    "    if user_vector is not None:\n",
    "        np.save(f'./user_profiles_llm/user_{user_id}.npy', user_vector)"
   ]
  },
  {
   "cell_type": "markdown",
   "id": "5bbf51d3-1cdc-44f1-89b1-cc2ab8fa4560",
   "metadata": {},
   "source": [
    "#### 3.4. Per-User Train/Test Split with Relevant Filter"
   ]
  },
  {
   "cell_type": "code",
   "execution_count": 21,
   "id": "f63465e2-0008-4d47-98a5-cb8eb1d54ed6",
   "metadata": {},
   "outputs": [
    {
     "name": "stderr",
     "output_type": "stream",
     "text": [
      "Splitting ratings: 100%|██████████| 10277/10277 [00:55<00:00, 186.69it/s]\n"
     ]
    }
   ],
   "source": [
    "# Define evaluation thresholds\n",
    "RELEVANT_RATING = 4.0  # Minimum rating considered \"relevant\"\n",
    "MIN_RELEVANT_IN_TEST = 30 # Minimum relevant items required in test set\n",
    "\n",
    "user_train_test_split = {}\n",
    "\n",
    "# For each eligible user, perform 80/20 time-based train/test split\n",
    "for user_id in tqdm(ratings['userId'].unique(), desc=\"Splitting ratings\"):\n",
    "    user_data = ratings[ratings['userId'] == user_id].sort_values('timestamp')\n",
    "\n",
    "    if len(user_data) < 50:\n",
    "        continue\n",
    "\n",
    "    # 80/20 split\n",
    "    train, test = train_test_split(user_data, test_size=0.2, random_state=42)\n",
    "\n",
    "    # We keep the entire test set (mixed ratings)\n",
    "    # But include users with ≥ 30 relevant items in the test set\n",
    "    if (test['rating'] >= RELEVANT_RATING).sum() >= MIN_RELEVANT_IN_TEST:\n",
    "        user_train_test_split[user_id] = (train, test)"
   ]
  },
  {
   "cell_type": "markdown",
   "id": "821d8006-80bc-48fc-a88c-17f7d419d332",
   "metadata": {},
   "source": [
    "#### 3.5. Score Test Items for a User"
   ]
  },
  {
   "cell_type": "code",
   "execution_count": 22,
   "id": "1d798171-6c9f-425f-b07a-7de446c3841e",
   "metadata": {},
   "outputs": [],
   "source": [
    "def get_user_recommendation_scores(user_id, test_df):\n",
    "     \"\"\"\n",
    "    Compute cosine similarity scores between user profile and test items.\n",
    "\n",
    "    Args:\n",
    "        user_id (int): The user ID\n",
    "        test_df (DataFrame): Their test ratings\n",
    "\n",
    "    Returns:\n",
    "        list of (movie_idx, similarity_score, actual_rating) or None\n",
    "    \"\"\"\n",
    "    \n",
    "    profile_path = f'./user_profiles_llm/user_{user_id}.npy'\n",
    "    if not os.path.exists(profile_path):\n",
    "        return None # User profile not found\n",
    "\n",
    "    user_vector = np.load(profile_path)\n",
    "\n",
    "    valid_rows = []\n",
    "    actual_ratings = []\n",
    "    \n",
    "    # Collect valid movie indices and ratings for test items\n",
    "    for _, row in test_df.iterrows():\n",
    "        movie_id = row['movieId']\n",
    "        if movie_id in movie_id_to_index:\n",
    "            idx = movie_id_to_index[movie_id]\n",
    "            valid_rows.append(idx)\n",
    "            actual_ratings.append(row['rating'])\n",
    "\n",
    "    if not valid_rows:\n",
    "        return None # No test items with valid embeddings\n",
    "\n",
    "    test_vectors = final_matrix[valid_rows]\n",
    "    scores = cosine_similarity(user_vector.reshape(1, -1), test_vectors).flatten() # Compute cosine similarity scores\n",
    "\n",
    "    return list(zip(valid_rows, scores, actual_ratings)) # Return ranked list of (movie_idx, score, actual_rating)"
   ]
  },
  {
   "cell_type": "markdown",
   "id": "03b5ec06-0ad4-4b4d-88d8-28bb8e70d3e1",
   "metadata": {},
   "source": [
    "#### 3.6. Precision@K and MRR@K"
   ]
  },
  {
   "cell_type": "code",
   "execution_count": 23,
   "id": "b0c3f0ba-df71-45fe-82bd-983d4a994480",
   "metadata": {},
   "outputs": [],
   "source": [
    "def evaluate_precision_mrr_k(recommendations, k, relevant_threshold=4.0):\n",
    "     \"\"\"\n",
    "    Evaluate Precision@K and MRR@K for one user.\n",
    "\n",
    "    Args:\n",
    "        recommendations (list): Tuples of (movie_idx, score, actual_rating)\n",
    "        k (int): Top-K cutoff\n",
    "        relevant_threshold (float): Minimum rating to be considered relevant\n",
    "\n",
    "    Returns:\n",
    "        tuple: (Precision@K, MRR@K)\n",
    "    \"\"\"\n",
    "    # Take top-K recommendations by score\n",
    "    top_k = recommendations[:k]\n",
    "    \n",
    "    # Check whether each item is relevant (rating >= threshold)\n",
    "    relevant_flags = [rating >= relevant_threshold for _, _, rating in top_k]\n",
    "\n",
    "    precision = sum(relevant_flags) / k\n",
    "\n",
    "    # Calculate reciprocal rank (position of first relevant item)\n",
    "    mrr = 0\n",
    "    for rank, is_relevant in enumerate(relevant_flags, start=1):\n",
    "        if is_relevant:\n",
    "            mrr = 1.0 / rank\n",
    "            break\n",
    "\n",
    "    return precision, mrr"
   ]
  },
  {
   "cell_type": "markdown",
   "id": "c551c7a1-572e-47c4-8ef4-b9be67c411bc",
   "metadata": {},
   "source": [
    "#### 3.7. Run Evaluation Across All Users"
   ]
  },
  {
   "cell_type": "code",
   "execution_count": 24,
   "id": "f14a55ac-cbe2-4dbe-9d8c-410cd643f027",
   "metadata": {},
   "outputs": [
    {
     "name": "stderr",
     "output_type": "stream",
     "text": [
      "Evaluating users: 100%|██████████| 3989/3989 [00:33<00:00, 119.41it/s]"
     ]
    },
    {
     "name": "stdout",
     "output_type": "stream",
     "text": [
      "Evaluation Results:\n",
      "Precision@5:  0.6141\n",
      "Precision@10: 0.5953\n",
      "Precision@20: 0.5820\n",
      "MRR@5:        0.7835\n",
      "MRR@10:       0.7861\n",
      "MRR@20:       0.7863\n"
     ]
    },
    {
     "name": "stderr",
     "output_type": "stream",
     "text": [
      "\n"
     ]
    }
   ],
   "source": [
    "# Initialize results\n",
    "precision_at_5 = []\n",
    "precision_at_10 = []\n",
    "precision_at_20 = []\n",
    "\n",
    "mrr_at_5 = []\n",
    "mrr_at_10 = []\n",
    "mrr_at_20 = []\n",
    "\n",
    "# Loop over all users in the test set\n",
    "for user_id, (_, test_df) in tqdm(user_train_test_split.items(), desc=\"Evaluating users\"):\n",
    "    scores = get_user_recommendation_scores(user_id, test_df)\n",
    "\n",
    "    if not scores:\n",
    "        continue # Skip users with no valid test items\n",
    "\n",
    "    # Sort recommendations by descending similarity score\n",
    "    ranked = sorted(scores, key=lambda x: x[1], reverse=True)\n",
    "\n",
    "    p5, mrr5 = evaluate_precision_mrr_k(ranked, k=5)\n",
    "    p10, mrr10 = evaluate_precision_mrr_k(ranked, k=10)\n",
    "    p20, mrr20 = evaluate_precision_mrr_k(ranked, k=20)\n",
    "\n",
    "    precision_at_5.append(p5)\n",
    "    precision_at_10.append(p10)\n",
    "    precision_at_20.append(p20)\n",
    "\n",
    "    mrr_at_5.append(mrr5)\n",
    "    mrr_at_10.append(mrr10)\n",
    "    mrr_at_20.append(mrr20)\n",
    "\n",
    "# Final Results\n",
    "print(\"Evaluation Results:\")\n",
    "print(f\"Precision@5:  {np.mean(precision_at_5):.4f}\")\n",
    "print(f\"Precision@10: {np.mean(precision_at_10):.4f}\")\n",
    "print(f\"Precision@20: {np.mean(precision_at_20):.4f}\")\n",
    "\n",
    "print(f\"MRR@5:        {np.mean(mrr_at_5):.4f}\")\n",
    "print(f\"MRR@10:       {np.mean(mrr_at_10):.4f}\")\n",
    "print(f\"MRR@20:       {np.mean(mrr_at_20):.4f}\")"
   ]
  },
  {
   "cell_type": "markdown",
   "id": "1c06995c-23da-4216-a907-5aa7e0214d53",
   "metadata": {},
   "source": [
    "#### 3.8. MiniLM-Based Recommender Evaluation (Step-by-Step):\n",
    "1. Load the MiniLM Feature Matrix: Replace the MPNet matrix loading with the MiniLM version\n",
    "- `final_matrix = np.load('./embeddings/final_dense_matrix_small.npy')`\n",
    "\n",
    "2. Change the User Profile Save Directory: Use a separate folder for MiniLM user profiles to avoid conflicts\n",
    "- example: `os.makedirs('./user_profiles_minilm', exist_ok=True)`\n",
    "\n",
    "Then inside your user profile generation loop:\n",
    "- `np.save(f'./user_profiles_minilm/user_{user_id}.npy', user_vector)`\r\n",
    "\n",
    "\n",
    "3. Update get_user_recommendation_scores() to Load MiniLM Profiles: Update the path where MiniLM profiles are loaded fro- `profile_path = f'./user_profiles_minilm/user_{user_id}.npy'`\r\n",
    "m\n",
    "\n",
    "4. Run the Same Evaluation Loop: No changes needed for:\n",
    "- The train/test split\n",
    "- Similarity computation using cosine_similarity\n",
    "- Precision@K and MRR@K functions\n",
    "- They work the same as with TF-IDF or MPNet."
   ]
  },
  {
   "cell_type": "code",
   "execution_count": null,
   "id": "ba5000ca-8c6a-4785-b139-336e0f843f37",
   "metadata": {},
   "outputs": [],
   "source": [
    "# Output for MiniLM:\n",
    "# Precision@5:  0.6128\n",
    "# Precision@10: 0.5962\n",
    "# Precision@20: 0.5797\n",
    "# MRR@5:        0.7868\n",
    "# MRR@10:       0.7895\n",
    "# MRR@20:       0.7897"
   ]
  },
  {
   "cell_type": "markdown",
   "id": "c0fc751d-81f2-46db-9de5-677f797718f1",
   "metadata": {},
   "source": [
    "------------------------"
   ]
  },
  {
   "cell_type": "markdown",
   "id": "ba302fe1-c0f4-4272-9203-ba9e690c3587",
   "metadata": {},
   "source": [
    "## 4. Experiment: Feature Engineering via Synthetic Metadata Embedding"
   ]
  },
  {
   "cell_type": "markdown",
   "id": "fa6064ab-9b40-4b06-bb3e-edf37b13f56d",
   "metadata": {},
   "source": [
    "We want to try converting structured metadata into synthetic text and embedding it with LLMs, which is smart and potentially very effective, especially with models like all-mpnet-base-v2 or e5-base-v2 that are good at capturing semantic relationships.\n",
    "\n",
    "**Why This Might Work?**\n",
    "- LLMs are trained on natural language, so feeding them structured data as plain numbers or one-hot encodings doesn't leverage their strengths. However, rephrasing metadata into natural-sounding sentences helps the model extract rich contextual meaning.\n",
    "\n"
   ]
  },
  {
   "cell_type": "markdown",
   "id": "fecd4518-2e6f-46b4-8e87-08ab2a7df521",
   "metadata": {},
   "source": [
    "First, we can convert each row’s metadata into a descriptive sentence. Then, we convert synthetic descriptions into dense vector embeddings.\n",
    "We can calculate average or weighted average:\n",
    "   - We can try a weighted combination:"
   ]
  },
  {
   "cell_type": "code",
   "execution_count": 40,
   "id": "972dfe40-45fa-4922-b1c8-92ddee191e02",
   "metadata": {},
   "outputs": [],
   "source": [
    "alpha = 0.7  # weight for overview\n",
    "beta = 0.3   # weight for synthetic metadata"
   ]
  },
  {
   "cell_type": "raw",
   "id": "f4801e54-6f0f-4a0f-8ef2-79ef8b19ea9b",
   "metadata": {},
   "source": [
    "Combined_embedding = α · Overview_embedding + (1 – α) · Synthetic_embedding"
   ]
  },
  {
   "cell_type": "markdown",
   "id": "4ba40e62-b92e-47a6-a32f-58a870d83626",
   "metadata": {},
   "source": [
    "We may tune alpha and beta based on evaluation metrics like Precision@K or MRR."
   ]
  },
  {
   "cell_type": "markdown",
   "id": "0099eef6-7bfc-46cd-afd8-fc823955e2fd",
   "metadata": {},
   "source": [
    "#### 4.1. Creating and Embedding Synthetic Text"
   ]
  },
  {
   "cell_type": "code",
   "execution_count": 8,
   "id": "141a8387-f08b-4bc1-ae71-918a548ea28f",
   "metadata": {
    "scrolled": true
   },
   "outputs": [
    {
     "name": "stdout",
     "output_type": "stream",
     "text": [
      "Generating synthetic metadata text...\n",
      "Embedding synthetic metadata text with SentenceTransformer...\n"
     ]
    },
    {
     "data": {
      "application/vnd.jupyter.widget-view+json": {
       "model_id": "eab43beaad70467ca4180ed61f9c169d",
       "version_major": 2,
       "version_minor": 0
      },
      "text/plain": [
       "Downloading .gitattributes:   0%|          | 0.00/1.23k [00:00<?, ?B/s]"
      ]
     },
     "metadata": {},
     "output_type": "display_data"
    },
    {
     "data": {
      "application/vnd.jupyter.widget-view+json": {
       "model_id": "c8919cf20be04f7db672c23d7136aeb5",
       "version_major": 2,
       "version_minor": 0
      },
      "text/plain": [
       "Downloading config.json:   0%|          | 0.00/190 [00:00<?, ?B/s]"
      ]
     },
     "metadata": {},
     "output_type": "display_data"
    },
    {
     "data": {
      "application/vnd.jupyter.widget-view+json": {
       "model_id": "be89c99ec8e14076985b1d6493180b91",
       "version_major": 2,
       "version_minor": 0
      },
      "text/plain": [
       "Downloading README.md:   0%|          | 0.00/10.4k [00:00<?, ?B/s]"
      ]
     },
     "metadata": {},
     "output_type": "display_data"
    },
    {
     "data": {
      "application/vnd.jupyter.widget-view+json": {
       "model_id": "56d4ffc6cfad404f9c22dcf7d78461e5",
       "version_major": 2,
       "version_minor": 0
      },
      "text/plain": [
       "Downloading config.json:   0%|          | 0.00/571 [00:00<?, ?B/s]"
      ]
     },
     "metadata": {},
     "output_type": "display_data"
    },
    {
     "data": {
      "application/vnd.jupyter.widget-view+json": {
       "model_id": "45ce2f94ea5847bf9b334d1abbe1fe6e",
       "version_major": 2,
       "version_minor": 0
      },
      "text/plain": [
       "Downloading (…)ce_transformers.json:   0%|          | 0.00/116 [00:00<?, ?B/s]"
      ]
     },
     "metadata": {},
     "output_type": "display_data"
    },
    {
     "data": {
      "application/vnd.jupyter.widget-view+json": {
       "model_id": "5742fa15ed124c03bf45865b2a5ba78a",
       "version_major": 2,
       "version_minor": 0
      },
      "text/plain": [
       "Downloading data_config.json:   0%|          | 0.00/39.3k [00:00<?, ?B/s]"
      ]
     },
     "metadata": {},
     "output_type": "display_data"
    },
    {
     "data": {
      "application/vnd.jupyter.widget-view+json": {
       "model_id": "2ffc52cd639e4af798f9bd362dbd0408",
       "version_major": 2,
       "version_minor": 0
      },
      "text/plain": [
       "Downloading model.safetensors:   0%|          | 0.00/438M [00:00<?, ?B/s]"
      ]
     },
     "metadata": {},
     "output_type": "display_data"
    },
    {
     "data": {
      "application/vnd.jupyter.widget-view+json": {
       "model_id": "e27c729a5779427681cd8b32c9ff4c31",
       "version_major": 2,
       "version_minor": 0
      },
      "text/plain": [
       "Downloading model.onnx:   0%|          | 0.00/436M [00:00<?, ?B/s]"
      ]
     },
     "metadata": {},
     "output_type": "display_data"
    },
    {
     "data": {
      "application/vnd.jupyter.widget-view+json": {
       "model_id": "fae5bc27574d4b52bb26a1e81b9ce7f1",
       "version_major": 2,
       "version_minor": 0
      },
      "text/plain": [
       "Downloading model_O1.onnx:   0%|          | 0.00/436M [00:00<?, ?B/s]"
      ]
     },
     "metadata": {},
     "output_type": "display_data"
    },
    {
     "data": {
      "application/vnd.jupyter.widget-view+json": {
       "model_id": "cc779fd9a5ed44599c3c728b8ecf372b",
       "version_major": 2,
       "version_minor": 0
      },
      "text/plain": [
       "Downloading model_O2.onnx:   0%|          | 0.00/436M [00:00<?, ?B/s]"
      ]
     },
     "metadata": {},
     "output_type": "display_data"
    },
    {
     "data": {
      "application/vnd.jupyter.widget-view+json": {
       "model_id": "2eb65c07a04948dfae6c8cfe1465ab51",
       "version_major": 2,
       "version_minor": 0
      },
      "text/plain": [
       "Downloading model_O3.onnx:   0%|          | 0.00/436M [00:00<?, ?B/s]"
      ]
     },
     "metadata": {},
     "output_type": "display_data"
    },
    {
     "data": {
      "application/vnd.jupyter.widget-view+json": {
       "model_id": "0f1bd06639bd4f39af5e650d77ee52b3",
       "version_major": 2,
       "version_minor": 0
      },
      "text/plain": [
       "Downloading model_O4.onnx:   0%|          | 0.00/218M [00:00<?, ?B/s]"
      ]
     },
     "metadata": {},
     "output_type": "display_data"
    },
    {
     "data": {
      "application/vnd.jupyter.widget-view+json": {
       "model_id": "21edb43d98424fec8f924c66cdfc672c",
       "version_major": 2,
       "version_minor": 0
      },
      "text/plain": [
       "Downloading model_qint8_arm64.onnx:   0%|          | 0.00/110M [00:00<?, ?B/s]"
      ]
     },
     "metadata": {},
     "output_type": "display_data"
    },
    {
     "data": {
      "application/vnd.jupyter.widget-view+json": {
       "model_id": "f22d1ab928244570bd1f29b9e80664d1",
       "version_major": 2,
       "version_minor": 0
      },
      "text/plain": [
       "Downloading model_qint8_arm64.onnx:   0%|          | 0.00/110M [00:00<?, ?B/s]"
      ]
     },
     "metadata": {},
     "output_type": "display_data"
    },
    {
     "data": {
      "application/vnd.jupyter.widget-view+json": {
       "model_id": "ae9efcb4181e4f468f25718a7523d2c2",
       "version_major": 2,
       "version_minor": 0
      },
      "text/plain": [
       "Downloading model_qint8_arm64.onnx:   0%|          | 0.00/110M [00:00<?, ?B/s]"
      ]
     },
     "metadata": {},
     "output_type": "display_data"
    },
    {
     "data": {
      "application/vnd.jupyter.widget-view+json": {
       "model_id": "65dff0bce7534313b805aee58a390f92",
       "version_major": 2,
       "version_minor": 0
      },
      "text/plain": [
       "Downloading model_quint8_avx2.onnx:   0%|          | 0.00/110M [00:00<?, ?B/s]"
      ]
     },
     "metadata": {},
     "output_type": "display_data"
    },
    {
     "data": {
      "application/vnd.jupyter.widget-view+json": {
       "model_id": "15d0f3eed76243cfbe8047bb4da4b5db",
       "version_major": 2,
       "version_minor": 0
      },
      "text/plain": [
       "Downloading openvino_model.bin:   0%|          | 0.00/436M [00:00<?, ?B/s]"
      ]
     },
     "metadata": {},
     "output_type": "display_data"
    },
    {
     "data": {
      "application/vnd.jupyter.widget-view+json": {
       "model_id": "4e3794b0969e43f48288e8550963d6d7",
       "version_major": 2,
       "version_minor": 0
      },
      "text/plain": [
       "Downloading openvino_model.xml:   0%|          | 0.00/433k [00:00<?, ?B/s]"
      ]
     },
     "metadata": {},
     "output_type": "display_data"
    },
    {
     "data": {
      "application/vnd.jupyter.widget-view+json": {
       "model_id": "5a1d9be22d1e47feb5ed41d8127e93c4",
       "version_major": 2,
       "version_minor": 0
      },
      "text/plain": [
       "Downloading (…)_qint8_quantized.bin:   0%|          | 0.00/110M [00:00<?, ?B/s]"
      ]
     },
     "metadata": {},
     "output_type": "display_data"
    },
    {
     "data": {
      "application/vnd.jupyter.widget-view+json": {
       "model_id": "cb10d9d3f2464651bae198f0279bca56",
       "version_major": 2,
       "version_minor": 0
      },
      "text/plain": [
       "Downloading (…)_qint8_quantized.xml:   0%|          | 0.00/742k [00:00<?, ?B/s]"
      ]
     },
     "metadata": {},
     "output_type": "display_data"
    },
    {
     "data": {
      "application/vnd.jupyter.widget-view+json": {
       "model_id": "302fa2aa12d24866884250bca93adde8",
       "version_major": 2,
       "version_minor": 0
      },
      "text/plain": [
       "Downloading pytorch_model.bin:   0%|          | 0.00/438M [00:00<?, ?B/s]"
      ]
     },
     "metadata": {},
     "output_type": "display_data"
    },
    {
     "data": {
      "application/vnd.jupyter.widget-view+json": {
       "model_id": "5dc04bdd4c594d5fbc254887941cbf23",
       "version_major": 2,
       "version_minor": 0
      },
      "text/plain": [
       "Downloading (…)nce_bert_config.json:   0%|          | 0.00/53.0 [00:00<?, ?B/s]"
      ]
     },
     "metadata": {},
     "output_type": "display_data"
    },
    {
     "data": {
      "application/vnd.jupyter.widget-view+json": {
       "model_id": "e894ce0ffeca4e90a421d16387aa6f30",
       "version_major": 2,
       "version_minor": 0
      },
      "text/plain": [
       "Downloading (…)cial_tokens_map.json:   0%|          | 0.00/239 [00:00<?, ?B/s]"
      ]
     },
     "metadata": {},
     "output_type": "display_data"
    },
    {
     "data": {
      "application/vnd.jupyter.widget-view+json": {
       "model_id": "eb83ad302b8044b89fdae14386840b8f",
       "version_major": 2,
       "version_minor": 0
      },
      "text/plain": [
       "Downloading tokenizer.json:   0%|          | 0.00/466k [00:00<?, ?B/s]"
      ]
     },
     "metadata": {},
     "output_type": "display_data"
    },
    {
     "data": {
      "application/vnd.jupyter.widget-view+json": {
       "model_id": "e5b60a4c5f8d4a92a3ecea780b7b8ef8",
       "version_major": 2,
       "version_minor": 0
      },
      "text/plain": [
       "Downloading tokenizer_config.json:   0%|          | 0.00/363 [00:00<?, ?B/s]"
      ]
     },
     "metadata": {},
     "output_type": "display_data"
    },
    {
     "data": {
      "application/vnd.jupyter.widget-view+json": {
       "model_id": "75656f22622e410c87f1a81a1049ded6",
       "version_major": 2,
       "version_minor": 0
      },
      "text/plain": [
       "Downloading train_script.py:   0%|          | 0.00/13.1k [00:00<?, ?B/s]"
      ]
     },
     "metadata": {},
     "output_type": "display_data"
    },
    {
     "data": {
      "application/vnd.jupyter.widget-view+json": {
       "model_id": "21b440d335c349b98c610a05f1d65370",
       "version_major": 2,
       "version_minor": 0
      },
      "text/plain": [
       "Downloading vocab.txt:   0%|          | 0.00/232k [00:00<?, ?B/s]"
      ]
     },
     "metadata": {},
     "output_type": "display_data"
    },
    {
     "data": {
      "application/vnd.jupyter.widget-view+json": {
       "model_id": "b9a03e22795345fb801399cfe9366858",
       "version_major": 2,
       "version_minor": 0
      },
      "text/plain": [
       "Downloading modules.json:   0%|          | 0.00/349 [00:00<?, ?B/s]"
      ]
     },
     "metadata": {},
     "output_type": "display_data"
    },
    {
     "data": {
      "application/vnd.jupyter.widget-view+json": {
       "model_id": "e0a625570d634cbe9af7255b0d20efee",
       "version_major": 2,
       "version_minor": 0
      },
      "text/plain": [
       "Batches:   0%|          | 0/1403 [00:00<?, ?it/s]"
      ]
     },
     "metadata": {},
     "output_type": "display_data"
    },
    {
     "name": "stdout",
     "output_type": "stream",
     "text": [
      "Saved: ./embeddings/synthetic_embeddings.npy\n",
      "Weighted combined embeddings shape: (44880, 768)\n",
      "Saved: ./embeddings/weighted_combined_embeddings.npy\n"
     ]
    }
   ],
   "source": [
    "# Load metadata and overview embeddings\n",
    "model_df = pd.read_csv(\"model_df.csv\")\n",
    "overview_embeddings = np.load('./embeddings/overview_embeddings.npy')  # shape: (N, 768)\n",
    "\n",
    "# Step 1: Create synthetic metadata text\n",
    "def create_synthetic_text(row):\n",
    "    \"\"\"\n",
    "    Convert structured movie metadata into a natural language description.\n",
    "    \n",
    "    Handles missing or malformed fields gracefully.\n",
    "    \"\"\"\n",
    "    \n",
    "    genres = ', '.join(eval(row['genres_clean'])) if isinstance(row['genres_clean'], str) else ''\n",
    "    director = row['director_clean'].replace('_', ' ') if pd.notna(row['director_clean']) else 'Unknown Director'\n",
    "    actors = row['actors_clean'].replace('_', ' ') if pd.notna(row['actors_clean']) else 'Unknown Actors'\n",
    "    year = int(float(row['year_scaled']) * 100 + 1900) if 'year_scaled' in row else 'Unknown Year'\n",
    "    return (\n",
    "        f\"{row['title']} is a {genres} movie released in {year}. \"\n",
    "        f\"It was directed by {director} and stars {actors}. \"\n",
    "        f\"The original language is {row['original_language']}.\"\n",
    "    )\n",
    "\n",
    "print(\"Generating synthetic metadata text...\")\n",
    "model_df['synthetic_text'] = model_df.apply(create_synthetic_text, axis=1) # Apply function to generate synthetic text for each movie\n",
    "\n",
    "# Step 2: Embed synthetic metadata\n",
    "print(\"Embedding synthetic metadata text with SentenceTransformer...\")\n",
    "model = SentenceTransformer('all-mpnet-base-v2')\n",
    "synthetic_embeddings = model.encode(model_df['synthetic_text'].tolist(), \n",
    "                                    show_progress_bar=True, convert_to_numpy=True) # Convert synthetic descriptions into dense vector embeddings\n",
    "\n",
    "# Step 3: Save synthetic embeddings separately\n",
    "os.makedirs('./embeddings', exist_ok=True)\n",
    "np.save('./embeddings/synthetic_embeddings.npy', synthetic_embeddings)\n",
    "print(\"Saved: ./embeddings/synthetic_embeddings.npy\")\n",
    "\n",
    "# Step 4: Weighted combination\n",
    "alpha = 0.7\n",
    "combined_embeddings = alpha * overview_embeddings + (1 - alpha) * synthetic_embeddings\n",
    "print(\"Weighted combined embeddings shape:\", combined_embeddings.shape)\n",
    "\n",
    "# Step 5: Save the combined embeddings\n",
    "np.save('./embeddings/weighted_combined_embeddings.npy', combined_embeddings)\n",
    "print(\"Saved: ./embeddings/weighted_combined_embeddings.npy\")"
   ]
  },
  {
   "cell_type": "markdown",
   "id": "7252bf76-3f36-4024-a5d5-254a8993741b",
   "metadata": {},
   "source": [
    "#### 4.2. Evaluate for Different Alpha Values"
   ]
  },
  {
   "cell_type": "code",
   "execution_count": 18,
   "id": "69a79f28-6b78-4bec-8a9f-a87f574779c3",
   "metadata": {},
   "outputs": [
    {
     "name": "stdout",
     "output_type": "stream",
     "text": [
      "\n",
      "Evaluating for alpha = 0.1 (overview weight)...\n",
      "\n",
      "Evaluation Results over 100 movies:\n",
      "➡Mean Precision@10: 0.0780\n",
      "➡Mean Recall@10: 0.0059\n",
      "➡Mean MRR@10: 0.1641\n",
      "\n",
      "Evaluating for alpha = 0.2 (overview weight)...\n",
      "\n",
      "Evaluation Results over 100 movies:\n",
      "➡Mean Precision@10: 0.0870\n",
      "➡Mean Recall@10: 0.0065\n",
      "➡Mean MRR@10: 0.1715\n",
      "\n",
      "Evaluating for alpha = 0.3 (overview weight)...\n",
      "\n",
      "Evaluation Results over 100 movies:\n",
      "➡Mean Precision@10: 0.1060\n",
      "➡Mean Recall@10: 0.0061\n",
      "➡Mean MRR@10: 0.1889\n",
      "\n",
      "Evaluating for alpha = 0.4 (overview weight)...\n",
      "\n",
      "Evaluation Results over 100 movies:\n",
      "➡Mean Precision@10: 0.1330\n",
      "➡Mean Recall@10: 0.0076\n",
      "➡Mean MRR@10: 0.2140\n",
      "\n",
      "Evaluating for alpha = 0.5 (overview weight)...\n",
      "\n",
      "Evaluation Results over 100 movies:\n",
      "➡Mean Precision@10: 0.1580\n",
      "➡Mean Recall@10: 0.0077\n",
      "➡Mean MRR@10: 0.2695\n",
      "\n",
      "Evaluating for alpha = 0.6 (overview weight)...\n",
      "\n",
      "Evaluation Results over 100 movies:\n",
      "➡Mean Precision@10: 0.1620\n",
      "➡Mean Recall@10: 0.0100\n",
      "➡Mean MRR@10: 0.3025\n",
      "\n",
      "Evaluating for alpha = 0.7 (overview weight)...\n",
      "\n",
      "Evaluation Results over 100 movies:\n",
      "➡Mean Precision@10: 0.1620\n",
      "➡Mean Recall@10: 0.0087\n",
      "➡Mean MRR@10: 0.3085\n",
      "\n",
      "Evaluating for alpha = 0.8 (overview weight)...\n",
      "\n",
      "Evaluation Results over 100 movies:\n",
      "➡Mean Precision@10: 0.1450\n",
      "➡Mean Recall@10: 0.0084\n",
      "➡Mean MRR@10: 0.3166\n",
      "\n",
      "Evaluating for alpha = 0.9 (overview weight)...\n",
      "\n",
      "Evaluation Results over 100 movies:\n",
      "➡Mean Precision@10: 0.1470\n",
      "➡Mean Recall@10: 0.0084\n",
      "➡Mean MRR@10: 0.2681\n",
      "\n",
      "Alpha Tuning Results:\n",
      "Alpha 0.1 | Precision@10: 0.0780 | Recall@10: 0.0059 | MRR@10: 0.1641\n",
      "Alpha 0.2 | Precision@10: 0.0870 | Recall@10: 0.0065 | MRR@10: 0.1715\n",
      "Alpha 0.3 | Precision@10: 0.1060 | Recall@10: 0.0061 | MRR@10: 0.1889\n",
      "Alpha 0.4 | Precision@10: 0.1330 | Recall@10: 0.0076 | MRR@10: 0.2140\n",
      "Alpha 0.5 | Precision@10: 0.1580 | Recall@10: 0.0077 | MRR@10: 0.2695\n",
      "Alpha 0.6 | Precision@10: 0.1620 | Recall@10: 0.0100 | MRR@10: 0.3025\n",
      "Alpha 0.7 | Precision@10: 0.1620 | Recall@10: 0.0087 | MRR@10: 0.3085\n",
      "Alpha 0.8 | Precision@10: 0.1450 | Recall@10: 0.0084 | MRR@10: 0.3166\n",
      "Alpha 0.9 | Precision@10: 0.1470 | Recall@10: 0.0084 | MRR@10: 0.2681\n"
     ]
    },
    {
     "data": {
      "image/png": "[encoded data removed]",
      "text/plain": [
       "<Figure size 640x480 with 1 Axes>"
      ]
     },
     "metadata": {},
     "output_type": "display_data"
    }
   ],
   "source": [
    "# Load embeddings and model_df (if necessary)\n",
    "model_df = pd.read_csv(\"model_df.csv\")\n",
    "overview_embeddings = np.load('./embeddings/overview_embeddings.npy')\n",
    "synthetic_embeddings = np.load('./embeddings/synthetic_embeddings.npy')\n",
    "\n",
    "# Define the range of alpha values to test (0.1 to 0.9)\n",
    "alphas = [0.1 * i for i in range(1, 10)]  # 0.1 to 0.9\n",
    "\n",
    "# Store evaluation results for each alpha\n",
    "results = []\n",
    "\n",
    "# Loop over each alpha value and evaluate performance\n",
    "for alpha in alphas:\n",
    "    print(f\"\\nEvaluating for alpha = {alpha:.1f} (overview weight)...\")\n",
    "\n",
    "    # Weighted combination of embeddings\n",
    "    combined = alpha * overview_embeddings + (1 - alpha) * synthetic_embeddings\n",
    "\n",
    "    # Evaluate on 100 randomly chosen titles at top-10\n",
    "    precision, recall, mrr = evaluate_multiple_queries(model_df, combined, num_samples=100, k=10)\n",
    "    results.append((alpha, precision, recall, mrr))\n",
    "\n",
    "# Display Results\n",
    "print(\"\\nAlpha Tuning Results:\")\n",
    "for alpha, precision, recall, mrr in results:\n",
    "    print(f\"Alpha {alpha:.1f} | Precision@10: {precision:.4f} | Recall@10: {recall:.4f} | MRR@10: {mrr:.4f}\")\n",
    "\n",
    "# Plot\n",
    "alphas_np = [r[0] for r in results]\n",
    "precisions = [r[1] for r in results]\n",
    "recalls = [r[2] for r in results]\n",
    "mrrs = [r[3] for r in results]\n",
    "\n",
    "plt.plot(alphas_np, precisions, label='Precision@10')\n",
    "plt.plot(alphas_np, recalls, label='Recall@10')\n",
    "plt.plot(alphas_np, mrrs, label='MRR@10')\n",
    "plt.xlabel(\"Alpha (Weight on Overview)\")\n",
    "plt.ylabel(\"Score\")\n",
    "plt.title(\"Performance vs Alpha\")\n",
    "plt.legend()\n",
    "plt.grid(True)\n",
    "plt.show()"
   ]
  },
  {
   "cell_type": "code",
   "execution_count": 19,
   "id": "a15e6aaa-b596-4ae3-9ab3-7f78ecc28db5",
   "metadata": {},
   "outputs": [
    {
     "data": {
      "image/png": "[encoded data removed]",
      "text/plain": [
       "<Figure size 640x480 with 1 Axes>"
      ]
     },
     "metadata": {},
     "output_type": "display_data"
    }
   ],
   "source": [
    "# Plot\n",
    "alphas_np = [r[0] for r in results]\n",
    "precisions = [r[1] for r in results]\n",
    "mrrs = [r[3] for r in results]\n",
    "\n",
    "plt.plot(alphas_np, precisions, label='Precision@10')\n",
    "\n",
    "plt.plot(alphas_np, mrrs, label='MRR@10')\n",
    "plt.xlabel(\"Alpha (Weight on Overview)\")\n",
    "plt.ylabel(\"Score\")\n",
    "plt.title(\"Performance vs Alpha\")\n",
    "plt.legend()\n",
    "plt.grid(True)\n",
    "plt.show()"
   ]
  }
 ],
 "metadata": {
  "kernelspec": {
   "display_name": "Python 3 (ipykernel)",
   "language": "python",
   "name": "python3"
  },
  "language_info": {
   "codemirror_mode": {
    "name": "ipython",
    "version": 3
   },
   "file_extension": ".py",
   "mimetype": "text/x-python",
   "name": "python",
   "nbconvert_exporter": "python",
   "pygments_lexer": "ipython3",
   "version": "3.11.7"
  }
 },
 "nbformat": 4,
 "nbformat_minor": 5
}
