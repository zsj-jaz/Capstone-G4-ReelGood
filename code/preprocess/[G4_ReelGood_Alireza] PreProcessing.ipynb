{
 "cells": [
  {
   "cell_type": "markdown",
   "id": "077a68ea-b928-41f3-8daf-36f48e6716c5",
   "metadata": {},
   "source": [
    "# **Reel Good Movie Recommender System (Group 4)**"
   ]
  },
  {
   "cell_type": "markdown",
   "id": "34e5e5d0-cd1d-47db-b584-29322670f1a8",
   "metadata": {},
   "source": [
    "Name: Alireza Hatami"
   ]
  },
  {
   "cell_type": "markdown",
   "id": "8ef77bbf-1fff-40c4-855a-917ca64550d7",
   "metadata": {},
   "source": [
    "# **Preprocessing**"
   ]
  },
  {
   "cell_type": "markdown",
   "id": "231c61f1-229c-44bc-b846-e25ff6633978",
   "metadata": {},
   "source": [
    "First, we import the necessary libraries and load the datasets:"
   ]
  },
  {
   "cell_type": "code",
   "execution_count": 193,
   "id": "a2365773-c11c-4923-9de3-9f1b29cc6dfb",
   "metadata": {},
   "outputs": [
    {
     "name": "stderr",
     "output_type": "stream",
     "text": [
      "C:\\Users\\alire\\AppData\\Local\\Temp\\ipykernel_1968\\1859596736.py:4: DtypeWarning: Columns (10) have mixed types. Specify dtype option on import or set low_memory=False.\n",
      "  movies = pd.read_csv('./data/movies_metadata.csv')\n"
     ]
    }
   ],
   "source": [
    "import pandas as pd\n",
    "import ast\n",
    "import itertools\n",
    "import requests\n",
    "\n",
    "# Load Movies Metadata\n",
    "movies = pd.read_csv('./data/movies_metadata.csv')\n",
    "\n",
    "# Load Movie Credits\n",
    "credits = pd.read_csv('./data/credits.csv')\n",
    "\n",
    "# Load User Ratings for Movies\n",
    "ratings = pd.read_csv('./data/ratings.csv')"
   ]
  },
  {
   "cell_type": "markdown",
   "id": "cd48d2e5-4508-4d67-8b6c-7e5b4930e337",
   "metadata": {},
   "source": [
    "# 1. Movies Dataset"
   ]
  },
  {
   "cell_type": "code",
   "execution_count": 20,
   "id": "204a53a7-88c3-4cb1-aecc-1cd7e0407523",
   "metadata": {},
   "outputs": [
    {
     "data": {
      "text/html": [
       "<div>\n",
       "<style scoped>\n",
       "    .dataframe tbody tr th:only-of-type {\n",
       "        vertical-align: middle;\n",
       "    }\n",
       "\n",
       "    .dataframe tbody tr th {\n",
       "        vertical-align: top;\n",
       "    }\n",
       "\n",
       "    .dataframe thead th {\n",
       "        text-align: right;\n",
       "    }\n",
       "</style>\n",
       "<table border=\"1\" class=\"dataframe\">\n",
       "  <thead>\n",
       "    <tr style=\"text-align: right;\">\n",
       "      <th></th>\n",
       "      <th>adult</th>\n",
       "      <th>belongs_to_collection</th>\n",
       "      <th>budget</th>\n",
       "      <th>genres</th>\n",
       "      <th>homepage</th>\n",
       "      <th>id</th>\n",
       "      <th>imdb_id</th>\n",
       "      <th>original_language</th>\n",
       "      <th>original_title</th>\n",
       "      <th>overview</th>\n",
       "      <th>...</th>\n",
       "      <th>release_date</th>\n",
       "      <th>revenue</th>\n",
       "      <th>runtime</th>\n",
       "      <th>spoken_languages</th>\n",
       "      <th>status</th>\n",
       "      <th>tagline</th>\n",
       "      <th>title</th>\n",
       "      <th>video</th>\n",
       "      <th>vote_average</th>\n",
       "      <th>vote_count</th>\n",
       "    </tr>\n",
       "  </thead>\n",
       "  <tbody>\n",
       "    <tr>\n",
       "      <th>0</th>\n",
       "      <td>False</td>\n",
       "      <td>{'id': 10194, 'name': 'Toy Story Collection', ...</td>\n",
       "      <td>30000000</td>\n",
       "      <td>[{'id': 16, 'name': 'Animation'}, {'id': 35, '...</td>\n",
       "      <td>http://toystory.disney.com/toy-story</td>\n",
       "      <td>862</td>\n",
       "      <td>tt0114709</td>\n",
       "      <td>en</td>\n",
       "      <td>Toy Story</td>\n",
       "      <td>Led by Woody, Andy's toys live happily in his ...</td>\n",
       "      <td>...</td>\n",
       "      <td>1995-10-30</td>\n",
       "      <td>373554033.0</td>\n",
       "      <td>81.0</td>\n",
       "      <td>[{'iso_639_1': 'en', 'name': 'English'}]</td>\n",
       "      <td>Released</td>\n",
       "      <td>NaN</td>\n",
       "      <td>Toy Story</td>\n",
       "      <td>False</td>\n",
       "      <td>7.7</td>\n",
       "      <td>5415.0</td>\n",
       "    </tr>\n",
       "    <tr>\n",
       "      <th>1</th>\n",
       "      <td>False</td>\n",
       "      <td>NaN</td>\n",
       "      <td>65000000</td>\n",
       "      <td>[{'id': 12, 'name': 'Adventure'}, {'id': 14, '...</td>\n",
       "      <td>NaN</td>\n",
       "      <td>8844</td>\n",
       "      <td>tt0113497</td>\n",
       "      <td>en</td>\n",
       "      <td>Jumanji</td>\n",
       "      <td>When siblings Judy and Peter discover an encha...</td>\n",
       "      <td>...</td>\n",
       "      <td>1995-12-15</td>\n",
       "      <td>262797249.0</td>\n",
       "      <td>104.0</td>\n",
       "      <td>[{'iso_639_1': 'en', 'name': 'English'}, {'iso...</td>\n",
       "      <td>Released</td>\n",
       "      <td>Roll the dice and unleash the excitement!</td>\n",
       "      <td>Jumanji</td>\n",
       "      <td>False</td>\n",
       "      <td>6.9</td>\n",
       "      <td>2413.0</td>\n",
       "    </tr>\n",
       "    <tr>\n",
       "      <th>2</th>\n",
       "      <td>False</td>\n",
       "      <td>{'id': 119050, 'name': 'Grumpy Old Men Collect...</td>\n",
       "      <td>0</td>\n",
       "      <td>[{'id': 10749, 'name': 'Romance'}, {'id': 35, ...</td>\n",
       "      <td>NaN</td>\n",
       "      <td>15602</td>\n",
       "      <td>tt0113228</td>\n",
       "      <td>en</td>\n",
       "      <td>Grumpier Old Men</td>\n",
       "      <td>A family wedding reignites the ancient feud be...</td>\n",
       "      <td>...</td>\n",
       "      <td>1995-12-22</td>\n",
       "      <td>0.0</td>\n",
       "      <td>101.0</td>\n",
       "      <td>[{'iso_639_1': 'en', 'name': 'English'}]</td>\n",
       "      <td>Released</td>\n",
       "      <td>Still Yelling. Still Fighting. Still Ready for...</td>\n",
       "      <td>Grumpier Old Men</td>\n",
       "      <td>False</td>\n",
       "      <td>6.5</td>\n",
       "      <td>92.0</td>\n",
       "    </tr>\n",
       "    <tr>\n",
       "      <th>3</th>\n",
       "      <td>False</td>\n",
       "      <td>NaN</td>\n",
       "      <td>16000000</td>\n",
       "      <td>[{'id': 35, 'name': 'Comedy'}, {'id': 18, 'nam...</td>\n",
       "      <td>NaN</td>\n",
       "      <td>31357</td>\n",
       "      <td>tt0114885</td>\n",
       "      <td>en</td>\n",
       "      <td>Waiting to Exhale</td>\n",
       "      <td>Cheated on, mistreated and stepped on, the wom...</td>\n",
       "      <td>...</td>\n",
       "      <td>1995-12-22</td>\n",
       "      <td>81452156.0</td>\n",
       "      <td>127.0</td>\n",
       "      <td>[{'iso_639_1': 'en', 'name': 'English'}]</td>\n",
       "      <td>Released</td>\n",
       "      <td>Friends are the people who let you be yourself...</td>\n",
       "      <td>Waiting to Exhale</td>\n",
       "      <td>False</td>\n",
       "      <td>6.1</td>\n",
       "      <td>34.0</td>\n",
       "    </tr>\n",
       "    <tr>\n",
       "      <th>4</th>\n",
       "      <td>False</td>\n",
       "      <td>{'id': 96871, 'name': 'Father of the Bride Col...</td>\n",
       "      <td>0</td>\n",
       "      <td>[{'id': 35, 'name': 'Comedy'}]</td>\n",
       "      <td>NaN</td>\n",
       "      <td>11862</td>\n",
       "      <td>tt0113041</td>\n",
       "      <td>en</td>\n",
       "      <td>Father of the Bride Part II</td>\n",
       "      <td>Just when George Banks has recovered from his ...</td>\n",
       "      <td>...</td>\n",
       "      <td>1995-02-10</td>\n",
       "      <td>76578911.0</td>\n",
       "      <td>106.0</td>\n",
       "      <td>[{'iso_639_1': 'en', 'name': 'English'}]</td>\n",
       "      <td>Released</td>\n",
       "      <td>Just When His World Is Back To Normal... He's ...</td>\n",
       "      <td>Father of the Bride Part II</td>\n",
       "      <td>False</td>\n",
       "      <td>5.7</td>\n",
       "      <td>173.0</td>\n",
       "    </tr>\n",
       "  </tbody>\n",
       "</table>\n",
       "<p>5 rows × 24 columns</p>\n",
       "</div>"
      ],
      "text/plain": [
       "   adult                              belongs_to_collection    budget  \\\n",
       "0  False  {'id': 10194, 'name': 'Toy Story Collection', ...  30000000   \n",
       "1  False                                                NaN  65000000   \n",
       "2  False  {'id': 119050, 'name': 'Grumpy Old Men Collect...         0   \n",
       "3  False                                                NaN  16000000   \n",
       "4  False  {'id': 96871, 'name': 'Father of the Bride Col...         0   \n",
       "\n",
       "                                              genres  \\\n",
       "0  [{'id': 16, 'name': 'Animation'}, {'id': 35, '...   \n",
       "1  [{'id': 12, 'name': 'Adventure'}, {'id': 14, '...   \n",
       "2  [{'id': 10749, 'name': 'Romance'}, {'id': 35, ...   \n",
       "3  [{'id': 35, 'name': 'Comedy'}, {'id': 18, 'nam...   \n",
       "4                     [{'id': 35, 'name': 'Comedy'}]   \n",
       "\n",
       "                               homepage     id    imdb_id original_language  \\\n",
       "0  http://toystory.disney.com/toy-story    862  tt0114709                en   \n",
       "1                                   NaN   8844  tt0113497                en   \n",
       "2                                   NaN  15602  tt0113228                en   \n",
       "3                                   NaN  31357  tt0114885                en   \n",
       "4                                   NaN  11862  tt0113041                en   \n",
       "\n",
       "                original_title  \\\n",
       "0                    Toy Story   \n",
       "1                      Jumanji   \n",
       "2             Grumpier Old Men   \n",
       "3            Waiting to Exhale   \n",
       "4  Father of the Bride Part II   \n",
       "\n",
       "                                            overview  ... release_date  \\\n",
       "0  Led by Woody, Andy's toys live happily in his ...  ...   1995-10-30   \n",
       "1  When siblings Judy and Peter discover an encha...  ...   1995-12-15   \n",
       "2  A family wedding reignites the ancient feud be...  ...   1995-12-22   \n",
       "3  Cheated on, mistreated and stepped on, the wom...  ...   1995-12-22   \n",
       "4  Just when George Banks has recovered from his ...  ...   1995-02-10   \n",
       "\n",
       "       revenue runtime                                   spoken_languages  \\\n",
       "0  373554033.0    81.0           [{'iso_639_1': 'en', 'name': 'English'}]   \n",
       "1  262797249.0   104.0  [{'iso_639_1': 'en', 'name': 'English'}, {'iso...   \n",
       "2          0.0   101.0           [{'iso_639_1': 'en', 'name': 'English'}]   \n",
       "3   81452156.0   127.0           [{'iso_639_1': 'en', 'name': 'English'}]   \n",
       "4   76578911.0   106.0           [{'iso_639_1': 'en', 'name': 'English'}]   \n",
       "\n",
       "     status                                            tagline  \\\n",
       "0  Released                                                NaN   \n",
       "1  Released          Roll the dice and unleash the excitement!   \n",
       "2  Released  Still Yelling. Still Fighting. Still Ready for...   \n",
       "3  Released  Friends are the people who let you be yourself...   \n",
       "4  Released  Just When His World Is Back To Normal... He's ...   \n",
       "\n",
       "                         title  video vote_average vote_count  \n",
       "0                    Toy Story  False          7.7     5415.0  \n",
       "1                      Jumanji  False          6.9     2413.0  \n",
       "2             Grumpier Old Men  False          6.5       92.0  \n",
       "3            Waiting to Exhale  False          6.1       34.0  \n",
       "4  Father of the Bride Part II  False          5.7      173.0  \n",
       "\n",
       "[5 rows x 24 columns]"
      ]
     },
     "execution_count": 20,
     "metadata": {},
     "output_type": "execute_result"
    }
   ],
   "source": [
    "movies.head()"
   ]
  },
  {
   "cell_type": "code",
   "execution_count": 21,
   "id": "2a0bfd0d-5941-41cd-bfea-97604a714d6a",
   "metadata": {},
   "outputs": [
    {
     "name": "stdout",
     "output_type": "stream",
     "text": [
      "<class 'pandas.core.frame.DataFrame'>\n",
      "RangeIndex: 45466 entries, 0 to 45465\n",
      "Data columns (total 24 columns):\n",
      " #   Column                 Non-Null Count  Dtype  \n",
      "---  ------                 --------------  -----  \n",
      " 0   adult                  45466 non-null  object \n",
      " 1   belongs_to_collection  4494 non-null   object \n",
      " 2   budget                 45466 non-null  object \n",
      " 3   genres                 45466 non-null  object \n",
      " 4   homepage               7782 non-null   object \n",
      " 5   id                     45466 non-null  object \n",
      " 6   imdb_id                45449 non-null  object \n",
      " 7   original_language      45455 non-null  object \n",
      " 8   original_title         45466 non-null  object \n",
      " 9   overview               44512 non-null  object \n",
      " 10  popularity             45461 non-null  object \n",
      " 11  poster_path            45080 non-null  object \n",
      " 12  production_companies   45463 non-null  object \n",
      " 13  production_countries   45463 non-null  object \n",
      " 14  release_date           45379 non-null  object \n",
      " 15  revenue                45460 non-null  float64\n",
      " 16  runtime                45203 non-null  float64\n",
      " 17  spoken_languages       45460 non-null  object \n",
      " 18  status                 45379 non-null  object \n",
      " 19  tagline                20412 non-null  object \n",
      " 20  title                  45460 non-null  object \n",
      " 21  video                  45460 non-null  object \n",
      " 22  vote_average           45460 non-null  float64\n",
      " 23  vote_count             45460 non-null  float64\n",
      "dtypes: float64(4), object(20)\n",
      "memory usage: 8.3+ MB\n"
     ]
    }
   ],
   "source": [
    "movies.info()"
   ]
  },
  {
   "cell_type": "markdown",
   "id": "7b3968c1-506c-4bbe-bad0-411cd14e8fe6",
   "metadata": {},
   "source": [
    "## 1.1. Handle Duplicate Values:"
   ]
  },
  {
   "cell_type": "code",
   "execution_count": 22,
   "id": "77eea1fd-b8f4-4684-b713-1d226a6c02a5",
   "metadata": {},
   "outputs": [
    {
     "name": "stdout",
     "output_type": "stream",
     "text": [
      "Number of duplicate rows: 13\n"
     ]
    }
   ],
   "source": [
    "duplicate_count = movies.duplicated().sum()\n",
    "print(f\"Number of duplicate rows: {duplicate_count}\")"
   ]
  },
  {
   "cell_type": "code",
   "execution_count": 23,
   "id": "1dbc7b10-1fbf-4583-a0fe-0c6b90b28170",
   "metadata": {},
   "outputs": [],
   "source": [
    "movies = movies.drop_duplicates()"
   ]
  },
  {
   "cell_type": "markdown",
   "id": "7a5d78b6-56fd-4929-b3ba-6e89bf0b9f2f",
   "metadata": {},
   "source": [
    "## 1.2. Handle Missing Values:"
   ]
  },
  {
   "cell_type": "markdown",
   "id": "401b4a61-bc34-4084-9db6-000301ecae1c",
   "metadata": {},
   "source": [
    "To check for null values:"
   ]
  },
  {
   "cell_type": "code",
   "execution_count": 24,
   "id": "7ab03e1a-850d-46df-a47a-eb6e6ab1cbc2",
   "metadata": {},
   "outputs": [
    {
     "data": {
      "text/plain": [
       "adult                        0\n",
       "belongs_to_collection    40959\n",
       "budget                       0\n",
       "genres                       0\n",
       "homepage                 37673\n",
       "id                           0\n",
       "imdb_id                     17\n",
       "original_language           11\n",
       "original_title               0\n",
       "overview                   954\n",
       "popularity                   5\n",
       "poster_path                386\n",
       "production_companies         3\n",
       "production_countries         3\n",
       "release_date                87\n",
       "revenue                      6\n",
       "runtime                    263\n",
       "spoken_languages             6\n",
       "status                      87\n",
       "tagline                  25045\n",
       "title                        6\n",
       "video                        6\n",
       "vote_average                 6\n",
       "vote_count                   6\n",
       "dtype: int64"
      ]
     },
     "execution_count": 24,
     "metadata": {},
     "output_type": "execute_result"
    }
   ],
   "source": [
    "movies.isnull().sum()"
   ]
  },
  {
   "cell_type": "markdown",
   "id": "d9f134d5-8d74-4f1f-8399-b3f1b34e0546",
   "metadata": {},
   "source": [
    "We can save the data in a DataFrame called `df` to continue."
   ]
  },
  {
   "cell_type": "code",
   "execution_count": 25,
   "id": "6eed6385-dac6-4a93-a0ba-491c1bf3cba4",
   "metadata": {},
   "outputs": [],
   "source": [
    "df = movies.dropna(subset=['id'])"
   ]
  },
  {
   "cell_type": "markdown",
   "id": "349681bf-ff7c-4b03-9f84-26cd15eac6d1",
   "metadata": {},
   "source": [
    "There are some improper data types in the 'id' column. First, we attempt to drop the NaN values, and it appears to work, but when we run the next code, we encounter a ValueError because NaN values still exist. the reason is that when you use `pd.to_numeric` with `errors='coerce`, it attempts to convert the values in the `id` column to numeric. If any invalid values cannot be converted (e.g., strings or non-numeric characters), they will be coerced into NaN.\n",
    "\n",
    "Therefore, we must drop the NaN one more time after the following code:"
   ]
  },
  {
   "cell_type": "code",
   "execution_count": 26,
   "id": "9ea55f7c-139e-4b7f-b0bb-3734637326b9",
   "metadata": {},
   "outputs": [],
   "source": [
    "# Convert 'id' in movies_metadata to numeric, coercing errors to NaN\n",
    "df['id'] = pd.to_numeric(df['id'], errors='coerce')"
   ]
  },
  {
   "cell_type": "code",
   "execution_count": 27,
   "id": "f5727c17-d271-497d-ab2d-cf82fe518183",
   "metadata": {},
   "outputs": [
    {
     "name": "stdout",
     "output_type": "stream",
     "text": [
      "float64\n"
     ]
    }
   ],
   "source": [
    "print(df['id'].dtype)"
   ]
  },
  {
   "cell_type": "code",
   "execution_count": 28,
   "id": "1947ebff-646f-4af1-bcf1-bad733c20a66",
   "metadata": {},
   "outputs": [],
   "source": [
    "df = df.dropna(subset=['id'])"
   ]
  },
  {
   "cell_type": "code",
   "execution_count": 29,
   "id": "11759ca0-0765-436d-aff1-df36962542de",
   "metadata": {},
   "outputs": [
    {
     "data": {
      "text/plain": [
       "0"
      ]
     },
     "execution_count": 29,
     "metadata": {},
     "output_type": "execute_result"
    }
   ],
   "source": [
    "df['id'].isnull().sum()"
   ]
  },
  {
   "cell_type": "code",
   "execution_count": 30,
   "id": "89c282aa-a54e-4877-a95b-2bc06b643244",
   "metadata": {},
   "outputs": [
    {
     "name": "stdout",
     "output_type": "stream",
     "text": [
      "float64\n"
     ]
    }
   ],
   "source": [
    "print(df['id'].dtype)"
   ]
  },
  {
   "cell_type": "code",
   "execution_count": 31,
   "id": "ee890bf2-bc48-4c1a-ada2-bdf14e5d5f8f",
   "metadata": {},
   "outputs": [],
   "source": [
    "df['id'] = df['id'].astype(int)"
   ]
  },
  {
   "cell_type": "markdown",
   "id": "d7474aec-e054-417a-94ff-5ab8eb01fb2d",
   "metadata": {},
   "source": [
    "# 2. Credits Dataset"
   ]
  },
  {
   "cell_type": "code",
   "execution_count": 32,
   "id": "f44053e3-14de-455a-8fdd-095236eb1143",
   "metadata": {},
   "outputs": [
    {
     "data": {
      "text/html": [
       "<div>\n",
       "<style scoped>\n",
       "    .dataframe tbody tr th:only-of-type {\n",
       "        vertical-align: middle;\n",
       "    }\n",
       "\n",
       "    .dataframe tbody tr th {\n",
       "        vertical-align: top;\n",
       "    }\n",
       "\n",
       "    .dataframe thead th {\n",
       "        text-align: right;\n",
       "    }\n",
       "</style>\n",
       "<table border=\"1\" class=\"dataframe\">\n",
       "  <thead>\n",
       "    <tr style=\"text-align: right;\">\n",
       "      <th></th>\n",
       "      <th>cast</th>\n",
       "      <th>crew</th>\n",
       "      <th>id</th>\n",
       "    </tr>\n",
       "  </thead>\n",
       "  <tbody>\n",
       "    <tr>\n",
       "      <th>0</th>\n",
       "      <td>[{'cast_id': 14, 'character': 'Woody (voice)',...</td>\n",
       "      <td>[{'credit_id': '52fe4284c3a36847f8024f49', 'de...</td>\n",
       "      <td>862</td>\n",
       "    </tr>\n",
       "    <tr>\n",
       "      <th>1</th>\n",
       "      <td>[{'cast_id': 1, 'character': 'Alan Parrish', '...</td>\n",
       "      <td>[{'credit_id': '52fe44bfc3a36847f80a7cd1', 'de...</td>\n",
       "      <td>8844</td>\n",
       "    </tr>\n",
       "    <tr>\n",
       "      <th>2</th>\n",
       "      <td>[{'cast_id': 2, 'character': 'Max Goldman', 'c...</td>\n",
       "      <td>[{'credit_id': '52fe466a9251416c75077a89', 'de...</td>\n",
       "      <td>15602</td>\n",
       "    </tr>\n",
       "    <tr>\n",
       "      <th>3</th>\n",
       "      <td>[{'cast_id': 1, 'character': \"Savannah 'Vannah...</td>\n",
       "      <td>[{'credit_id': '52fe44779251416c91011acb', 'de...</td>\n",
       "      <td>31357</td>\n",
       "    </tr>\n",
       "    <tr>\n",
       "      <th>4</th>\n",
       "      <td>[{'cast_id': 1, 'character': 'George Banks', '...</td>\n",
       "      <td>[{'credit_id': '52fe44959251416c75039ed7', 'de...</td>\n",
       "      <td>11862</td>\n",
       "    </tr>\n",
       "  </tbody>\n",
       "</table>\n",
       "</div>"
      ],
      "text/plain": [
       "                                                cast  \\\n",
       "0  [{'cast_id': 14, 'character': 'Woody (voice)',...   \n",
       "1  [{'cast_id': 1, 'character': 'Alan Parrish', '...   \n",
       "2  [{'cast_id': 2, 'character': 'Max Goldman', 'c...   \n",
       "3  [{'cast_id': 1, 'character': \"Savannah 'Vannah...   \n",
       "4  [{'cast_id': 1, 'character': 'George Banks', '...   \n",
       "\n",
       "                                                crew     id  \n",
       "0  [{'credit_id': '52fe4284c3a36847f8024f49', 'de...    862  \n",
       "1  [{'credit_id': '52fe44bfc3a36847f80a7cd1', 'de...   8844  \n",
       "2  [{'credit_id': '52fe466a9251416c75077a89', 'de...  15602  \n",
       "3  [{'credit_id': '52fe44779251416c91011acb', 'de...  31357  \n",
       "4  [{'credit_id': '52fe44959251416c75039ed7', 'de...  11862  "
      ]
     },
     "execution_count": 32,
     "metadata": {},
     "output_type": "execute_result"
    }
   ],
   "source": [
    "credits.head()"
   ]
  },
  {
   "cell_type": "code",
   "execution_count": 33,
   "id": "5a66fb5e-7a7f-467f-9706-8645b9ba8b31",
   "metadata": {},
   "outputs": [
    {
     "name": "stdout",
     "output_type": "stream",
     "text": [
      "<class 'pandas.core.frame.DataFrame'>\n",
      "RangeIndex: 45476 entries, 0 to 45475\n",
      "Data columns (total 3 columns):\n",
      " #   Column  Non-Null Count  Dtype \n",
      "---  ------  --------------  ----- \n",
      " 0   cast    45476 non-null  object\n",
      " 1   crew    45476 non-null  object\n",
      " 2   id      45476 non-null  int64 \n",
      "dtypes: int64(1), object(2)\n",
      "memory usage: 1.0+ MB\n"
     ]
    }
   ],
   "source": [
    "credits.info()"
   ]
  },
  {
   "cell_type": "markdown",
   "id": "e81794f9-657b-44b7-beff-d69dce154da0",
   "metadata": {},
   "source": [
    "## 2.1 Handle Duplicate Values"
   ]
  },
  {
   "cell_type": "code",
   "execution_count": 34,
   "id": "b4220494-94ac-403a-abd1-14fa490a9e07",
   "metadata": {},
   "outputs": [
    {
     "name": "stdout",
     "output_type": "stream",
     "text": [
      "Number of duplicate rows: 37\n"
     ]
    }
   ],
   "source": [
    "duplicate_count3 = credits.duplicated().sum()\n",
    "print(f\"Number of duplicate rows: {duplicate_count3}\")"
   ]
  },
  {
   "cell_type": "code",
   "execution_count": 35,
   "id": "16ddd123-f10d-4486-a54e-c53679718aa7",
   "metadata": {},
   "outputs": [],
   "source": [
    "credits = credits.drop_duplicates()"
   ]
  },
  {
   "cell_type": "markdown",
   "id": "61c44953-acba-4972-a434-1373cc32debe",
   "metadata": {},
   "source": [
    "## 2.2 Handle Missing Values"
   ]
  },
  {
   "cell_type": "code",
   "execution_count": 36,
   "id": "697c8046-e7d4-4d93-a43a-9aa20433d15d",
   "metadata": {},
   "outputs": [
    {
     "data": {
      "text/plain": [
       "cast    0\n",
       "crew    0\n",
       "id      0\n",
       "dtype: int64"
      ]
     },
     "execution_count": 36,
     "metadata": {},
     "output_type": "execute_result"
    }
   ],
   "source": [
    "credits.isnull().sum()"
   ]
  },
  {
   "cell_type": "markdown",
   "id": "f22a9c75-36f8-4917-bf99-490b01ecc66b",
   "metadata": {},
   "source": [
    "Although the results indicate that there is no missing data, it is still possible for missing data to exist. This is because the entries in the `credits` file's columns consist of lists containing dictionaries with information about the cast members and crew. As a result, when we attempt to extract information, such as the actors in each movie, we may encounter empty dictionaries or fields. Therefore, further investigation is necessary."
   ]
  },
  {
   "cell_type": "markdown",
   "id": "df14baab-67e7-4f71-8db0-c5ecc38cf4a5",
   "metadata": {},
   "source": [
    "We also need to ensure that the `credits` dataset includes only movies that are present in the `df` dataframe (movies' metadata). The reason is that we may need to combine our dataframes to consolidate all the information in one place."
   ]
  },
  {
   "cell_type": "code",
   "execution_count": 39,
   "id": "c3abc475-cd0a-4fab-b74b-955630469076",
   "metadata": {},
   "outputs": [],
   "source": [
    "# Filter the credits to include only 'df' dataframe\n",
    "filtered_credits = credits[credits['id'].isin(df['id'])]"
   ]
  },
  {
   "cell_type": "code",
   "execution_count": 40,
   "id": "a05135b9-aa5e-4ee4-9bea-9ffad3b02aa0",
   "metadata": {},
   "outputs": [
    {
     "name": "stdout",
     "output_type": "stream",
     "text": [
      "<class 'pandas.core.frame.DataFrame'>\n",
      "Int64Index: 45439 entries, 0 to 45475\n",
      "Data columns (total 3 columns):\n",
      " #   Column  Non-Null Count  Dtype \n",
      "---  ------  --------------  ----- \n",
      " 0   cast    45439 non-null  object\n",
      " 1   crew    45439 non-null  object\n",
      " 2   id      45439 non-null  int64 \n",
      "dtypes: int64(1), object(2)\n",
      "memory usage: 1.4+ MB\n"
     ]
    }
   ],
   "source": [
    "filtered_credits.info()"
   ]
  },
  {
   "cell_type": "markdown",
   "id": "af5fa680-e2da-4d4e-8178-19d0a41afb75",
   "metadata": {},
   "source": [
    "# 3. Creating a Merged Dataset"
   ]
  },
  {
   "cell_type": "code",
   "execution_count": 41,
   "id": "a47cb88d-66ff-4140-bc45-5a9dca10bde4",
   "metadata": {},
   "outputs": [],
   "source": [
    "merged = pd.merge(df, filtered_credits, on='id')"
   ]
  },
  {
   "cell_type": "markdown",
   "id": "880a047d-8c5a-4df7-9039-95fa00591e95",
   "metadata": {},
   "source": [
    "According to the result, all the movies in the metadata dataset are also available in credits."
   ]
  },
  {
   "cell_type": "markdown",
   "id": "4d17cc8a-9e41-4fc0-951a-d2fc385f2d8e",
   "metadata": {},
   "source": [
    "The columns of the `merged` dataframe are:"
   ]
  },
  {
   "cell_type": "code",
   "execution_count": 42,
   "id": "eb870d41-a32c-410d-b3c2-e645e0875dff",
   "metadata": {},
   "outputs": [
    {
     "name": "stdout",
     "output_type": "stream",
     "text": [
      "Index(['adult', 'belongs_to_collection', 'budget', 'genres', 'homepage', 'id',\n",
      "       'imdb_id', 'original_language', 'original_title', 'overview',\n",
      "       'popularity', 'poster_path', 'production_companies',\n",
      "       'production_countries', 'release_date', 'revenue', 'runtime',\n",
      "       'spoken_languages', 'status', 'tagline', 'title', 'video',\n",
      "       'vote_average', 'vote_count', 'cast', 'crew'],\n",
      "      dtype='object')\n"
     ]
    }
   ],
   "source": [
    "print(merged.columns)"
   ]
  },
  {
   "cell_type": "markdown",
   "id": "38a2c65c-eed4-4d9c-80de-e8947a8cc647",
   "metadata": {},
   "source": [
    "Although the total of null values for genres is zero, there is still missing data for genres due to many fields containing empty lists. However, We can calculate the percentage of missing data for the rest of the columns:"
   ]
  },
  {
   "cell_type": "code",
   "execution_count": 58,
   "id": "5b8e2e8f-098f-4209-9eb6-e2b7c7ea4bd6",
   "metadata": {},
   "outputs": [
    {
     "name": "stdout",
     "output_type": "stream",
     "text": [
      "belongs_to_collection    90.117021\n",
      "homepage                 82.893405\n",
      "imdb_id                   0.037394\n",
      "original_language         0.024196\n",
      "overview                  2.098456\n",
      "popularity                0.006599\n",
      "poster_path               0.849061\n",
      "production_companies      0.006599\n",
      "production_countries      0.006599\n",
      "release_date              0.191369\n",
      "revenue                   0.006599\n",
      "runtime                   0.571906\n",
      "spoken_languages          0.006599\n",
      "status                    0.184770\n",
      "tagline                  55.100963\n",
      "title                     0.006599\n",
      "video                     0.006599\n",
      "vote_average              0.006599\n",
      "vote_count                0.006599\n",
      "dtype: float64\n"
     ]
    }
   ],
   "source": [
    "# Calculate the percentage of missing values for each column\n",
    "missing_percentage = (merged.isnull().sum() / len(merged)) * 100\n",
    "\n",
    "# Filter only columns with missing values\n",
    "missing_percentage = missing_percentage[missing_percentage > 0]\n",
    "\n",
    "print(missing_percentage)"
   ]
  },
  {
   "cell_type": "markdown",
   "id": "6c4338ed-2d8f-4ba0-b8b3-4818e2c723a5",
   "metadata": {},
   "source": [
    "## 3.1 Examining the Structure of the Data:"
   ]
  },
  {
   "cell_type": "markdown",
   "id": "daa8c059-c0ac-4a05-bfd2-d5958ab8b6aa",
   "metadata": {},
   "source": [
    "The 'genres' column contains string representations of lists of dictionaries. Each string in this column represents a JSON-like structure, where:\n",
    "- Each dictionary contains key-value pairs such as 'id': 16 and 'name': 'Animation'.\n",
    "- Multiple dictionaries are enclosed in a list."
   ]
  },
  {
   "cell_type": "code",
   "execution_count": 10,
   "id": "c34459a0-536c-4157-8dc4-6ccbec1d9911",
   "metadata": {},
   "outputs": [
    {
     "name": "stdout",
     "output_type": "stream",
     "text": [
      "First item of 'genres' column:\n",
      "[{'id': 16, 'name': 'Animation'}, {'id': 35, 'name': 'Comedy'}, {'id': 10751, 'name': 'Family'}]\n",
      "\n",
      "Type of the items in 'genres' column:\n",
      "<class 'str'>\n"
     ]
    }
   ],
   "source": [
    "# To display the first item in the 'genres' column\n",
    "print(\"First item of 'genres' column:\")\n",
    "print(movies['genres'].iloc[0])\n",
    "\n",
    "# To check the type of the first item in the 'genres' column\n",
    "print(\"\\nType of the items in 'genres' column:\")\n",
    "print(type(movies['genres'].iloc[0]))"
   ]
  },
  {
   "cell_type": "markdown",
   "id": "5e944385-86df-4dad-84fc-90b6d3c74253",
   "metadata": {},
   "source": [
    "To properly extract the `genres` from this column, we need to:\n",
    "- Convert the string representation of the list of dictionaries into an actual Python list of dictionaries.\n",
    "- Extract the `name` field from each dictionary in the list."
   ]
  },
  {
   "cell_type": "markdown",
   "id": "e8e51225-54b7-4cae-ae52-103541e68069",
   "metadata": {},
   "source": [
    "We can use `ast` or Abstract Syntax Trees library to convert the string representation into an actual Python list. Later, we can define a function to convert strings into actual Python lists when we extract the genres. Inside the function, we can use a code like: `ast.literal_eval()`"
   ]
  },
  {
   "cell_type": "code",
   "execution_count": null,
   "id": "30ff59db-3f77-43de-a793-95d534981a64",
   "metadata": {},
   "outputs": [],
   "source": [
    "ast.literal_eval(genres)"
   ]
  },
  {
   "cell_type": "markdown",
   "id": "21bf1e8c-7889-490c-be9d-21441baaac28",
   "metadata": {},
   "source": [
    "Let's take a look at the `release_date` column and its format:"
   ]
  },
  {
   "cell_type": "code",
   "execution_count": 13,
   "id": "083f5e5e-26a5-4b5c-af80-3577a624eb81",
   "metadata": {},
   "outputs": [
    {
     "name": "stdout",
     "output_type": "stream",
     "text": [
      "First item of 'release_date' column:\n",
      "1995-10-30\n",
      "\n",
      "Type of the items in 'release_date' column:\n",
      "<class 'str'>\n"
     ]
    }
   ],
   "source": [
    "# Display the first item in the 'release_date' column\n",
    "print(\"First item of 'release_date' column:\")\n",
    "print(movies['release_date'].iloc[0])\n",
    "\n",
    "# Check the type of the first item in the 'release_date' column\n",
    "print(\"\\nType of the items in 'release_date' column:\")\n",
    "print(type(movies['release_date'].iloc[0]))"
   ]
  },
  {
   "cell_type": "markdown",
   "id": "4c3883e7-2661-46ba-bb63-01b1f1dc6ae1",
   "metadata": {},
   "source": [
    "We can see that the date is stored as a string. To extract the year of the movie's release, we can simply take the first four characters of the string."
   ]
  },
  {
   "cell_type": "markdown",
   "id": "d4c7ebbe-ab32-41b2-8a85-28687cd860c5",
   "metadata": {},
   "source": [
    "## 3.2 Extracting Genres"
   ]
  },
  {
   "cell_type": "code",
   "execution_count": 44,
   "id": "b3f1102b-b57c-478d-a182-f4e8c5990b73",
   "metadata": {},
   "outputs": [],
   "source": [
    "def extract_genres(genres):\n",
    "    try:\n",
    "        genres_list = ast.literal_eval(genres)\n",
    "        return [genre['name'] for genre in genres_list]\n",
    "    except (ValueError, TypeError):\n",
    "        return []"
   ]
  },
  {
   "cell_type": "code",
   "execution_count": 45,
   "id": "d2badfb9-4272-4373-aa31-2456859e0ff9",
   "metadata": {},
   "outputs": [],
   "source": [
    "merged['genres'] = merged['genres'].apply(extract_genres)"
   ]
  },
  {
   "cell_type": "code",
   "execution_count": 46,
   "id": "c5101c41-6882-4d23-b221-eb8733818567",
   "metadata": {},
   "outputs": [
    {
     "name": "stdout",
     "output_type": "stream",
     "text": [
      "{'Romance', 'Crime', 'Horror', 'War', 'Thriller', 'TV Movie', 'Comedy', 'Drama', 'Western', 'Adventure', 'Music', 'Foreign', 'Documentary', 'Fantasy', 'Family', 'Mystery', 'Animation', 'Action', 'History', 'Science Fiction'}\n"
     ]
    }
   ],
   "source": [
    "all_genres = list(itertools.chain.from_iterable(merged['genres']))\n",
    "\n",
    "unique_genres = set(all_genres)\n",
    "print(unique_genres)"
   ]
  },
  {
   "cell_type": "markdown",
   "id": "45ae1cf1-6208-44c0-aa10-04ddc94c519c",
   "metadata": {},
   "source": [
    "The genres provided by the website grouplens.org are listed below. However, based on the extraction of genres mentioned earlier, we can see that there are additional genres present in the data that are not included in the dataset from grouplens.org."
   ]
  },
  {
   "cell_type": "code",
   "execution_count": 48,
   "id": "ebdc3bae-90c0-42d6-a8fc-6a763bdcca38",
   "metadata": {},
   "outputs": [
    {
     "data": {
      "text/plain": [
       "0         [Animation, Comedy, Family]\n",
       "1        [Adventure, Fantasy, Family]\n",
       "2                   [Romance, Comedy]\n",
       "3            [Comedy, Drama, Romance]\n",
       "4                            [Comedy]\n",
       "                     ...             \n",
       "45457                 [Drama, Family]\n",
       "45458                         [Drama]\n",
       "45459       [Action, Drama, Thriller]\n",
       "45460                              []\n",
       "45461                              []\n",
       "Name: genres, Length: 45462, dtype: object"
      ]
     },
     "execution_count": 48,
     "metadata": {},
     "output_type": "execute_result"
    }
   ],
   "source": [
    "merged['genres']"
   ]
  },
  {
   "cell_type": "markdown",
   "id": "d45e5343-e574-41d3-b7d8-fc2c6c34a4a5",
   "metadata": {},
   "source": [
    "   "
   ]
  },
  {
   "cell_type": "markdown",
   "id": "07c5ecff-bbf4-4d93-8508-df4834a74c6f",
   "metadata": {},
   "source": [
    "Let's inspect the Non-List Entries: \n",
    "- we can identify the rows where the genres column does not contain lists."
   ]
  },
  {
   "cell_type": "code",
   "execution_count": 49,
   "id": "75d8f3b2-7dae-45bd-afc6-d04ab937a2ba",
   "metadata": {},
   "outputs": [
    {
     "data": {
      "text/plain": [
       "[]"
      ]
     },
     "execution_count": 49,
     "metadata": {},
     "output_type": "execute_result"
    }
   ],
   "source": [
    "non_list_entries = [i for i in merged['genres'] if type(i) != list]\n",
    "non_list_entries"
   ]
  },
  {
   "cell_type": "code",
   "execution_count": 50,
   "id": "8bd04356-c8a4-4513-86e0-ee4b6a070d78",
   "metadata": {},
   "outputs": [
    {
     "name": "stdout",
     "output_type": "stream",
     "text": [
      "[<class 'list'>]\n"
     ]
    }
   ],
   "source": [
    "unique_types = merged['genres'].apply(type).unique()\n",
    "print(unique_types)"
   ]
  },
  {
   "cell_type": "markdown",
   "id": "b28b6e80-b2e1-41f0-a6de-1b56d278b5e6",
   "metadata": {},
   "source": [
    "So, now we can be sure that our genre column is all the same type (list). However, we need to examine how many empty lists we have:"
   ]
  },
  {
   "cell_type": "code",
   "execution_count": 51,
   "id": "54e40eca-67e7-4c1c-8a36-cf4192e5a5cd",
   "metadata": {},
   "outputs": [
    {
     "data": {
      "text/plain": [
       "2441"
      ]
     },
     "execution_count": 51,
     "metadata": {},
     "output_type": "execute_result"
    }
   ],
   "source": [
    "# To count the number of empty lists in the 'genres' column\n",
    "number_of_empty_genre = sum(1 for x in merged['genres'] if x == [])\n",
    "number_of_empty_genre"
   ]
  },
  {
   "cell_type": "markdown",
   "id": "ae95d299-f050-4c74-a1ea-6b8a8ca611bd",
   "metadata": {},
   "source": [
    "This outlines the number of genres that are missing from our dataset."
   ]
  },
  {
   "cell_type": "markdown",
   "id": "7ad9c3b6-5e05-4b2b-bad6-283311db1c57",
   "metadata": {},
   "source": [
    "### 3.2.1 Retrieving Missing Data for Genres:"
   ]
  },
  {
   "cell_type": "code",
   "execution_count": 52,
   "id": "cce2d2f4-1f00-4930-a52b-3bb611e2fab3",
   "metadata": {},
   "outputs": [],
   "source": [
    "# Filter rows where 'genres' is an empty list\n",
    "empty_genres_df = merged[merged['genres'].apply(lambda x: x == [])]"
   ]
  },
  {
   "cell_type": "code",
   "execution_count": 54,
   "id": "c384e6e4-eab0-4003-bf75-fa61c57361b1",
   "metadata": {},
   "outputs": [],
   "source": [
    "# empty_genres_df.info()  # 2441 entries"
   ]
  },
  {
   "cell_type": "code",
   "execution_count": 55,
   "id": "b034b550-2c11-47b2-9910-51d41be982df",
   "metadata": {},
   "outputs": [
    {
     "data": {
      "text/plain": [
       "5"
      ]
     },
     "execution_count": 55,
     "metadata": {},
     "output_type": "execute_result"
    }
   ],
   "source": [
    "empty_genres_df['imdb_id'].isnull().sum()"
   ]
  },
  {
   "cell_type": "markdown",
   "id": "a88903a9-2243-4f6f-b11b-8f30c77a9848",
   "metadata": {},
   "source": [
    "We have five movies that do not have IMDB IDs. As a result, we cannot use the API to retrieve information about these movies unless we extract their IMDB IDs from our `links.csv` file."
   ]
  },
  {
   "cell_type": "code",
   "execution_count": 56,
   "id": "d837e03c-e429-4495-827d-8753bca5d1c0",
   "metadata": {},
   "outputs": [],
   "source": [
    "# Drop rows with null values in 'imdb_id' from empty_genres_df\n",
    "empty_genres_df = empty_genres_df.dropna(subset=['imdb_id'])"
   ]
  },
  {
   "cell_type": "markdown",
   "id": "9733f8b3-4192-4be0-9a60-19f7c4199ef1",
   "metadata": {},
   "source": [
    "#### 3.2.1.1 Using IMDB API to Retrieve Metadata (e.g. Genres) for Movies "
   ]
  },
  {
   "cell_type": "markdown",
   "id": "aec2ea69-48f9-4d82-b6a9-94d3df53a59d",
   "metadata": {},
   "source": [
    "Since the IMDb API limits free data requests to 1000 daily, we need to divide our data into three parts:"
   ]
  },
  {
   "cell_type": "code",
   "execution_count": 95,
   "id": "048ec0be-d2f1-418f-9c7c-5d745b59fa39",
   "metadata": {},
   "outputs": [],
   "source": [
    "# Divide the data into three parts\n",
    "part_1 = empty_genres_df.iloc[0:1000]   # Rows 0 to 999\n",
    "part_2 = empty_genres_df.iloc[1000:2000]  # Rows 1000 to 1999\n",
    "part_3 = empty_genres_df.iloc[2000:2442]  # Rows 2000 to 2441"
   ]
  },
  {
   "cell_type": "markdown",
   "id": "25c00cbc-73a9-4ff9-9b3f-acb6ca273b82",
   "metadata": {},
   "source": [
    "We can use a free API key to retrieve the metadata for movies for all the parts (The code below demonstrates how to utilize the API for `part_3`. Please make the necessary adjustments to retrieve the missing data for the other parts):"
   ]
  },
  {
   "cell_type": "code",
   "execution_count": 61,
   "id": "c97ae30f-46a8-4a27-855f-eda5aca3e5ce",
   "metadata": {},
   "outputs": [],
   "source": [
    "# List_of_imdbid_for_empty_genres_3 = part_3['imdb_id'].tolist()"
   ]
  },
  {
   "cell_type": "code",
   "execution_count": 62,
   "id": "237865da-f527-4346-ba1c-e605937beded",
   "metadata": {},
   "outputs": [],
   "source": [
    "# List_of_imdbid_for_empty_genres_3 "
   ]
  },
  {
   "cell_type": "code",
   "execution_count": 63,
   "id": "da2baa93-7efb-4173-aac1-0823ddf1e115",
   "metadata": {},
   "outputs": [
    {
     "name": "stdout",
     "output_type": "stream",
     "text": [
      "Fetched metadata for 441 IMDb IDs.\n"
     ]
    }
   ],
   "source": [
    "# import requests\n",
    "\n",
    "# API_KEY = \"********\"\n",
    "# BASE_URL = \"http://www.omdbapi.com/\"\n",
    "\n",
    "# # Use the list directly since it's already 1000 entries\n",
    "# metadata_list = []\n",
    "# for imdb_id in List_of_imdbid_for_empty_genres_3:\n",
    "#     params = {\n",
    "#         'i': imdb_id,  # IMDb ID from the list\n",
    "#         'apikey': API_KEY  # Your API key\n",
    "#     }\n",
    "#     response = requests.get(BASE_URL, params=params)\n",
    "#     if response.status_code == 200:\n",
    "#         metadata = response.json()\n",
    "#         metadata_list.append(metadata)\n",
    "#     else:\n",
    "#         print(f\"Failed to fetch data for IMDb ID: {imdb_id}\")\n",
    "\n",
    "# # Output the metadata_list or save it for further processing\n",
    "# print(f\"Fetched metadata for {len(metadata_list)} IMDb IDs.\")"
   ]
  },
  {
   "cell_type": "code",
   "execution_count": 64,
   "id": "af754fcb-93c4-49a2-91c0-057da67165bd",
   "metadata": {},
   "outputs": [],
   "source": [
    "# temp_part3 = pd.DataFrame(metadata_list)\n",
    "# temp_part3.to_csv('./data/imdb_metadata_part3.csv', index=False)"
   ]
  },
  {
   "cell_type": "markdown",
   "id": "2fe298db-ae27-44ba-8399-98039655c966",
   "metadata": {},
   "source": [
    "W can load the three CSV files, merge them into a single DataFrame, and save the combined dataset as `imdb_metadata.csv` using the following code:"
   ]
  },
  {
   "cell_type": "code",
   "execution_count": 102,
   "id": "ed96aac9-d81a-4304-9f2a-989d4345b558",
   "metadata": {},
   "outputs": [],
   "source": [
    "# import pandas as pd\n",
    "\n",
    "# part1 = pd.read_csv('./data/imdb_metadata_part1.csv')\n",
    "# part2 = pd.read_csv('./data/imdb_metadata_part2.csv')\n",
    "# part3 = pd.read_csv('./data/imdb_metadata_part3.csv')\n",
    "\n",
    "# # Concatenate all parts into one DataFrame\n",
    "# imdb_metadata = pd.concat([part1, part2, part3], ignore_index=True)\n",
    "\n",
    "# imdb_metadata.to_csv('./data/imdb_metadata.csv', index=False)\n",
    "\n",
    "# # Verify the result\n",
    "# print(imdb_metadata.info())\n",
    "# print(f\"Total rows in merged dataset: {len(imdb_metadata)}\")"
   ]
  },
  {
   "cell_type": "markdown",
   "id": "b906003d-eb9c-4153-a96f-a9efd0b9c9ba",
   "metadata": {},
   "source": [
    "Now, let's load the IMDb metadata into a DataFrame:"
   ]
  },
  {
   "cell_type": "code",
   "execution_count": 106,
   "id": "6c477695-7cab-49ea-81a8-e0b09d98040d",
   "metadata": {},
   "outputs": [],
   "source": [
    "imdb_metadata = pd.read_csv('./data/imdb_metadata.csv')"
   ]
  },
  {
   "cell_type": "code",
   "execution_count": 113,
   "id": "5a8e5a67-deb3-493b-8ced-df865db362d9",
   "metadata": {},
   "outputs": [
    {
     "data": {
      "text/plain": [
       "12"
      ]
     },
     "execution_count": 113,
     "metadata": {},
     "output_type": "execute_result"
    }
   ],
   "source": [
    "# Check for null values in 'Genre' column\n",
    "\n",
    "imdb_metadata['Genre'].isnull().sum()"
   ]
  },
  {
   "cell_type": "code",
   "execution_count": 114,
   "id": "b7f1b8e9-95fa-4846-8fbd-eb78d5106c52",
   "metadata": {},
   "outputs": [],
   "source": [
    "# Drop rows where 'Genre' is null\n",
    "imdb_metadata = imdb_metadata.dropna(subset=['Genre'])"
   ]
  },
  {
   "cell_type": "code",
   "execution_count": 116,
   "id": "eeb7c942-9663-440d-8bd2-aca9b1fd01e3",
   "metadata": {},
   "outputs": [
    {
     "name": "stdout",
     "output_type": "stream",
     "text": [
      "Number of duplicate rows: 1\n"
     ]
    }
   ],
   "source": [
    "# check for duplicates:\n",
    "duplicate_count4 = imdb_metadata.duplicated().sum()\n",
    "print(f\"Number of duplicate rows: {duplicate_count4}\")"
   ]
  },
  {
   "cell_type": "code",
   "execution_count": 117,
   "id": "d84a95eb-654a-43d8-869d-ea1fc1d1d866",
   "metadata": {},
   "outputs": [],
   "source": [
    "imdb_metadata = imdb_metadata.drop_duplicates()"
   ]
  },
  {
   "cell_type": "markdown",
   "id": "6a4b80ad-9619-4860-a844-2b1d46401678",
   "metadata": {},
   "source": [
    "We can use the `imdbID` column from `imdb_metadata` to fill in missing genres in `merged` based on the `imdb_id` column:"
   ]
  },
  {
   "cell_type": "code",
   "execution_count": 118,
   "id": "1d0e4093-e116-4d0d-8826-4047ef9cb372",
   "metadata": {},
   "outputs": [],
   "source": [
    "# Select relevant columns from imdb_metadata (only 'imdbID' and 'Genre')\n",
    "imdb_genres = imdb_metadata[['imdbID', 'Genre']]\n",
    "\n",
    "# Merge 'merged' with 'imdb_genres' using 'imdb_id' as the key\n",
    "merged = merged.merge(imdb_genres, how='left', left_on='imdb_id', right_on='imdbID')\n",
    "\n",
    "# Convert 'Genre' from a string into a list format to match existing 'genres' format\n",
    "def convert_genres(genre_str):\n",
    "    try:\n",
    "        return genre_str.split(', ') if isinstance(genre_str, str) else []\n",
    "    except:\n",
    "        return []\n",
    "\n",
    "merged['Genre'] = merged['Genre'].apply(convert_genres)\n",
    "\n",
    "# Fill empty genres in 'genres' column with 'Genre' column from imdb_metadata\n",
    "merged['genres'] = merged.apply(lambda row: row['Genre'] if row['genres'] == [] else row['genres'], axis=1)\n",
    "\n",
    "# Drop the temporary 'Genre' and 'imdbID' columns\n",
    "merged = merged.drop(columns=['Genre', 'imdbID'])"
   ]
  },
  {
   "cell_type": "code",
   "execution_count": 119,
   "id": "8a4ebdf9-7e42-4765-876d-9823539f0eba",
   "metadata": {},
   "outputs": [
    {
     "name": "stdout",
     "output_type": "stream",
     "text": [
      "Remaining empty genres: 16\n"
     ]
    }
   ],
   "source": [
    "# Verify that empty genres are now filled\n",
    "print(f\"Remaining empty genres: {sum(1 for x in merged['genres'] if x == [])}\")"
   ]
  },
  {
   "cell_type": "markdown",
   "id": "cc1272d5-e1aa-42f9-a17d-a9c4b57d1202",
   "metadata": {},
   "source": [
    "We can drop the remaining empty genres:"
   ]
  },
  {
   "cell_type": "code",
   "execution_count": 121,
   "id": "0fcebe73-1485-4d38-baad-8d8b7e246b01",
   "metadata": {},
   "outputs": [
    {
     "name": "stdout",
     "output_type": "stream",
     "text": [
      "Remaining empty genres: 0\n"
     ]
    }
   ],
   "source": [
    "# Drop rows where 'genres' is an empty list\n",
    "merged = merged[merged['genres'].apply(lambda x: x != [])]\n",
    "\n",
    "# Verify that there are no empty genres left\n",
    "print(f\"Remaining empty genres: {sum(1 for x in merged['genres'] if x == [])}\")  # Should print 0"
   ]
  },
  {
   "cell_type": "code",
   "execution_count": 122,
   "id": "493374e9-6e62-4484-9cc6-662c6a4de882",
   "metadata": {},
   "outputs": [
    {
     "data": {
      "text/plain": [
       "0         [Animation, Comedy, Family]\n",
       "1        [Adventure, Fantasy, Family]\n",
       "2                   [Romance, Comedy]\n",
       "3            [Comedy, Drama, Romance]\n",
       "4                            [Comedy]\n",
       "                     ...             \n",
       "45457                 [Drama, Family]\n",
       "45458                         [Drama]\n",
       "45459       [Action, Drama, Thriller]\n",
       "45460                         [Drama]\n",
       "45461            [Documentary, Music]\n",
       "Name: genres, Length: 45446, dtype: object"
      ]
     },
     "execution_count": 122,
     "metadata": {},
     "output_type": "execute_result"
    }
   ],
   "source": [
    "merged['genres']"
   ]
  },
  {
   "cell_type": "markdown",
   "id": "f8ee5ec5-8939-4617-ab0d-a5195bca95f7",
   "metadata": {},
   "source": [
    "## 3.3 Extracting the Release Years of the Movies"
   ]
  },
  {
   "cell_type": "code",
   "execution_count": 123,
   "id": "5582755e-405b-4f36-a814-a7a6f5b44af3",
   "metadata": {},
   "outputs": [
    {
     "data": {
      "text/plain": [
       "0        1995-10-30\n",
       "1        1995-12-15\n",
       "2        1995-12-22\n",
       "3        1995-12-22\n",
       "4        1995-02-10\n",
       "            ...    \n",
       "45457           NaN\n",
       "45458    2011-11-17\n",
       "45459    2003-08-01\n",
       "45460    1917-10-21\n",
       "45461    2017-06-09\n",
       "Name: release_date, Length: 45446, dtype: object"
      ]
     },
     "execution_count": 123,
     "metadata": {},
     "output_type": "execute_result"
    }
   ],
   "source": [
    "merged['release_date']"
   ]
  },
  {
   "cell_type": "code",
   "execution_count": 124,
   "id": "87fe5ffa-ca78-4df0-a41b-43f3cab5754b",
   "metadata": {},
   "outputs": [
    {
     "data": {
      "text/plain": [
       "84"
      ]
     },
     "execution_count": 124,
     "metadata": {},
     "output_type": "execute_result"
    }
   ],
   "source": [
    "merged['release_date'].isnull().sum()"
   ]
  },
  {
   "cell_type": "markdown",
   "id": "65d4f26b-37e3-4772-987a-7d182199710f",
   "metadata": {},
   "source": [
    "Drop rows where 'release_date' is missing:"
   ]
  },
  {
   "cell_type": "code",
   "execution_count": 125,
   "id": "12d1cd39-f673-4f53-b73c-26443d64c5d1",
   "metadata": {},
   "outputs": [],
   "source": [
    "merged = merged.dropna(subset=['release_date'])"
   ]
  },
  {
   "cell_type": "markdown",
   "id": "b620161a-8f58-4164-939d-b0e804291760",
   "metadata": {},
   "source": [
    "We can extract the year from the `release_date` column. Since the `release_date` is in `YYYY-MM-DD` format, we can simply extract the first four characters:"
   ]
  },
  {
   "cell_type": "code",
   "execution_count": 126,
   "id": "0e080717-0827-4b38-87b0-ca3c1dd7883b",
   "metadata": {},
   "outputs": [
    {
     "name": "stdout",
     "output_type": "stream",
     "text": [
      "  release_date  year\n",
      "0   1995-10-30  1995\n",
      "1   1995-12-15  1995\n",
      "2   1995-12-22  1995\n",
      "3   1995-12-22  1995\n",
      "4   1995-02-10  1995\n"
     ]
    }
   ],
   "source": [
    "# Convert 'release_date' to datetime format (to handle any inconsistencies)\n",
    "merged['release_date'] = pd.to_datetime(merged['release_date'], errors='coerce')\n",
    "\n",
    "# Extract the year\n",
    "merged['year'] = merged['release_date'].dt.year\n",
    "\n",
    "# Verify the results\n",
    "print(merged[['release_date', 'year']].head())"
   ]
  },
  {
   "cell_type": "code",
   "execution_count": null,
   "id": "642d3f13-7d1e-4066-bfb7-8d12890b71a7",
   "metadata": {},
   "outputs": [],
   "source": [
    "# Drop the 'release_date' column\n",
    "merged = merged.drop(columns=['release_date'])"
   ]
  },
  {
   "cell_type": "raw",
   "id": "ad89eb39-7816-4ccc-8327-4a9d137d78d5",
   "metadata": {},
   "source": [
    "We now have a dedicated column that contains the release years of the movies."
   ]
  },
  {
   "cell_type": "markdown",
   "id": "3b5cf05e-6443-4b67-93b9-f68c81735b76",
   "metadata": {},
   "source": [
    "### 3.3.1 Dropping Rows with Null Values for IMDB IDs"
   ]
  },
  {
   "cell_type": "code",
   "execution_count": 138,
   "id": "967eda4b-26cf-46e8-bb58-83deb4e1a2f2",
   "metadata": {},
   "outputs": [],
   "source": [
    "merged = merged.dropna(subset=['imdb_id'])"
   ]
  },
  {
   "cell_type": "markdown",
   "id": "68eb38f7-6c3c-40cc-a250-b86f9018d1b2",
   "metadata": {},
   "source": [
    "## 3.4 Extracting Actors' Names:"
   ]
  },
  {
   "cell_type": "markdown",
   "id": "103a39d9-e86f-48f7-a625-6a0871d04b1f",
   "metadata": {},
   "source": [
    "In the metadata file, the names of the actors are listed in the order of the main characters in the movie. Some movies feature many actors, while others have fewer. Since it's not feasible to identify the stars for the entire list of characters, only the first three actors have been extracted."
   ]
  },
  {
   "cell_type": "code",
   "execution_count": 142,
   "id": "b3c4bae7-0950-43da-8f57-dcbb98b74aa0",
   "metadata": {},
   "outputs": [],
   "source": [
    "# Extract the first three actors\n",
    "def get_first_three_actors(cast):\n",
    "    try:\n",
    "        cast_list = ast.literal_eval(cast)\n",
    "        return [actor['name'] for actor in cast_list[:3]]\n",
    "    except (ValueError, TypeError):\n",
    "        return []"
   ]
  },
  {
   "cell_type": "code",
   "execution_count": 143,
   "id": "2a51a9bb-16f0-414d-b675-f0362cf066eb",
   "metadata": {},
   "outputs": [],
   "source": [
    "merged['first_three_actors'] = merged['cast'].apply(get_first_three_actors)"
   ]
  },
  {
   "cell_type": "code",
   "execution_count": 144,
   "id": "eefa547a-a725-4f32-b29b-0b2dc88bdb2f",
   "metadata": {},
   "outputs": [
    {
     "data": {
      "text/plain": [
       "0                      [Tom Hanks, Tim Allen, Don Rickles]\n",
       "1           [Robin Williams, Jonathan Hyde, Kirsten Dunst]\n",
       "2               [Walter Matthau, Jack Lemmon, Ann-Margret]\n",
       "3        [Whitney Houston, Angela Bassett, Loretta Devine]\n",
       "4               [Steve Martin, Diane Keaton, Martin Short]\n",
       "                               ...                        \n",
       "45456       [Patrick Bergin, Uma Thurman, David Morrissey]\n",
       "45458           [Angel Aquino, Perry Dizon, Hazel Orencio]\n",
       "45459         [Erika Eleniak, Adam Baldwin, Julie du Page]\n",
       "45460    [Iwan Mosschuchin, Nathalie Lissenko, Pavel Pa...\n",
       "45461                                                   []\n",
       "Name: first_three_actors, Length: 45351, dtype: object"
      ]
     },
     "execution_count": 144,
     "metadata": {},
     "output_type": "execute_result"
    }
   ],
   "source": [
    "merged['first_three_actors']"
   ]
  },
  {
   "cell_type": "markdown",
   "id": "ea91b023-3406-45db-a046-d3cf5ff0737b",
   "metadata": {},
   "source": [
    "Now, let's explore how many empty lists we have:"
   ]
  },
  {
   "cell_type": "code",
   "execution_count": 145,
   "id": "5ce5a93b-46a4-4875-b23c-41cefae7a67e",
   "metadata": {},
   "outputs": [
    {
     "data": {
      "text/plain": [
       "2340"
      ]
     },
     "execution_count": 145,
     "metadata": {},
     "output_type": "execute_result"
    }
   ],
   "source": [
    "empty_list_actors = sum([1 for i in merged['first_three_actors'] if i == []])\n",
    "empty_list_actors"
   ]
  },
  {
   "cell_type": "markdown",
   "id": "af083647-d1b7-4b2e-bdb1-6040d4b960ee",
   "metadata": {},
   "source": [
    "One possible explanation for the missing data is that we have categories like \"Documentary,\" which obviously do not feature any actors."
   ]
  },
  {
   "cell_type": "code",
   "execution_count": 146,
   "id": "0b6d4469-7f9f-4f8d-8284-83ce5dccdb4d",
   "metadata": {},
   "outputs": [
    {
     "data": {
      "text/plain": [
       "1444"
      ]
     },
     "execution_count": 146,
     "metadata": {},
     "output_type": "execute_result"
    }
   ],
   "source": [
    "# Filter rows where 'first_three_actors' is an empty list and 'Documentary' is in genres\n",
    "documentary_empty_actors = merged[(merged['first_three_actors'].apply(lambda x: x == [])) & (merged['genres'].apply(lambda x: 'Documentary' in x))]\n",
    "\n",
    "len(documentary_empty_actors)"
   ]
  },
  {
   "cell_type": "markdown",
   "id": "c12c16dc-490a-45eb-84ac-4ff9529a436f",
   "metadata": {},
   "source": [
    "Evidently, most movies that don't list actor names fall into the \"Documentary\" category."
   ]
  },
  {
   "cell_type": "markdown",
   "id": "3884c77a-2b6f-4e86-a2eb-0b4cb245e9a7",
   "metadata": {},
   "source": [
    "### 3.4.1 Retrieving Missing Data for Actors:"
   ]
  },
  {
   "cell_type": "markdown",
   "id": "5a16c6ef-63c4-4ea2-a550-366ce6cd9ea1",
   "metadata": {},
   "source": [
    "We want to create a temporary DataFrame that includes only movies where the `first_three_actors` list is empty and the genre is not \"Documentary\", while also keeping their `imdb_id`:"
   ]
  },
  {
   "cell_type": "code",
   "execution_count": 147,
   "id": "d141a0c1-a311-4f19-80ef-213afe0b02f7",
   "metadata": {},
   "outputs": [
    {
     "name": "stdout",
     "output_type": "stream",
     "text": [
      "       imdb_id first_three_actors\n",
      "137  tt0114618                 []\n",
      "240  tt0113234                 []\n",
      "620  tt0114305                 []\n",
      "661  tt0114616                 []\n",
      "679  tt0109751                 []\n",
      "Number of movies with empty actors which don't belong to documentaries: 896\n"
     ]
    }
   ],
   "source": [
    "# Filter movies where 'first_three_actors' is an empty list and they are NOT documentaries\n",
    "temp_empty_actors_df = merged[(merged['first_three_actors'].apply(lambda x: x == [])) & (~merged['genres'].apply(lambda x: 'Documentary' in x))][['imdb_id', 'first_three_actors']]\n",
    "\n",
    "# Display the first few rows of the temporary DataFrame\n",
    "print(temp_empty_actors_df.head())\n",
    "\n",
    "print(f\"Number of movies with empty actors which don't belong to documentaries: {len(temp_empty_actors_df)}\")"
   ]
  },
  {
   "cell_type": "markdown",
   "id": "7b570240-e57e-434f-a731-eb94d69678a0",
   "metadata": {},
   "source": [
    "#### 3.4.1.1 Using IMDB API to Retrieve Metadata (Actors) for Movies "
   ]
  },
  {
   "cell_type": "markdown",
   "id": "849b66ff-d7af-4f51-8b70-5a938fdb7943",
   "metadata": {},
   "source": [
    "We can now use IMDb's API to retrieve data for all the IMDb IDs we have."
   ]
  },
  {
   "cell_type": "code",
   "execution_count": 148,
   "id": "f1cac179-5561-4337-9b49-c24c6c95528b",
   "metadata": {},
   "outputs": [],
   "source": [
    "# imdb_ids_to_fetch = temp_empty_actors_df['imdb_id'].tolist()"
   ]
  },
  {
   "cell_type": "code",
   "execution_count": 150,
   "id": "59448ce3-6005-4f33-b756-7ff132f448d2",
   "metadata": {},
   "outputs": [
    {
     "name": "stdout",
     "output_type": "stream",
     "text": [
      "Fetched metadata for 896 IMDb IDs.\n"
     ]
    }
   ],
   "source": [
    "# import requests\n",
    "\n",
    "# API_KEY = \"********\"\n",
    "# BASE_URL = \"http://www.omdbapi.com/\"\n",
    "\n",
    "# metadata_list = []\n",
    "# for imdb_id in imdb_ids_to_fetch:\n",
    "#     params = {\n",
    "#         'i': imdb_id,\n",
    "#         'apikey': API_KEY\n",
    "#     }\n",
    "#     response = requests.get(BASE_URL, params=params)\n",
    "    \n",
    "#     if response.status_code == 200:\n",
    "#         metadata = response.json()\n",
    "#         metadata_list.append(metadata)\n",
    "#     else:\n",
    "#         print(f\"Failed to fetch data for IMDb ID: {imdb_id}\")\n",
    "# print(f\"Fetched metadata for {len(metadata_list)} IMDb IDs.\")"
   ]
  },
  {
   "cell_type": "code",
   "execution_count": 152,
   "id": "6a32c524-73cb-443c-bdfe-d013315e0536",
   "metadata": {},
   "outputs": [],
   "source": [
    "# actors_metadata_df = pd.DataFrame(metadata_list)\n",
    "\n",
    "# actors_metadata_df.to_csv('./data/imdb_actors_metadata.csv', index=False)"
   ]
  },
  {
   "cell_type": "markdown",
   "id": "eec8055d-2cb7-40ed-8bc3-a1556051fa3a",
   "metadata": {},
   "source": [
    "We will load the retrieved metadata for the actors and check for any null values. We will also prepare to fill the empty lists for actors in the `merged` dataframe."
   ]
  },
  {
   "cell_type": "code",
   "execution_count": 161,
   "id": "5c78a648-a858-4887-9388-ff9367129c74",
   "metadata": {},
   "outputs": [],
   "source": [
    "actors_metadata_df = pd.read_csv('./data/imdb_actors_metadata.csv')"
   ]
  },
  {
   "cell_type": "code",
   "execution_count": 162,
   "id": "908bf30b-3c46-4c85-9625-433fc644461f",
   "metadata": {},
   "outputs": [
    {
     "data": {
      "text/plain": [
       "194"
      ]
     },
     "execution_count": 162,
     "metadata": {},
     "output_type": "execute_result"
    }
   ],
   "source": [
    "actors_metadata_df['Actors'].isnull().sum()"
   ]
  },
  {
   "cell_type": "code",
   "execution_count": 163,
   "id": "af1e4236-f7b5-4d31-a73a-c75fb255a7bb",
   "metadata": {},
   "outputs": [],
   "source": [
    "# Drop rows where 'Actors' is null\n",
    "actors_metadata_df = actors_metadata_df.dropna(subset=['Actors'])"
   ]
  },
  {
   "cell_type": "markdown",
   "id": "e26936ff-3fba-4940-9700-d7e05cf0bd48",
   "metadata": {},
   "source": [
    "To fill the empty `first_three_actors` lists in the `merged` DataFrame using the `actors_metadata_df` DataFrame (based on `imdb_id`), and extracting only the first three actors, we can do the following:"
   ]
  },
  {
   "cell_type": "code",
   "execution_count": 167,
   "id": "100cb0c6-575a-4920-84e4-915d4a51270c",
   "metadata": {},
   "outputs": [],
   "source": [
    "actors_metadata_df = actors_metadata_df[['imdbID', 'Actors']]\n",
    "\n",
    "# Extract the first three actors from the 'Actors' column\n",
    "def extract_first_three_actors(actors_str):\n",
    "    try:\n",
    "        return actors_str.split(', ')[:3] if isinstance(actors_str, str) else []\n",
    "    except:\n",
    "        return []\n",
    "\n",
    "actors_metadata_df['first_three_actors'] = actors_metadata_df['Actors'].apply(extract_first_three_actors)\n",
    "\n",
    "# Merge the actors_metadata_df with the merged DataFrame on 'imdb_id'\n",
    "merged = merged.merge(actors_metadata_df[['imdbID', 'first_three_actors']], how='left', left_on='imdb_id', right_on='imdbID')\n",
    "\n",
    "# Fill empty 'first_three_actors' lists in the merged DataFrame\n",
    "merged['first_three_actors'] = merged.apply(\n",
    "    lambda row: row['first_three_actors_y'] if row['first_three_actors_x'] == [] else row['first_three_actors_x'], axis=1\n",
    ")\n",
    "\n",
    "# Drop the temporary columns\n",
    "merged = merged.drop(columns=['first_three_actors_x', 'first_three_actors_y', 'imdbID'])"
   ]
  },
  {
   "cell_type": "markdown",
   "id": "1d5a29d9-98b6-45e4-83ed-658080e21d6a",
   "metadata": {},
   "source": [
    "**Note**: During this operation, all empty lists belonging to the `documentary` genre will be converted to null values. Therefore, we can check the number of null values."
   ]
  },
  {
   "cell_type": "code",
   "execution_count": 179,
   "id": "b8b3d11a-7732-4183-952b-2ba8c94ce7ee",
   "metadata": {},
   "outputs": [
    {
     "data": {
      "text/plain": [
       "1638"
      ]
     },
     "execution_count": 179,
     "metadata": {},
     "output_type": "execute_result"
    }
   ],
   "source": [
    "merged['first_three_actors'].isnull().sum()"
   ]
  },
  {
   "cell_type": "code",
   "execution_count": 181,
   "id": "5b4842f4-428f-41df-91d5-f4bb08f2586a",
   "metadata": {},
   "outputs": [
    {
     "name": "stdout",
     "output_type": "stream",
     "text": [
      "Remaining null actor values in documentaries: 1444\n"
     ]
    }
   ],
   "source": [
    "# Count remaining null values in 'first_three_actors' that belong to documentaries\n",
    "remaining_documentary_null_actors = merged[(merged['first_three_actors'].isnull()) & (merged['genres'].apply(lambda x: 'Documentary' in x))].shape[0]\n",
    "print(f\"Remaining null actor values in documentaries: {remaining_documentary_null_actors}\")"
   ]
  },
  {
   "cell_type": "markdown",
   "id": "7a557bf3-37c1-4fc3-9ed0-80e522a857de",
   "metadata": {},
   "source": [
    "Since we have 1,638 total null values in `first_three_actors`, and 1,444 of them belong to documentaries, we only want to drop the 194 rows that have null actors but are NOT documentaries."
   ]
  },
  {
   "cell_type": "code",
   "execution_count": 182,
   "id": "8ecf212e-45de-49eb-9f4f-6813512693d2",
   "metadata": {},
   "outputs": [
    {
     "name": "stdout",
     "output_type": "stream",
     "text": [
      "Remaining null actor values: 1444\n"
     ]
    }
   ],
   "source": [
    "# Drop only rows where 'first_three_actors' is null AND the movie is NOT a documentary\n",
    "merged = merged[~((merged['first_three_actors'].isnull()) & (~merged['genres'].apply(lambda x: 'Documentary' in x)))]\n",
    "\n",
    "# Verify the change\n",
    "remaining_null_actors = merged['first_three_actors'].isnull().sum()\n",
    "print(f\"Remaining null actor values: {remaining_null_actors}\")  # Should now be only 1,444 (documentaries)"
   ]
  },
  {
   "cell_type": "markdown",
   "id": "dffb1d51-82f8-4a00-bb4b-503deb27a65a",
   "metadata": {},
   "source": [
    "We can retain these null values for now and assign them a value such as \"no names\" later."
   ]
  },
  {
   "cell_type": "markdown",
   "id": "748323c5-1824-4f64-826f-61673e526d17",
   "metadata": {},
   "source": [
    "## 3.5 Extracting Directors' Names"
   ]
  },
  {
   "cell_type": "code",
   "execution_count": 184,
   "id": "978b8d75-a7c1-49b5-bd69-3fe5cfd54ece",
   "metadata": {},
   "outputs": [],
   "source": [
    "# Extract the director's name\n",
    "def get_director(crew):\n",
    "    try:\n",
    "        crew_list = ast.literal_eval(crew)\n",
    "        for member in crew_list:\n",
    "            if member['job'] == 'Director':\n",
    "                return member['name']\n",
    "        return None\n",
    "    except (ValueError, TypeError):\n",
    "        return None"
   ]
  },
  {
   "cell_type": "code",
   "execution_count": 185,
   "id": "61cb873c-bccd-4bd4-8bc3-8a69e6dad924",
   "metadata": {},
   "outputs": [
    {
     "name": "stderr",
     "output_type": "stream",
     "text": [
      "C:\\Users\\alire\\AppData\\Local\\Temp\\ipykernel_13472\\3850882758.py:1: SettingWithCopyWarning: \n",
      "A value is trying to be set on a copy of a slice from a DataFrame.\n",
      "Try using .loc[row_indexer,col_indexer] = value instead\n",
      "\n",
      "See the caveats in the documentation: https://pandas.pydata.org/pandas-docs/stable/user_guide/indexing.html#returning-a-view-versus-a-copy\n",
      "  merged['director'] = merged['crew'].apply(get_director)\n"
     ]
    }
   ],
   "source": [
    "merged['director'] = merged['crew'].apply(get_director)"
   ]
  },
  {
   "cell_type": "code",
   "execution_count": 186,
   "id": "cdab62ea-a4da-4f7e-98af-aa60820606cd",
   "metadata": {},
   "outputs": [
    {
     "data": {
      "text/plain": [
       "0           John Lasseter\n",
       "1            Joe Johnston\n",
       "2           Howard Deutch\n",
       "3         Forest Whitaker\n",
       "4           Charles Shyer\n",
       "               ...       \n",
       "45346          John Irvin\n",
       "45347            Lav Diaz\n",
       "45348      Mark L. Lester\n",
       "45349    Yakov Protazanov\n",
       "45350       Daisy Asquith\n",
       "Name: director, Length: 45157, dtype: object"
      ]
     },
     "execution_count": 186,
     "metadata": {},
     "output_type": "execute_result"
    }
   ],
   "source": [
    "merged['director']"
   ]
  },
  {
   "cell_type": "code",
   "execution_count": 188,
   "id": "34c51726-b070-4fe0-a48d-1691334a5087",
   "metadata": {},
   "outputs": [
    {
     "name": "stdout",
     "output_type": "stream",
     "text": [
      "A total of 828 directors' names are missing.\n"
     ]
    }
   ],
   "source": [
    "print(f\"A total of {merged['director'].isnull().sum()} directors' names are missing.\")"
   ]
  },
  {
   "cell_type": "markdown",
   "id": "4d001364-6a0d-493a-aaeb-668dc21bc596",
   "metadata": {},
   "source": [
    "### 3.5.1 Using IMDB API to Retrieve Metadata (e.g. Directors) for Movies "
   ]
  },
  {
   "cell_type": "markdown",
   "id": "629c8ace-18ff-4a4b-bf6e-1c6e36c0a1a7",
   "metadata": {},
   "source": [
    "We can extract the IMDb IDs of movies that have missing director names and save them to a list using the following code:"
   ]
  },
  {
   "cell_type": "code",
   "execution_count": 189,
   "id": "22babaf1-fccb-46d3-9256-55d9444d3ec5",
   "metadata": {},
   "outputs": [],
   "source": [
    "# # Extract IMDb IDs where the 'director' column is null\n",
    "# missing_directors_imdb_ids = merged[merged['director'].isnull()]['imdb_id'].tolist()"
   ]
  },
  {
   "cell_type": "markdown",
   "id": "75cd7c85-fbae-4df1-93d8-db80fd5bb3e8",
   "metadata": {},
   "source": [
    "We can retrieve metadata for the list of IMDb IDs using the API:"
   ]
  },
  {
   "cell_type": "code",
   "execution_count": 190,
   "id": "c6d53b10-897d-4403-a5bf-1d5dc162662f",
   "metadata": {},
   "outputs": [
    {
     "name": "stdout",
     "output_type": "stream",
     "text": [
      "Fetched metadata for 828 IMDb IDs.\n"
     ]
    }
   ],
   "source": [
    "# import requests\n",
    "\n",
    "# API_KEY = \"********\"\n",
    "# BASE_URL = \"http://www.omdbapi.com/\"\n",
    "\n",
    "# metadata_list = []\n",
    "# for imdb_id in missing_directors_imdb_ids:\n",
    "#     params = {\n",
    "#         'i': imdb_id,\n",
    "#         'apikey': API_KEY\n",
    "#     }\n",
    "#     response = requests.get(BASE_URL, params=params)\n",
    "    \n",
    "#     if response.status_code == 200:\n",
    "#         metadata = response.json()\n",
    "#         metadata_list.append(metadata)\n",
    "#     else:\n",
    "#         print(f\"Failed to fetch data for IMDb ID: {imdb_id}\")\n",
    "# print(f\"Fetched metadata for {len(metadata_list)} IMDb IDs.\")"
   ]
  },
  {
   "cell_type": "code",
   "execution_count": 191,
   "id": "364de370-dd7a-46f9-97bc-55900578a1be",
   "metadata": {},
   "outputs": [],
   "source": [
    "# directors_metadata_df = pd.DataFrame(metadata_list)\n",
    "\n",
    "# directors_metadata_df.to_csv('./data/imdb_directors_metadata.csv', index=False)"
   ]
  },
  {
   "cell_type": "code",
   "execution_count": 192,
   "id": "c1bf7c56-6a30-4090-9344-0909613cdfb9",
   "metadata": {},
   "outputs": [],
   "source": [
    "directors_metadata_df = pd.read_csv('./data/imdb_directors_metadata.csv')"
   ]
  },
  {
   "cell_type": "markdown",
   "id": "7d7cb756-fbac-444b-988c-a3162b75ffd6",
   "metadata": {},
   "source": [
    "Now, let's fill the null values in the `director` column of the `merged` DataFrame using the first name from the `Director` column in `directors_metadata_df`, matching on `imdb_id`:"
   ]
  },
  {
   "cell_type": "code",
   "execution_count": null,
   "id": "e1378298-ea9e-443e-b661-309655d2d8f7",
   "metadata": {},
   "outputs": [],
   "source": [
    "# Extract the first director's name (some movies may have multiple directors listed)\n",
    "def get_first_director(director_str):\n",
    "    try:\n",
    "        return director_str.split(', ')[0] if isinstance(director_str, str) else None\n",
    "    except:\n",
    "        return None\n",
    "\n",
    "directors_metadata_df['Director'] = directors_metadata_df['Director'].apply(get_first_director)\n",
    "\n",
    "# Merge directors_metadata_df into merged DataFrame\n",
    "merged = merged.merge(directors_metadata_df, how='left', left_on='imdb_id', right_on='imdbID')\n",
    "\n",
    "# Fill missing director names in 'merged' with the first director from IMDb data\n",
    "merged['director'] = merged.apply(\n",
    "    lambda row: row['Director'] if pd.isnull(row['director']) else row['director'], axis=1\n",
    ")\n",
    "\n",
    "# Drop the temporary columns\n",
    "merged = merged.drop(columns=['imdbID', 'Director'])\n",
    "\n",
    "# # Verify the number of remaining null directors\n",
    "# remaining_null_directors = merged['director'].isnull().sum()\n",
    "# print(f\"Remaining null director values: {remaining_null_directors}\")"
   ]
  },
  {
   "cell_type": "markdown",
   "id": "6181ca12-afb5-49c0-805f-efc9bbace85a",
   "metadata": {},
   "source": [
    "We will remove the remaining null values as they are not included in the metadata retrieved from IMDB."
   ]
  },
  {
   "cell_type": "code",
   "execution_count": 196,
   "id": "8f45d965-3d28-4f78-8fdb-8793f9215088",
   "metadata": {},
   "outputs": [],
   "source": [
    "# Drop rows where 'director' is null\n",
    "merged = merged.dropna(subset=['director'])"
   ]
  },
  {
   "cell_type": "code",
   "execution_count": 197,
   "id": "31bf9895-4485-4eac-a62c-10112ab8d0c6",
   "metadata": {},
   "outputs": [
    {
     "data": {
      "text/plain": [
       "0"
      ]
     },
     "execution_count": 197,
     "metadata": {},
     "output_type": "execute_result"
    }
   ],
   "source": [
    "merged['director'].isnull().sum()"
   ]
  },
  {
   "cell_type": "markdown",
   "id": "a0b02071-2297-4230-ab99-7198c0a37c76",
   "metadata": {},
   "source": [
    "## 3.6 ExtractingProduction Company"
   ]
  },
  {
   "cell_type": "code",
   "execution_count": 203,
   "id": "785617f2-d68b-4ec7-b405-28e01829eecd",
   "metadata": {},
   "outputs": [],
   "source": [
    "def get_production_company_names(companies):\n",
    "    try:\n",
    "        companies_list = ast.literal_eval(companies)  # Convert string to list\n",
    "        return [company['name'] for company in companies_list]  # Extract names of all companies\n",
    "    except (ValueError, TypeError):\n",
    "        return []"
   ]
  },
  {
   "cell_type": "code",
   "execution_count": 204,
   "id": "fcde36ab-dfc2-415c-ba76-405f0fdc39c0",
   "metadata": {},
   "outputs": [],
   "source": [
    "merged['production_companies'] = merged['production_companies'].apply(get_production_company_names)"
   ]
  },
  {
   "cell_type": "code",
   "execution_count": 205,
   "id": "50898887-fce8-4837-8e47-46614ec9fbfa",
   "metadata": {},
   "outputs": [
    {
     "data": {
      "text/plain": [
       "0                                [Pixar Animation Studios]\n",
       "1        [TriStar Pictures, Teitler Film, Interscope Co...\n",
       "2                           [Warner Bros., Lancaster Gate]\n",
       "3                 [Twentieth Century Fox Film Corporation]\n",
       "4             [Sandollar Productions, Touchstone Pictures]\n",
       "                               ...                        \n",
       "45152    [Westdeutscher Rundfunk (WDR), Working Title F...\n",
       "45153                                        [Sine Olivia]\n",
       "45154                            [American World Pictures]\n",
       "45155                                          [Yermoliev]\n",
       "45156                                                   []\n",
       "Name: production_companies, Length: 45059, dtype: object"
      ]
     },
     "execution_count": 205,
     "metadata": {},
     "output_type": "execute_result"
    }
   ],
   "source": [
    "merged['production_companies']"
   ]
  },
  {
   "cell_type": "code",
   "execution_count": 206,
   "id": "7f7c74d2-1b2e-4ff5-9849-538bec700047",
   "metadata": {},
   "outputs": [
    {
     "data": {
      "text/plain": [
       "11607"
      ]
     },
     "execution_count": 206,
     "metadata": {},
     "output_type": "execute_result"
    }
   ],
   "source": [
    "# To count the number of empty lists in the 'production_companies' column\n",
    "number_of_empty = sum(1 for x in merged['production_companies'] if x == [])\n",
    "number_of_empty"
   ]
  },
  {
   "cell_type": "markdown",
   "id": "bddeefbb-1288-45a1-99e5-00adef378ad5",
   "metadata": {},
   "source": [
    "Certain features, such as \"production_companies,\" may not be as important as genres, actors, and directors. If there is a significant amount of missing data and we do not have access to an API to retrieve this information, we may choose to disregard this content."
   ]
  },
  {
   "cell_type": "markdown",
   "id": "43fc98d6-2008-483b-aec5-33a88d357845",
   "metadata": {},
   "source": [
    "# 4. Ratings Dataset"
   ]
  },
  {
   "cell_type": "code",
   "execution_count": 5,
   "id": "f48d6cb3-1597-4570-9e7f-ad3ceb16cc4c",
   "metadata": {},
   "outputs": [
    {
     "data": {
      "text/html": [
       "<div>\n",
       "<style scoped>\n",
       "    .dataframe tbody tr th:only-of-type {\n",
       "        vertical-align: middle;\n",
       "    }\n",
       "\n",
       "    .dataframe tbody tr th {\n",
       "        vertical-align: top;\n",
       "    }\n",
       "\n",
       "    .dataframe thead th {\n",
       "        text-align: right;\n",
       "    }\n",
       "</style>\n",
       "<table border=\"1\" class=\"dataframe\">\n",
       "  <thead>\n",
       "    <tr style=\"text-align: right;\">\n",
       "      <th></th>\n",
       "      <th>userId</th>\n",
       "      <th>movieId</th>\n",
       "      <th>rating</th>\n",
       "      <th>timestamp</th>\n",
       "    </tr>\n",
       "  </thead>\n",
       "  <tbody>\n",
       "    <tr>\n",
       "      <th>0</th>\n",
       "      <td>1</td>\n",
       "      <td>31</td>\n",
       "      <td>2.5</td>\n",
       "      <td>1260759144</td>\n",
       "    </tr>\n",
       "    <tr>\n",
       "      <th>1</th>\n",
       "      <td>1</td>\n",
       "      <td>1029</td>\n",
       "      <td>3.0</td>\n",
       "      <td>1260759179</td>\n",
       "    </tr>\n",
       "    <tr>\n",
       "      <th>2</th>\n",
       "      <td>1</td>\n",
       "      <td>1061</td>\n",
       "      <td>3.0</td>\n",
       "      <td>1260759182</td>\n",
       "    </tr>\n",
       "    <tr>\n",
       "      <th>3</th>\n",
       "      <td>1</td>\n",
       "      <td>1129</td>\n",
       "      <td>2.0</td>\n",
       "      <td>1260759185</td>\n",
       "    </tr>\n",
       "    <tr>\n",
       "      <th>4</th>\n",
       "      <td>1</td>\n",
       "      <td>1172</td>\n",
       "      <td>4.0</td>\n",
       "      <td>1260759205</td>\n",
       "    </tr>\n",
       "  </tbody>\n",
       "</table>\n",
       "</div>"
      ],
      "text/plain": [
       "   userId  movieId  rating   timestamp\n",
       "0       1       31     2.5  1260759144\n",
       "1       1     1029     3.0  1260759179\n",
       "2       1     1061     3.0  1260759182\n",
       "3       1     1129     2.0  1260759185\n",
       "4       1     1172     4.0  1260759205"
      ]
     },
     "execution_count": 5,
     "metadata": {},
     "output_type": "execute_result"
    }
   ],
   "source": [
    "ratings.head()"
   ]
  },
  {
   "cell_type": "code",
   "execution_count": 194,
   "id": "ebac8858-776b-4c8b-b33e-8e578e0873e3",
   "metadata": {},
   "outputs": [
    {
     "name": "stdout",
     "output_type": "stream",
     "text": [
      "<class 'pandas.core.frame.DataFrame'>\n",
      "RangeIndex: 26024289 entries, 0 to 26024288\n",
      "Data columns (total 4 columns):\n",
      " #   Column     Dtype  \n",
      "---  ------     -----  \n",
      " 0   userId     int64  \n",
      " 1   movieId    int64  \n",
      " 2   rating     float64\n",
      " 3   timestamp  int64  \n",
      "dtypes: float64(1), int64(3)\n",
      "memory usage: 794.2 MB\n"
     ]
    }
   ],
   "source": [
    "ratings.info()"
   ]
  },
  {
   "cell_type": "markdown",
   "id": "92918306-d324-40ab-b43c-ff3a83fbb782",
   "metadata": {},
   "source": [
    "### 4.1 Handling Duplicates:"
   ]
  },
  {
   "cell_type": "code",
   "execution_count": 195,
   "id": "11db09e4-f074-4d9f-84a8-6b8fb6ce4edc",
   "metadata": {},
   "outputs": [
    {
     "name": "stdout",
     "output_type": "stream",
     "text": [
      "Number of duplicate rows: 0\n"
     ]
    }
   ],
   "source": [
    "duplicate_count2 = ratings.duplicated().sum()\n",
    "print(f\"Number of duplicate rows: {duplicate_count2}\")"
   ]
  },
  {
   "cell_type": "markdown",
   "id": "1c5fb789-97d7-4535-86f6-1a4dcda3c7c2",
   "metadata": {},
   "source": [
    "### 4.2 Handling Missing Value:"
   ]
  },
  {
   "cell_type": "code",
   "execution_count": 196,
   "id": "fff90f84-3bda-4399-85ad-09be0d7e33a8",
   "metadata": {},
   "outputs": [
    {
     "data": {
      "text/plain": [
       "userId       False\n",
       "movieId      False\n",
       "rating       False\n",
       "timestamp    False\n",
       "dtype: bool"
      ]
     },
     "execution_count": 196,
     "metadata": {},
     "output_type": "execute_result"
    }
   ],
   "source": [
    "ratings.isnull().any()"
   ]
  },
  {
   "cell_type": "markdown",
   "id": "1e5030ff-2d4d-4a30-ad2c-721fbfa9830b",
   "metadata": {},
   "source": [
    "# 5. Selecting Relevant Columns and Cleaning the Data:"
   ]
  },
  {
   "cell_type": "markdown",
   "id": "4980309b-1be5-41ab-82f8-a6125e3e6441",
   "metadata": {},
   "source": [
    "Selecting Columns from Merged DataFrame:"
   ]
  },
  {
   "cell_type": "code",
   "execution_count": 199,
   "id": "c63eb62d-9fd8-4e45-b1bb-23093d8ed4a4",
   "metadata": {},
   "outputs": [],
   "source": [
    "# List of columns to drop (these are columns that were added while we were merging the data to fill up the missing fields)\n",
    "columns_to_drop = [\n",
    "    'Title', 'Year', 'Rated', 'Released', 'Runtime', 'Genre', 'Writer', 'Actors', 'Plot',\n",
    "    'Language', 'Country', 'Awards', 'Poster', 'Ratings', 'Metascore', 'imdbRating', 'imdbVotes',\n",
    "    'Type', 'DVD', 'BoxOffice', 'Production', 'Website', 'Response', 'totalSeasons', 'Season', 'Episode', 'seriesID'\n",
    "]\n",
    "\n",
    "merged = merged.drop(columns=columns_to_drop)"
   ]
  },
  {
   "cell_type": "code",
   "execution_count": 200,
   "id": "63025724-a123-4097-bed5-4d4038361a51",
   "metadata": {},
   "outputs": [
    {
     "name": "stdout",
     "output_type": "stream",
     "text": [
      "<class 'pandas.core.frame.DataFrame'>\n",
      "Int64Index: 45059 entries, 0 to 45156\n",
      "Data columns (total 28 columns):\n",
      " #   Column                 Non-Null Count  Dtype  \n",
      "---  ------                 --------------  -----  \n",
      " 0   adult                  45059 non-null  object \n",
      " 1   belongs_to_collection  4482 non-null   object \n",
      " 2   budget                 45059 non-null  object \n",
      " 3   genres                 45059 non-null  object \n",
      " 4   homepage               7721 non-null   object \n",
      " 5   id                     45059 non-null  int32  \n",
      " 6   imdb_id                45059 non-null  object \n",
      " 7   original_language      45049 non-null  object \n",
      " 8   original_title         45059 non-null  object \n",
      " 9   overview               44125 non-null  object \n",
      " 10  popularity             45059 non-null  object \n",
      " 11  poster_path            44748 non-null  object \n",
      " 12  production_companies   45059 non-null  object \n",
      " 13  production_countries   45059 non-null  object \n",
      " 14  revenue                45059 non-null  float64\n",
      " 15  runtime                44816 non-null  float64\n",
      " 16  spoken_languages       45059 non-null  object \n",
      " 17  status                 44985 non-null  object \n",
      " 18  tagline                20366 non-null  object \n",
      " 19  title                  45059 non-null  object \n",
      " 20  video                  45059 non-null  object \n",
      " 21  vote_average           45059 non-null  float64\n",
      " 22  vote_count             45059 non-null  float64\n",
      " 23  cast                   45059 non-null  object \n",
      " 24  crew                   45059 non-null  object \n",
      " 25  year                   45059 non-null  int64  \n",
      " 26  first_three_actors     43637 non-null  object \n",
      " 27  director               45059 non-null  object \n",
      "dtypes: float64(4), int32(1), int64(1), object(22)\n",
      "memory usage: 9.8+ MB\n"
     ]
    }
   ],
   "source": [
    "merged.info()"
   ]
  },
  {
   "cell_type": "markdown",
   "id": "2da66a71-07e7-49ba-aaa0-313533b93511",
   "metadata": {},
   "source": [
    "Before selecting the columns that are important to us, we can save the merged results in a CSV file:"
   ]
  },
  {
   "cell_type": "code",
   "execution_count": 202,
   "id": "4a3a5585-bb62-4bae-ad28-41e55e8d550e",
   "metadata": {},
   "outputs": [],
   "source": [
    "# # Save the merged DataFrame to a CSV file\n",
    "# merged.to_csv('./data/merged_df.csv', index=False)"
   ]
  },
  {
   "cell_type": "markdown",
   "id": "3bf94b05-048b-4ca5-878d-5e0956458fca",
   "metadata": {},
   "source": [
    "#### Load Updated Merged DataFrame:"
   ]
  },
  {
   "cell_type": "code",
   "execution_count": 150,
   "id": "ee6c72f8-4b0a-4ea9-b7e4-098236d5fec2",
   "metadata": {},
   "outputs": [],
   "source": [
    "merged = pd.read_csv('./data/merged_df.csv')"
   ]
  },
  {
   "cell_type": "code",
   "execution_count": 151,
   "id": "6f0d0c42-db9d-4e06-8973-ce8fd3f7164e",
   "metadata": {},
   "outputs": [],
   "source": [
    "# Define the final columns and their order\n",
    "final_columns = ['id', 'title', 'year', 'genres', 'first_three_actors', \n",
    "                 'director', 'original_language', 'imdb_id']\n",
    "\n",
    "# Create a new DataFrame with only these columns\n",
    "merged_final = merged[final_columns]"
   ]
  },
  {
   "cell_type": "code",
   "execution_count": 152,
   "id": "e6c4fa55-99fe-4ee4-8c3e-0e46af4a84f0",
   "metadata": {},
   "outputs": [
    {
     "data": {
      "text/plain": [
       "id                       0\n",
       "title                    0\n",
       "year                     0\n",
       "genres                   0\n",
       "first_three_actors    1422\n",
       "director                 0\n",
       "original_language       10\n",
       "imdb_id                  0\n",
       "dtype: int64"
      ]
     },
     "execution_count": 152,
     "metadata": {},
     "output_type": "execute_result"
    }
   ],
   "source": [
    "merged_final.isnull().sum()"
   ]
  },
  {
   "cell_type": "code",
   "execution_count": 153,
   "id": "f13f1422-b936-4069-997b-60d787d49807",
   "metadata": {},
   "outputs": [],
   "source": [
    "# Drop rows where 'original_language' is null\n",
    "merged_final = merged_final.dropna(subset=['original_language'])"
   ]
  },
  {
   "cell_type": "code",
   "execution_count": 154,
   "id": "6048dc14-060a-41c2-b582-c4b4c3c3389e",
   "metadata": {},
   "outputs": [
    {
     "data": {
      "text/plain": [
       "1421"
      ]
     },
     "execution_count": 154,
     "metadata": {},
     "output_type": "execute_result"
    }
   ],
   "source": [
    "merged_final['first_three_actors'].isnull().sum()"
   ]
  },
  {
   "cell_type": "markdown",
   "id": "aa4b7193-9881-44e7-98ba-0af3891ed8f1",
   "metadata": {},
   "source": [
    "**Note:** These are all the movies that belong to the documentary genre. Therefore, all movies in the documentary genre can be assigned \"no actors.\""
   ]
  },
  {
   "cell_type": "code",
   "execution_count": 155,
   "id": "249e06c3-3bd7-4869-b9cb-d329dc6c9884",
   "metadata": {},
   "outputs": [],
   "source": [
    "# Fill null values with \"No Actor\"\n",
    "merged_final['first_three_actors'] = merged_final['first_three_actors'].fillna(\"['No Actor']\")"
   ]
  },
  {
   "cell_type": "code",
   "execution_count": 156,
   "id": "a1c9a116-9840-4502-8268-dfe8e8fba747",
   "metadata": {},
   "outputs": [
    {
     "data": {
      "text/plain": [
       "0"
      ]
     },
     "execution_count": 156,
     "metadata": {},
     "output_type": "execute_result"
    }
   ],
   "source": [
    "merged_final['first_three_actors'].isnull().sum()"
   ]
  },
  {
   "cell_type": "code",
   "execution_count": 157,
   "id": "86ab24eb-9d4d-4d9b-bd53-5ae7e6174590",
   "metadata": {},
   "outputs": [
    {
     "data": {
      "text/plain": [
       "29"
      ]
     },
     "execution_count": 157,
     "metadata": {},
     "output_type": "execute_result"
    }
   ],
   "source": [
    "merged_final.duplicated().sum()"
   ]
  },
  {
   "cell_type": "code",
   "execution_count": 158,
   "id": "7f8e1dc4-d159-4069-beab-5aa421928b9d",
   "metadata": {},
   "outputs": [],
   "source": [
    "merged_final = merged_final.drop_duplicates()"
   ]
  },
  {
   "cell_type": "markdown",
   "id": "6737e1e5-a873-4735-93ca-fdc3054beedb",
   "metadata": {},
   "source": [
    "Let's examine the structure of our data. It would be more effective to store the `genres` and `first_three_actors` as strings seperated by commas instead of as lists. Please note that these lists are represented as strings rather than as Python list types, as this is how the IMDb data and the data we used are formatted."
   ]
  },
  {
   "cell_type": "code",
   "execution_count": 159,
   "id": "39535503-86b2-4e11-9167-1004c9f3af54",
   "metadata": {},
   "outputs": [
    {
     "name": "stdout",
     "output_type": "stream",
     "text": [
      "<class 'str'>\n"
     ]
    }
   ],
   "source": [
    "print(type(merged_final['genres'].iloc[0]))  # Checks the first row"
   ]
  },
  {
   "cell_type": "code",
   "execution_count": 160,
   "id": "c2252c9f-7f49-40d9-8770-0e45bf76418e",
   "metadata": {},
   "outputs": [
    {
     "data": {
      "text/html": [
       "<div>\n",
       "<style scoped>\n",
       "    .dataframe tbody tr th:only-of-type {\n",
       "        vertical-align: middle;\n",
       "    }\n",
       "\n",
       "    .dataframe tbody tr th {\n",
       "        vertical-align: top;\n",
       "    }\n",
       "\n",
       "    .dataframe thead th {\n",
       "        text-align: right;\n",
       "    }\n",
       "</style>\n",
       "<table border=\"1\" class=\"dataframe\">\n",
       "  <thead>\n",
       "    <tr style=\"text-align: right;\">\n",
       "      <th></th>\n",
       "      <th>id</th>\n",
       "      <th>title</th>\n",
       "      <th>year</th>\n",
       "      <th>genres</th>\n",
       "      <th>first_three_actors</th>\n",
       "      <th>director</th>\n",
       "      <th>original_language</th>\n",
       "      <th>imdb_id</th>\n",
       "    </tr>\n",
       "  </thead>\n",
       "  <tbody>\n",
       "    <tr>\n",
       "      <th>0</th>\n",
       "      <td>862</td>\n",
       "      <td>Toy Story</td>\n",
       "      <td>1995</td>\n",
       "      <td>['Animation', 'Comedy', 'Family']</td>\n",
       "      <td>['Tom Hanks', 'Tim Allen', 'Don Rickles']</td>\n",
       "      <td>John Lasseter</td>\n",
       "      <td>en</td>\n",
       "      <td>tt0114709</td>\n",
       "    </tr>\n",
       "    <tr>\n",
       "      <th>1</th>\n",
       "      <td>8844</td>\n",
       "      <td>Jumanji</td>\n",
       "      <td>1995</td>\n",
       "      <td>['Adventure', 'Fantasy', 'Family']</td>\n",
       "      <td>['Robin Williams', 'Jonathan Hyde', 'Kirsten D...</td>\n",
       "      <td>Joe Johnston</td>\n",
       "      <td>en</td>\n",
       "      <td>tt0113497</td>\n",
       "    </tr>\n",
       "    <tr>\n",
       "      <th>2</th>\n",
       "      <td>15602</td>\n",
       "      <td>Grumpier Old Men</td>\n",
       "      <td>1995</td>\n",
       "      <td>['Romance', 'Comedy']</td>\n",
       "      <td>['Walter Matthau', 'Jack Lemmon', 'Ann-Margret']</td>\n",
       "      <td>Howard Deutch</td>\n",
       "      <td>en</td>\n",
       "      <td>tt0113228</td>\n",
       "    </tr>\n",
       "    <tr>\n",
       "      <th>3</th>\n",
       "      <td>31357</td>\n",
       "      <td>Waiting to Exhale</td>\n",
       "      <td>1995</td>\n",
       "      <td>['Comedy', 'Drama', 'Romance']</td>\n",
       "      <td>['Whitney Houston', 'Angela Bassett', 'Loretta...</td>\n",
       "      <td>Forest Whitaker</td>\n",
       "      <td>en</td>\n",
       "      <td>tt0114885</td>\n",
       "    </tr>\n",
       "    <tr>\n",
       "      <th>4</th>\n",
       "      <td>11862</td>\n",
       "      <td>Father of the Bride Part II</td>\n",
       "      <td>1995</td>\n",
       "      <td>['Comedy']</td>\n",
       "      <td>['Steve Martin', 'Diane Keaton', 'Martin Short']</td>\n",
       "      <td>Charles Shyer</td>\n",
       "      <td>en</td>\n",
       "      <td>tt0113041</td>\n",
       "    </tr>\n",
       "  </tbody>\n",
       "</table>\n",
       "</div>"
      ],
      "text/plain": [
       "      id                        title  year  \\\n",
       "0    862                    Toy Story  1995   \n",
       "1   8844                      Jumanji  1995   \n",
       "2  15602             Grumpier Old Men  1995   \n",
       "3  31357            Waiting to Exhale  1995   \n",
       "4  11862  Father of the Bride Part II  1995   \n",
       "\n",
       "                               genres  \\\n",
       "0   ['Animation', 'Comedy', 'Family']   \n",
       "1  ['Adventure', 'Fantasy', 'Family']   \n",
       "2               ['Romance', 'Comedy']   \n",
       "3      ['Comedy', 'Drama', 'Romance']   \n",
       "4                          ['Comedy']   \n",
       "\n",
       "                                  first_three_actors         director  \\\n",
       "0          ['Tom Hanks', 'Tim Allen', 'Don Rickles']    John Lasseter   \n",
       "1  ['Robin Williams', 'Jonathan Hyde', 'Kirsten D...     Joe Johnston   \n",
       "2   ['Walter Matthau', 'Jack Lemmon', 'Ann-Margret']    Howard Deutch   \n",
       "3  ['Whitney Houston', 'Angela Bassett', 'Loretta...  Forest Whitaker   \n",
       "4   ['Steve Martin', 'Diane Keaton', 'Martin Short']    Charles Shyer   \n",
       "\n",
       "  original_language    imdb_id  \n",
       "0                en  tt0114709  \n",
       "1                en  tt0113497  \n",
       "2                en  tt0113228  \n",
       "3                en  tt0114885  \n",
       "4                en  tt0113041  "
      ]
     },
     "execution_count": 160,
     "metadata": {},
     "output_type": "execute_result"
    }
   ],
   "source": [
    "merged_final.head()"
   ]
  },
  {
   "cell_type": "code",
   "execution_count": 161,
   "id": "81768079-78c4-4759-85b6-3023bf4a0713",
   "metadata": {},
   "outputs": [],
   "source": [
    "# Convert string representations of lists back to actual lists, then join as comma-separated strings\n",
    "merged_final['genres'] = merged_final['genres'].apply(lambda x: ', '.join(ast.literal_eval(x)) if isinstance(x, str) else x)\n",
    "merged_final['first_three_actors'] = merged_final['first_three_actors'].apply(lambda x: ', '.join(ast.literal_eval(x)) if isinstance(x, str) else x)"
   ]
  },
  {
   "cell_type": "markdown",
   "id": "15b3a50b-ac30-4482-89e0-5c861911b573",
   "metadata": {},
   "source": [
    "We will replace the null values in the `first_three_actors`\tcolumn for documentary genre movies with \"No Actor\""
   ]
  },
  {
   "cell_type": "code",
   "execution_count": 162,
   "id": "5f4a17a8-c513-45bd-a351-16ce6b121690",
   "metadata": {},
   "outputs": [],
   "source": [
    "# Fill null values with \"No Actor\"\n",
    "merged_final['first_three_actors'] = merged_final['first_three_actors'].fillna('No Actor')"
   ]
  },
  {
   "cell_type": "code",
   "execution_count": 163,
   "id": "36beb39a-a435-4b07-90f2-7655835941cc",
   "metadata": {},
   "outputs": [
    {
     "data": {
      "text/plain": [
       "0"
      ]
     },
     "execution_count": 163,
     "metadata": {},
     "output_type": "execute_result"
    }
   ],
   "source": [
    "merged_final['first_three_actors'].isnull().sum()"
   ]
  },
  {
   "cell_type": "markdown",
   "id": "5596b044-e714-442d-b2f3-cd5d6e20889a",
   "metadata": {},
   "source": [
    "Our data has been cleaned and is free of any structural issues or missing values:"
   ]
  },
  {
   "cell_type": "code",
   "execution_count": 174,
   "id": "2b2d2cdf-d1eb-4bac-bbe6-3472813be9ea",
   "metadata": {},
   "outputs": [],
   "source": [
    "# # Save the final cleaned dataset\n",
    "# merged_final.to_csv('./data/cleaned_data2.csv', index=False)"
   ]
  },
  {
   "cell_type": "markdown",
   "id": "ef7688d2-f6f4-45bc-a30f-01febc912764",
   "metadata": {},
   "source": [
    "# 6. Load Clean Data:"
   ]
  },
  {
   "cell_type": "code",
   "execution_count": 180,
   "id": "b621444e-2e1b-4c0e-baf7-96202b12e74c",
   "metadata": {},
   "outputs": [],
   "source": [
    "clean_data = pd.read_csv('./data/cleaned_data2.csv')"
   ]
  },
  {
   "cell_type": "code",
   "execution_count": 181,
   "id": "613c5cf6-9940-45b9-bea5-0662a99e5032",
   "metadata": {},
   "outputs": [
    {
     "data": {
      "text/plain": [
       "id                    False\n",
       "title                 False\n",
       "year                  False\n",
       "genres                False\n",
       "first_three_actors    False\n",
       "director              False\n",
       "original_language     False\n",
       "imdb_id               False\n",
       "dtype: bool"
      ]
     },
     "execution_count": 181,
     "metadata": {},
     "output_type": "execute_result"
    }
   ],
   "source": [
    "clean_data.isnull().any()"
   ]
  },
  {
   "cell_type": "code",
   "execution_count": 182,
   "id": "8da5b364-ae34-4f26-8215-a9e41ddc14bf",
   "metadata": {},
   "outputs": [
    {
     "data": {
      "text/plain": [
       "False"
      ]
     },
     "execution_count": 182,
     "metadata": {},
     "output_type": "execute_result"
    }
   ],
   "source": [
    "clean_data.duplicated().any()"
   ]
  },
  {
   "cell_type": "code",
   "execution_count": 183,
   "id": "7cc1ceb9-d734-491e-b636-185d07c27416",
   "metadata": {},
   "outputs": [
    {
     "data": {
      "text/html": [
       "<div>\n",
       "<style scoped>\n",
       "    .dataframe tbody tr th:only-of-type {\n",
       "        vertical-align: middle;\n",
       "    }\n",
       "\n",
       "    .dataframe tbody tr th {\n",
       "        vertical-align: top;\n",
       "    }\n",
       "\n",
       "    .dataframe thead th {\n",
       "        text-align: right;\n",
       "    }\n",
       "</style>\n",
       "<table border=\"1\" class=\"dataframe\">\n",
       "  <thead>\n",
       "    <tr style=\"text-align: right;\">\n",
       "      <th></th>\n",
       "      <th>id</th>\n",
       "      <th>title</th>\n",
       "      <th>year</th>\n",
       "      <th>genres</th>\n",
       "      <th>first_three_actors</th>\n",
       "      <th>director</th>\n",
       "      <th>original_language</th>\n",
       "      <th>imdb_id</th>\n",
       "    </tr>\n",
       "  </thead>\n",
       "  <tbody>\n",
       "    <tr>\n",
       "      <th>0</th>\n",
       "      <td>862</td>\n",
       "      <td>Toy Story</td>\n",
       "      <td>1995</td>\n",
       "      <td>Animation, Comedy, Family</td>\n",
       "      <td>Tom Hanks, Tim Allen, Don Rickles</td>\n",
       "      <td>John Lasseter</td>\n",
       "      <td>en</td>\n",
       "      <td>tt0114709</td>\n",
       "    </tr>\n",
       "    <tr>\n",
       "      <th>1</th>\n",
       "      <td>8844</td>\n",
       "      <td>Jumanji</td>\n",
       "      <td>1995</td>\n",
       "      <td>Adventure, Fantasy, Family</td>\n",
       "      <td>Robin Williams, Jonathan Hyde, Kirsten Dunst</td>\n",
       "      <td>Joe Johnston</td>\n",
       "      <td>en</td>\n",
       "      <td>tt0113497</td>\n",
       "    </tr>\n",
       "    <tr>\n",
       "      <th>2</th>\n",
       "      <td>15602</td>\n",
       "      <td>Grumpier Old Men</td>\n",
       "      <td>1995</td>\n",
       "      <td>Romance, Comedy</td>\n",
       "      <td>Walter Matthau, Jack Lemmon, Ann-Margret</td>\n",
       "      <td>Howard Deutch</td>\n",
       "      <td>en</td>\n",
       "      <td>tt0113228</td>\n",
       "    </tr>\n",
       "    <tr>\n",
       "      <th>3</th>\n",
       "      <td>31357</td>\n",
       "      <td>Waiting to Exhale</td>\n",
       "      <td>1995</td>\n",
       "      <td>Comedy, Drama, Romance</td>\n",
       "      <td>Whitney Houston, Angela Bassett, Loretta Devine</td>\n",
       "      <td>Forest Whitaker</td>\n",
       "      <td>en</td>\n",
       "      <td>tt0114885</td>\n",
       "    </tr>\n",
       "    <tr>\n",
       "      <th>4</th>\n",
       "      <td>11862</td>\n",
       "      <td>Father of the Bride Part II</td>\n",
       "      <td>1995</td>\n",
       "      <td>Comedy</td>\n",
       "      <td>Steve Martin, Diane Keaton, Martin Short</td>\n",
       "      <td>Charles Shyer</td>\n",
       "      <td>en</td>\n",
       "      <td>tt0113041</td>\n",
       "    </tr>\n",
       "  </tbody>\n",
       "</table>\n",
       "</div>"
      ],
      "text/plain": [
       "      id                        title  year                      genres  \\\n",
       "0    862                    Toy Story  1995   Animation, Comedy, Family   \n",
       "1   8844                      Jumanji  1995  Adventure, Fantasy, Family   \n",
       "2  15602             Grumpier Old Men  1995             Romance, Comedy   \n",
       "3  31357            Waiting to Exhale  1995      Comedy, Drama, Romance   \n",
       "4  11862  Father of the Bride Part II  1995                      Comedy   \n",
       "\n",
       "                                first_three_actors         director  \\\n",
       "0                Tom Hanks, Tim Allen, Don Rickles    John Lasseter   \n",
       "1     Robin Williams, Jonathan Hyde, Kirsten Dunst     Joe Johnston   \n",
       "2         Walter Matthau, Jack Lemmon, Ann-Margret    Howard Deutch   \n",
       "3  Whitney Houston, Angela Bassett, Loretta Devine  Forest Whitaker   \n",
       "4         Steve Martin, Diane Keaton, Martin Short    Charles Shyer   \n",
       "\n",
       "  original_language    imdb_id  \n",
       "0                en  tt0114709  \n",
       "1                en  tt0113497  \n",
       "2                en  tt0113228  \n",
       "3                en  tt0114885  \n",
       "4                en  tt0113041  "
      ]
     },
     "execution_count": 183,
     "metadata": {},
     "output_type": "execute_result"
    }
   ],
   "source": [
    "clean_data.head()"
   ]
  },
  {
   "cell_type": "code",
   "execution_count": 185,
   "id": "6f984081-e1ed-456d-acb3-6ede58c94abd",
   "metadata": {},
   "outputs": [
    {
     "name": "stdout",
     "output_type": "stream",
     "text": [
      "<class 'pandas.core.frame.DataFrame'>\n",
      "RangeIndex: 45020 entries, 0 to 45019\n",
      "Data columns (total 8 columns):\n",
      " #   Column              Non-Null Count  Dtype \n",
      "---  ------              --------------  ----- \n",
      " 0   id                  45020 non-null  int64 \n",
      " 1   title               45020 non-null  object\n",
      " 2   year                45020 non-null  int64 \n",
      " 3   genres              45020 non-null  object\n",
      " 4   first_three_actors  45020 non-null  object\n",
      " 5   director            45020 non-null  object\n",
      " 6   original_language   45020 non-null  object\n",
      " 7   imdb_id             45020 non-null  object\n",
      "dtypes: int64(2), object(6)\n",
      "memory usage: 2.7+ MB\n"
     ]
    }
   ],
   "source": [
    "clean_data.info()"
   ]
  },
  {
   "cell_type": "markdown",
   "id": "cbac7c75-379b-46f6-b977-52ae21f25ec0",
   "metadata": {},
   "source": [
    "Approximately 440 entries were lost during the preprocessing procedure."
   ]
  }
 ],
 "metadata": {
  "kernelspec": {
   "display_name": "Python 3 (ipykernel)",
   "language": "python",
   "name": "python3"
  },
  "language_info": {
   "codemirror_mode": {
    "name": "ipython",
    "version": 3
   },
   "file_extension": ".py",
   "mimetype": "text/x-python",
   "name": "python",
   "nbconvert_exporter": "python",
   "pygments_lexer": "ipython3",
   "version": "3.11.7"
  }
 },
 "nbformat": 4,
 "nbformat_minor": 5
}
